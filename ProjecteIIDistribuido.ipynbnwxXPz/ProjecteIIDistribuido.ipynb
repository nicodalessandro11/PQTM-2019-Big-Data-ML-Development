{
 "cells": [
  {
   "cell_type": "markdown",
   "metadata": {},
   "source": [
    "<img src=\"imagen.png\"  align=\"left\" style=\"width: 270px;\"/>"
   ]
  },
  {
   "cell_type": "markdown",
   "metadata": {},
   "source": [
    "## Desenvolupament Big Data PQTM 19 "
   ]
  },
  {
   "cell_type": "markdown",
   "metadata": {},
   "source": [
    "### Projecte II : Infraestructures distribuïdes per a Big Data"
   ]
  },
  {
   "cell_type": "markdown",
   "metadata": {},
   "source": [
    "**Alumnos:** Nicolás D'Alessandro y Daniel Benitez García"
   ]
  },
  {
   "cell_type": "markdown",
   "metadata": {},
   "source": [
    "## 00 - Enunciado"
   ]
  },
  {
   "cell_type": "markdown",
   "metadata": {},
   "source": [
    "  - Una institución hospitalaria quiere implementar una solución de Big Data para obtener información valiosa sobre la tipología de enfermos que está tratando. Se propone implementar una solución Big Data para que sea posible crear acceder a los datos y realizar un  tratamiento de la información para obtener inisghts sobre los enfermos.  \n",
    "  \n",
    "  \n",
    "  - Habrá que buscar orígenes de datos abiertos (Open Data) que contengan información en formato archivo y base de datos. Lo que se pretende es determinar si la contaminación del aire es un factor determinante para la generación de alguna enfermedad. En caso de serlo se procesará en tiempo real la contaminación y se determinará cuáles son las enfermedades que se pueden dar con más probabilidad.\n",
    " "
   ]
  },
  {
   "cell_type": "markdown",
   "metadata": {},
   "source": [
    "## PARTE 1: Establecer si la contaminación del Aire es factor determinante en el origen de enfermedades."
   ]
  },
  {
   "cell_type": "markdown",
   "metadata": {},
   "source": [
    "### 00 - Definiciones"
   ]
  },
  {
   "cell_type": "markdown",
   "metadata": {},
   "source": [
    "Para la realización de este proyecto utilizaremos dos metodos diferentes, por un lado aplicaremos <span style=\"font-family: Courier New; background-color: #D3D3D3; color: #000000; padding: 3px; \">ESTADISTICA CLASICA</span> a través de un test de hipótesis (para este caso \"Test Chi Cuadrado - X2\") y por otro lado utilizaremos <span style=\"font-family: Courier New; background-color: #ffcc5c; color: #000000; padding: 3px; \">ESTADISTICA MODERNA</span> a través de un modelo de ML que nos permita analizar la \"feature importance\" de la variable **contaminación del aire**, a fin de observar si la misma contribuye hacia la \"predicción\" de **Enfermedades**, lo que significará que esta variable aporta información estadística importante sobre nuestro target."
   ]
  },
  {
   "cell_type": "markdown",
   "metadata": {},
   "source": [
    "### 01 - Test estadístico"
   ]
  },
  {
   "cell_type": "markdown",
   "metadata": {},
   "source": [
    "    \n",
    "        \n",
    "        \n",
    "   - Escogeremos la prueba de **Chi Cuadrado** <span style=\"font-family: Courier New; background-color: #D3D3D3; color: #000000; padding: 3px; \">X2</span> para evaluar hipótesis acerca de la relación entre dos variables.  Hipótesis a probar : Correlaciónales -> <span style=\"font-family: Courier New; background-color: #D3D3D3; color: #000000; padding: 3px; \">H0</span> : no hay asociación  y  <span style=\"font-family: Courier New; background-color: #D3D3D3; color: #000000; padding: 3px; \">H1</span>   hay asociación. El análisis estadístico se aplicará a los indicadores para determinar si hay algún cambio a lo largo del tiempo y si los mismos son **estadísticamente significativos**.  \n",
    "   "
   ]
  },
  {
   "cell_type": "markdown",
   "metadata": {},
   "source": [
    "#### **PASO 1:** Proponer las Hipótesis"
   ]
  },
  {
   "cell_type": "markdown",
   "metadata": {},
   "source": [
    "<span style=\"font-family: Courier New; background-color: #ffcc5c; color: #000000; padding: 3px; \">H0</span>: Las variables **Enfermedades** y **Contaminación del Aire** son independientes.  \n",
    "\n",
    "<span style=\"font-family: Courier New; background-color: #f87900; color: #000000; padding: 3px; \">H1</span>: Las variables **Enfermedades** y **Contaminación del Aire** son dependientes, por lo tanto la contaminación del aire es un valor determinante en la generación de enfermedades."
   ]
  },
  {
   "cell_type": "markdown",
   "metadata": {},
   "source": [
    "<img src=\"aceptacion.png\"  align=\"center\" style=\"width: 600px;\"/>"
   ]
  },
  {
   "cell_type": "markdown",
   "metadata": {},
   "source": [
    "#### **PASO 2:** Especificar \"$\\alpha$\"  (Nivel de Significancia)"
   ]
  },
  {
   "cell_type": "markdown",
   "metadata": {},
   "source": [
    "<span style=\"font-family: Courier New; background-color: #82b74b; color: #000000; padding: 4px; \">$\\alpha$</span> = 0,05 \n",
    "  \n",
    "  \n",
    "Utilizaremos un nivel de significancia del 5% (p <0.05), lo que implica que la conclusión de significancia se realizará solo cuando no hay más de un 5% de probabilidad de que el cambio observado en el tiempo haya ocurrido al azar. "
   ]
  },
  {
   "cell_type": "markdown",
   "metadata": {},
   "source": [
    "#### a: Antes de comenzar importamos las librerias necesarias para realizar el trabajo"
   ]
  },
  {
   "cell_type": "code",
   "execution_count": 4,
   "metadata": {
    "collapsed": false
   },
   "outputs": [],
   "source": [
    "import os\n",
    "import sys\n",
    "\n",
    "spark_path = \"/usr/lib/spark\"\n",
    "\n",
    "os.environ['SPARK_HOME'] = spark_path\n",
    "os.environ['HADOOP_HOME'] = spark_path\n",
    "\n",
    "sys.path.append(spark_path + \"/bin\")\n",
    "sys.path.append(spark_path + \"/python\")\n",
    "sys.path.append(spark_path + \"/python/pyspark/\")\n",
    "sys.path.append(spark_path + \"/python/lib\")\n",
    "sys.path.append(spark_path + \"/python/lib/pyspark.zip\")\n",
    "sys.path.append(spark_path + \"/python/lib/py4j-0.8.2.1-src.zip\")\n",
    "\n",
    "#Pyspark Imports\n",
    "stdout = sys.stdout\n",
    "reload(sys)\n",
    "sys.setdefaultencoding('utf-8')\n",
    "sys.stdout = stdout\n",
    "from pyspark.sql import HiveContext\n",
    "import pyspark.sql.functions as F\n",
    "\n",
    "hiveContext = HiveContext(sc)\n",
    "from pyspark.sql import Row\n",
    "from pyspark.sql.functions import col\n",
    "from pyspark.sql.types import IntegerType\n",
    "\n",
    "#from pyspark.mllib.clustering import KMeans, KMeansModel\n",
    "#from numpy import array\n",
    "#from math import sqrt"
   ]
  },
  {
   "cell_type": "code",
   "execution_count": 29,
   "metadata": {
    "collapsed": false
   },
   "outputs": [],
   "source": [
    "import pandas as pd\n",
    "import numpy as np\n",
    "\n",
    "from scipy.spatial.distance import cdist\n",
    "from matplotlib import pyplot as plt\n"
   ]
  },
  {
   "cell_type": "markdown",
   "metadata": {},
   "source": [
    "Hay que instalar panda en la máquiina de CDH por ello hay que instalar previamente anaconda"
   ]
  },
  {
   "cell_type": "markdown",
   "metadata": {},
   "source": [
    "#### b: GENERACIÓN DEL DATASET PARA TEST DE HIPÓTESIS"
   ]
  },
  {
   "cell_type": "markdown",
   "metadata": {},
   "source": [
    "    ### DATASET 01: HeathRiskCountryAirPollutionTabaccoDiseases"
   ]
  },
  {
   "cell_type": "code",
   "execution_count": 6,
   "metadata": {
    "collapsed": false
   },
   "outputs": [],
   "source": [
    "deathsByCountryFile=sc.textFile(\"HeathRiskCountryAirPollutionTabaccoDiseases.csv\")\n",
    "deathsByCountry=deathsByCountryFile.map(lambda line: line.replace(\"Tracheal, bronchus, and lung cancer\", \"Tracheal bronchus and lung cancer\"))\\\n",
    ".map(lambda line:line.split(\",\"))\\\n",
    ".filter(lambda fields:fields[3] in (\"Slovenia\",\"United States\"))\\\n",
    ".filter(lambda fields:fields[11] not in (\"Secondhand smoke\",\"Tobacco\",\"Smoking\"))\\\n",
    ".map(lambda fields:((fields[3],fields[14]),(fields[15])))"
   ]
  },
  {
   "cell_type": "code",
   "execution_count": 7,
   "metadata": {
    "collapsed": false,
    "scrolled": true
   },
   "outputs": [
    {
     "name": "stdout",
     "output_type": "stream",
     "text": [
      "Country  Year Illness\n",
      "Slovenia 1990 187    \n",
      "Slovenia 1991 543    \n",
      "Slovenia 1992 499    \n",
      "Slovenia 1993 529    \n",
      "Slovenia 1994 142    \n"
     ]
    }
   ],
   "source": [
    "schemaDeathsByCountry = hiveContext.inferSchema(deathsByCountry)\\\n",
    ".withColumnRenamed(\"_1\",\"id\").withColumnRenamed(\"_2\",\"Value\")\n",
    "deathsByCountryData=schemaDeathsByCountry.select(F.col(\"id._1\")\\\n",
    ".alias(\"Country\"),F.col(\"id._2\").alias(\"Year\"),\\\n",
    "F.col(\"Value\").alias(\"Value\").cast(\"int\"))\\\n",
    ".groupBy(\"Country\",\"Year\").sum(\"Value\").orderBy(\"Country\",\"Year\")\n",
    "deathsByCountryData=deathsByCountryData.withColumnRenamed(deathsByCountryData.columns[2],\"Illness\")\n",
    "deathsByCountryData.show(5)"
   ]
  },
  {
   "cell_type": "markdown",
   "metadata": {},
   "source": [
    "    ### DATASET 02: PollutionEmmisionsManMadeByCountryAnualSeries"
   ]
  },
  {
   "cell_type": "code",
   "execution_count": 8,
   "metadata": {
    "collapsed": false
   },
   "outputs": [],
   "source": [
    "pollutionEmisionByCountryFile=sc.textFile(\"PollutionEmmisionsManMadeByCountryAnualSeries.csv\")\n",
    "pollutionEmisionByCountry=pollutionEmisionByCountryFile\\\n",
    ".map(lambda line: line.replace(\"Total emissions, Index 1990 = 100\",\"Total emissions Index 1990 = 100\"))\\\n",
    ".map(lambda line: line.replace(\"Total emissions per unit of GDP, Kg per 1000 USD\",\"Total emissions per unit of GDP Kg per 1000 USD\"))\\\n",
    ".map(lambda line: line.replace(\"Total emissions, Index 2000 = 100\",\"Total emissions Index 2000 = 100\"))\\\n",
    ".map(lambda line:line.replace(\"\\\"\",\"\"))\\\n",
    ".map(lambda line:line.split(\",\"))\\\n",
    ".filter(lambda fields:fields[1] in (\"Slovenia\",\"United States\"))\\\n",
    ".map(lambda fields:((fields[1],fields[6]),fields[14]))"
   ]
  },
  {
   "cell_type": "code",
   "execution_count": 9,
   "metadata": {
    "collapsed": false
   },
   "outputs": [
    {
     "name": "stdout",
     "output_type": "stream",
     "text": [
      "Country  Year Contamination\n",
      "Slovenia 1990 304.436      \n",
      "Slovenia 1991 285.58       \n",
      "Slovenia 1992 275.236      \n",
      "Slovenia 1993 289.02       \n",
      "Slovenia 1994 281.972      \n"
     ]
    }
   ],
   "source": [
    "schemaPollutionEmisionByCountry = hiveContext.inferSchema(pollutionEmisionByCountry)\\\n",
    ".withColumnRenamed(\"_1\",\"id\").withColumnRenamed(\"_2\",\"Value\")\n",
    "pollutionEmisionByCountryData=schemaPollutionEmisionByCountry.select(F.col(\"id._1\")\\\n",
    ".alias(\"Country\"),F.col(\"id._2\").alias(\"Year\"),\\\n",
    "F.col(\"Value\").alias(\"Value\").cast(\"float\"))\\\n",
    ".groupBy(\"Country\",\"Year\").max(\"Value\").orderBy(\"Country\",\"Year\")\n",
    "pollutionEmisionByCountryData=pollutionEmisionByCountryData.withColumnRenamed(pollutionEmisionByCountryData.columns[2],\"Contamination\" )\n",
    "pollutionEmisionByCountryData.show(5)"
   ]
  },
  {
   "cell_type": "code",
   "execution_count": 10,
   "metadata": {
    "collapsed": false
   },
   "outputs": [
    {
     "name": "stdout",
     "output_type": "stream",
     "text": [
      "Country  Year Illness Contamination\n",
      "Slovenia 1990 187     304.436      \n",
      "Slovenia 1991 543     285.58       \n",
      "Slovenia 1992 499     275.236      \n",
      "Slovenia 1993 529     289.02       \n",
      "Slovenia 1994 142     281.972      \n"
     ]
    }
   ],
   "source": [
    "joinTables=deathsByCountryData.join\\\n",
    "(pollutionEmisionByCountryData,(pollutionEmisionByCountryData.Country==deathsByCountryData.Country) & \\\n",
    "(pollutionEmisionByCountryData.Year==deathsByCountryData.Year))\\\n",
    ".select(deathsByCountryData.Country,deathsByCountryData.Year,\\\n",
    "       deathsByCountryData.Illness,pollutionEmisionByCountryData.Contamination).orderBy(\"Country\",\"Year\")\n",
    "joinTables.show(5)"
   ]
  },
  {
   "cell_type": "markdown",
   "metadata": {},
   "source": [
    "    ### Graficamos las dimensiones contaminación y enfermedades para observar si hay clusters "
   ]
  },
  {
   "cell_type": "markdown",
   "metadata": {},
   "source": [
    "Preparamos datos en Hive para zeppelin"
   ]
  },
  {
   "cell_type": "code",
   "execution_count": 11,
   "metadata": {
    "collapsed": false
   },
   "outputs": [
    {
     "data": {
      "text/plain": [
       "DataFrame[]"
      ]
     },
     "execution_count": 11,
     "metadata": {},
     "output_type": "execute_result"
    }
   ],
   "source": [
    "joinTables.registerTempTable(\"tbl_tmp\")\n",
    "hiveContext.sql(\"drop table if exists contamination_illness\")\n",
    "hiveContext.sql(\"Create table contamination_illness as select * from tbl_tmp\")"
   ]
  },
  {
   "cell_type": "markdown",
   "metadata": {},
   "source": [
    "<img src=\"Hive.png\"  align=\"center\" style=\"width: 900px;\"/>"
   ]
  },
  {
   "cell_type": "markdown",
   "metadata": {},
   "source": [
    "<img src=\"Zeppelin.png\"  align=\"center\" style=\"width: 1000px;\"/>"
   ]
  },
  {
   "cell_type": "markdown",
   "metadata": {},
   "source": [
    "    ### Seleccionamos el mejor numeo de K utilizando \"elbow method\" con 'Distortion' y 'Inertia'"
   ]
  },
  {
   "cell_type": "code",
   "execution_count": 12,
   "metadata": {
    "collapsed": false
   },
   "outputs": [],
   "source": [
    "df=joinTables.select(F.col(\"illness\"),F.col(\"Contamination\"))"
   ]
  },
  {
   "cell_type": "code",
   "execution_count": 19,
   "metadata": {
    "collapsed": false
   },
   "outputs": [],
   "source": [
    "# ML models\n",
    "#from sklearn.linear_model import LinearRegression\n",
    "#from sklearn.linear_model import LassoCV,Lasso\n",
    "#from sklearn.metrics import mean_squared_error\n",
    "#from catboost import Pool, CatBoostRegressor\n",
    "from sklearn.cluster import KMeans\n",
    "import sklearn as sk\n"
   ]
  },
  {
   "cell_type": "code",
   "execution_count": 30,
   "metadata": {
    "collapsed": false
   },
   "outputs": [],
   "source": [
    "distortions = [] \n",
    "inertias = [] \n",
    "k_range = range(1,15) \n",
    " \n",
    "df_kmeans=df.select(\"*\").toPandas()\n",
    "\n",
    "for k in k_range:  \n",
    "    kmeanModel = KMeans(n_clusters=k)\n",
    "    kmeanModel.fit(df_kmeans)     \n",
    "      \n",
    "    distortions.append(sum(np.min(cdist(df_kmeans, kmeanModel.cluster_centers_, \n",
    "                      'euclidean'),axis=1)) / df_kmeans.shape[0]) \n",
    "    inertias.append(kmeanModel.inertia_) \n",
    "    \n",
    "plt.style.use('ggplot')\n",
    "\n",
    "fig0 = plt.figure(figsize=(8, 8))\n",
    "ax0 = fig0.add_subplot(211)\n",
    "\n",
    "ax0.plot(k_range, distortions, 'bx-') \n",
    "ax0.set_title('Select best K using The Elbow Method with Distortions') \n",
    "ax0.set_xlabel('Values of K') \n",
    "ax0.set_ylabel('Distortion') \n",
    "plt.show() \n",
    "\n",
    "fig1 = plt.figure(figsize=(8, 8))\n",
    "ax1 = fig1.add_subplot(211)\n",
    "\n",
    "ax1.plot(k_range, inertias, 'bx-') \n",
    "ax1.set_title('Select best K using The Elbow Method with Inertia') \n",
    "ax1.set_xlabel('Values of K') \n",
    "ax1.set_ylabel('Inertia') \n",
    "plt.show() "
   ]
  },
  {
   "cell_type": "markdown",
   "metadata": {},
   "source": [
    "    ### Realizamos el k-means con el número óptimo de clusters elegidos"
   ]
  },
  {
   "cell_type": "code",
   "execution_count": 33,
   "metadata": {
    "collapsed": false
   },
   "outputs": [
    {
     "ename": "ValueError",
     "evalue": "setting an array element with a sequence.",
     "output_type": "error",
     "traceback": [
      "\u001b[1;31m---------------------------------------------------------------------------\u001b[0m",
      "\u001b[1;31mValueError\u001b[0m                                Traceback (most recent call last)",
      "\u001b[1;32m<ipython-input-33-0a82c56237b5>\u001b[0m in \u001b[0;36m<module>\u001b[1;34m()\u001b[0m\n\u001b[1;32m----> 1\u001b[1;33m \u001b[0mkmeans\u001b[0m \u001b[1;33m=\u001b[0m \u001b[0mKMeans\u001b[0m\u001b[1;33m(\u001b[0m\u001b[0mn_clusters\u001b[0m\u001b[1;33m=\u001b[0m\u001b[1;36m3\u001b[0m\u001b[1;33m,\u001b[0m \u001b[0mrandom_state\u001b[0m\u001b[1;33m=\u001b[0m\u001b[1;36m0\u001b[0m\u001b[1;33m)\u001b[0m\u001b[1;33m.\u001b[0m\u001b[0mfit\u001b[0m\u001b[1;33m(\u001b[0m\u001b[0mdf\u001b[0m\u001b[1;33m)\u001b[0m\u001b[1;33m\u001b[0m\u001b[0m\n\u001b[0m\u001b[0;32m      2\u001b[0m \u001b[0mCenters\u001b[0m \u001b[1;33m=\u001b[0m \u001b[0mkmeans\u001b[0m\u001b[1;33m.\u001b[0m\u001b[0mcluster_centers_\u001b[0m\u001b[1;33m\u001b[0m\u001b[0m\n\u001b[0;32m      3\u001b[0m \u001b[0mpredictions\u001b[0m \u001b[1;33m=\u001b[0m \u001b[0mkmeans\u001b[0m\u001b[1;33m.\u001b[0m\u001b[0mpredict\u001b[0m\u001b[1;33m(\u001b[0m\u001b[0mdf\u001b[0m\u001b[1;33m)\u001b[0m\u001b[1;33m\u001b[0m\u001b[0m\n",
      "\u001b[1;32m/home/training/anaconda/lib/python2.7/site-packages/sklearn/cluster/k_means_.pyc\u001b[0m in \u001b[0;36mfit\u001b[1;34m(self, X, y)\u001b[0m\n\u001b[0;32m    722\u001b[0m         \"\"\"\n\u001b[0;32m    723\u001b[0m         \u001b[0mrandom_state\u001b[0m \u001b[1;33m=\u001b[0m \u001b[0mcheck_random_state\u001b[0m\u001b[1;33m(\u001b[0m\u001b[0mself\u001b[0m\u001b[1;33m.\u001b[0m\u001b[0mrandom_state\u001b[0m\u001b[1;33m)\u001b[0m\u001b[1;33m\u001b[0m\u001b[0m\n\u001b[1;32m--> 724\u001b[1;33m         \u001b[0mX\u001b[0m \u001b[1;33m=\u001b[0m \u001b[0mself\u001b[0m\u001b[1;33m.\u001b[0m\u001b[0m_check_fit_data\u001b[0m\u001b[1;33m(\u001b[0m\u001b[0mX\u001b[0m\u001b[1;33m)\u001b[0m\u001b[1;33m\u001b[0m\u001b[0m\n\u001b[0m\u001b[0;32m    725\u001b[0m \u001b[1;33m\u001b[0m\u001b[0m\n\u001b[0;32m    726\u001b[0m         self.cluster_centers_, self.labels_, self.inertia_ = k_means(\n",
      "\u001b[1;32m/home/training/anaconda/lib/python2.7/site-packages/sklearn/cluster/k_means_.pyc\u001b[0m in \u001b[0;36m_check_fit_data\u001b[1;34m(self, X)\u001b[0m\n\u001b[0;32m    688\u001b[0m     \u001b[1;32mdef\u001b[0m \u001b[0m_check_fit_data\u001b[0m\u001b[1;33m(\u001b[0m\u001b[0mself\u001b[0m\u001b[1;33m,\u001b[0m \u001b[0mX\u001b[0m\u001b[1;33m)\u001b[0m\u001b[1;33m:\u001b[0m\u001b[1;33m\u001b[0m\u001b[0m\n\u001b[0;32m    689\u001b[0m         \u001b[1;34m\"\"\"Verify that the number of samples given is larger than k\"\"\"\u001b[0m\u001b[1;33m\u001b[0m\u001b[0m\n\u001b[1;32m--> 690\u001b[1;33m         \u001b[0mX\u001b[0m \u001b[1;33m=\u001b[0m \u001b[0matleast2d_or_csr\u001b[0m\u001b[1;33m(\u001b[0m\u001b[0mX\u001b[0m\u001b[1;33m,\u001b[0m \u001b[0mdtype\u001b[0m\u001b[1;33m=\u001b[0m\u001b[0mnp\u001b[0m\u001b[1;33m.\u001b[0m\u001b[0mfloat64\u001b[0m\u001b[1;33m)\u001b[0m\u001b[1;33m\u001b[0m\u001b[0m\n\u001b[0m\u001b[0;32m    691\u001b[0m         \u001b[1;32mif\u001b[0m \u001b[0mX\u001b[0m\u001b[1;33m.\u001b[0m\u001b[0mshape\u001b[0m\u001b[1;33m[\u001b[0m\u001b[1;36m0\u001b[0m\u001b[1;33m]\u001b[0m \u001b[1;33m<\u001b[0m \u001b[0mself\u001b[0m\u001b[1;33m.\u001b[0m\u001b[0mn_clusters\u001b[0m\u001b[1;33m:\u001b[0m\u001b[1;33m\u001b[0m\u001b[0m\n\u001b[0;32m    692\u001b[0m             raise ValueError(\"n_samples=%d should be >= n_clusters=%d\" % (\n",
      "\u001b[1;32m/home/training/anaconda/lib/python2.7/site-packages/sklearn/utils/validation.pyc\u001b[0m in \u001b[0;36matleast2d_or_csr\u001b[1;34m(X, dtype, order, copy, force_all_finite)\u001b[0m\n\u001b[0;32m    163\u001b[0m     return _atleast2d_or_sparse(X, dtype, order, copy, sp.csr_matrix,\n\u001b[0;32m    164\u001b[0m                                 \u001b[1;34m\"tocsr\"\u001b[0m\u001b[1;33m,\u001b[0m \u001b[0msp\u001b[0m\u001b[1;33m.\u001b[0m\u001b[0misspmatrix_csr\u001b[0m\u001b[1;33m,\u001b[0m\u001b[1;33m\u001b[0m\u001b[0m\n\u001b[1;32m--> 165\u001b[1;33m                                 force_all_finite)\n\u001b[0m\u001b[0;32m    166\u001b[0m \u001b[1;33m\u001b[0m\u001b[0m\n\u001b[0;32m    167\u001b[0m \u001b[1;33m\u001b[0m\u001b[0m\n",
      "\u001b[1;32m/home/training/anaconda/lib/python2.7/site-packages/sklearn/utils/validation.pyc\u001b[0m in \u001b[0;36m_atleast2d_or_sparse\u001b[1;34m(X, dtype, order, copy, sparse_class, convmethod, check_same_type, force_all_finite)\u001b[0m\n\u001b[0;32m    140\u001b[0m     \u001b[1;32melse\u001b[0m\u001b[1;33m:\u001b[0m\u001b[1;33m\u001b[0m\u001b[0m\n\u001b[0;32m    141\u001b[0m         X = array2d(X, dtype=dtype, order=order, copy=copy,\n\u001b[1;32m--> 142\u001b[1;33m                     force_all_finite=force_all_finite)\n\u001b[0m\u001b[0;32m    143\u001b[0m     \u001b[1;32mreturn\u001b[0m \u001b[0mX\u001b[0m\u001b[1;33m\u001b[0m\u001b[0m\n\u001b[0;32m    144\u001b[0m \u001b[1;33m\u001b[0m\u001b[0m\n",
      "\u001b[1;32m/home/training/anaconda/lib/python2.7/site-packages/sklearn/utils/validation.pyc\u001b[0m in \u001b[0;36marray2d\u001b[1;34m(X, dtype, order, copy, force_all_finite)\u001b[0m\n\u001b[0;32m    118\u001b[0m         raise TypeError('A sparse matrix was passed, but dense data '\n\u001b[0;32m    119\u001b[0m                         'is required. Use X.toarray() to convert to dense.')\n\u001b[1;32m--> 120\u001b[1;33m     \u001b[0mX_2d\u001b[0m \u001b[1;33m=\u001b[0m \u001b[0mnp\u001b[0m\u001b[1;33m.\u001b[0m\u001b[0masarray\u001b[0m\u001b[1;33m(\u001b[0m\u001b[0mnp\u001b[0m\u001b[1;33m.\u001b[0m\u001b[0matleast_2d\u001b[0m\u001b[1;33m(\u001b[0m\u001b[0mX\u001b[0m\u001b[1;33m)\u001b[0m\u001b[1;33m,\u001b[0m \u001b[0mdtype\u001b[0m\u001b[1;33m=\u001b[0m\u001b[0mdtype\u001b[0m\u001b[1;33m,\u001b[0m \u001b[0morder\u001b[0m\u001b[1;33m=\u001b[0m\u001b[0morder\u001b[0m\u001b[1;33m)\u001b[0m\u001b[1;33m\u001b[0m\u001b[0m\n\u001b[0m\u001b[0;32m    121\u001b[0m     \u001b[1;32mif\u001b[0m \u001b[0mforce_all_finite\u001b[0m\u001b[1;33m:\u001b[0m\u001b[1;33m\u001b[0m\u001b[0m\n\u001b[0;32m    122\u001b[0m         \u001b[0m_assert_all_finite\u001b[0m\u001b[1;33m(\u001b[0m\u001b[0mX_2d\u001b[0m\u001b[1;33m)\u001b[0m\u001b[1;33m\u001b[0m\u001b[0m\n",
      "\u001b[1;32m/home/training/anaconda/lib/python2.7/site-packages/numpy/core/numeric.pyc\u001b[0m in \u001b[0;36masarray\u001b[1;34m(a, dtype, order)\u001b[0m\n\u001b[0;32m    460\u001b[0m \u001b[1;33m\u001b[0m\u001b[0m\n\u001b[0;32m    461\u001b[0m     \"\"\"\n\u001b[1;32m--> 462\u001b[1;33m     \u001b[1;32mreturn\u001b[0m \u001b[0marray\u001b[0m\u001b[1;33m(\u001b[0m\u001b[0ma\u001b[0m\u001b[1;33m,\u001b[0m \u001b[0mdtype\u001b[0m\u001b[1;33m,\u001b[0m \u001b[0mcopy\u001b[0m\u001b[1;33m=\u001b[0m\u001b[0mFalse\u001b[0m\u001b[1;33m,\u001b[0m \u001b[0morder\u001b[0m\u001b[1;33m=\u001b[0m\u001b[0morder\u001b[0m\u001b[1;33m)\u001b[0m\u001b[1;33m\u001b[0m\u001b[0m\n\u001b[0m\u001b[0;32m    463\u001b[0m \u001b[1;33m\u001b[0m\u001b[0m\n\u001b[0;32m    464\u001b[0m \u001b[1;32mdef\u001b[0m \u001b[0masanyarray\u001b[0m\u001b[1;33m(\u001b[0m\u001b[0ma\u001b[0m\u001b[1;33m,\u001b[0m \u001b[0mdtype\u001b[0m\u001b[1;33m=\u001b[0m\u001b[0mNone\u001b[0m\u001b[1;33m,\u001b[0m \u001b[0morder\u001b[0m\u001b[1;33m=\u001b[0m\u001b[0mNone\u001b[0m\u001b[1;33m)\u001b[0m\u001b[1;33m:\u001b[0m\u001b[1;33m\u001b[0m\u001b[0m\n",
      "\u001b[1;31mValueError\u001b[0m: setting an array element with a sequence."
     ]
    }
   ],
   "source": [
    "kmeans = KMeans(n_clusters=3, random_state=0).fit(df)\n",
    "Centers = kmeans.cluster_centers_\n",
    "predictions = kmeans.predict(df)"
   ]
  },
  {
   "cell_type": "markdown",
   "metadata": {},
   "source": [
    "    ### Anexamos la columna con el cluster al dataframe original"
   ]
  },
  {
   "cell_type": "code",
   "execution_count": 11,
   "metadata": {
    "collapsed": true
   },
   "outputs": [],
   "source": [
    "df = pd.concat([df.reset_index(), pd.DataFrame({'Group': predictions})], axis=1)"
   ]
  },
  {
   "cell_type": "markdown",
   "metadata": {},
   "source": [
    "    ### Graficamos los clusters"
   ]
  },
  {
   "cell_type": "code",
   "execution_count": 12,
   "metadata": {
    "collapsed": false
   },
   "outputs": [
    {
     "data": {
      "text/plain": [
       "<matplotlib.collections.PathCollection at 0x1a216c3650>"
      ]
     },
     "execution_count": 12,
     "metadata": {},
     "output_type": "execute_result"
    },
    {
     "data": {
      "image/png": "[encoded data removed]",
      "text/plain": [
       "<Figure size 576x576 with 1 Axes>"
      ]
     },
     "metadata": {},
     "output_type": "display_data"
    }
   ],
   "source": [
    "plt.style.use('ggplot')\n",
    "\n",
    "fig = plt.figure(figsize=(8, 8))\n",
    "ax = fig.add_subplot(111)\n",
    "\n",
    "ax.set_title('Clusters')\n",
    "ax.set_xlabel('contamination', fontsize =  'x-large')\n",
    "ax.set_ylabel('illness', fontsize =  'x-large')\n",
    "\n",
    "ax.scatter(df['contamination'], df['illness'], c = df['Group'], s=50, alpha = 0.7)"
   ]
  },
  {
   "cell_type": "markdown",
   "metadata": {},
   "source": [
    "#### **PASO 3**: Elaboramos nuesta tabla de contingencia"
   ]
  },
  {
   "cell_type": "markdown",
   "metadata": {},
   "source": [
    "<img src=\"contingencia.png\"  align=\"center\" style=\"width: 600px;\"/>"
   ]
  },
  {
   "cell_type": "code",
   "execution_count": 13,
   "metadata": {
    "collapsed": false
   },
   "outputs": [
    {
     "data": {
      "text/html": [
       "<div>\n",
       "<style scoped>\n",
       "    .dataframe tbody tr th:only-of-type {\n",
       "        vertical-align: middle;\n",
       "    }\n",
       "\n",
       "    .dataframe tbody tr th {\n",
       "        vertical-align: top;\n",
       "    }\n",
       "\n",
       "    .dataframe thead th {\n",
       "        text-align: right;\n",
       "    }\n",
       "</style>\n",
       "<table border=\"1\" class=\"dataframe\">\n",
       "  <thead>\n",
       "    <tr style=\"text-align: right;\">\n",
       "      <th></th>\n",
       "      <th>contamination</th>\n",
       "      <th>illness</th>\n",
       "    </tr>\n",
       "    <tr>\n",
       "      <th>country</th>\n",
       "      <th></th>\n",
       "      <th></th>\n",
       "    </tr>\n",
       "  </thead>\n",
       "  <tbody>\n",
       "    <tr>\n",
       "      <td>Slovenia</td>\n",
       "      <td>304.436</td>\n",
       "      <td>10206</td>\n",
       "    </tr>\n",
       "    <tr>\n",
       "      <td>United States</td>\n",
       "      <td>130278.132</td>\n",
       "      <td>738131</td>\n",
       "    </tr>\n",
       "  </tbody>\n",
       "</table>\n",
       "</div>"
      ],
      "text/plain": [
       "               contamination  illness\n",
       "country                              \n",
       "Slovenia             304.436    10206\n",
       "United States     130278.132   738131"
      ]
     },
     "execution_count": 13,
     "metadata": {},
     "output_type": "execute_result"
    }
   ],
   "source": [
    "df_test = df_test.groupby('country').agg({'contamination':'max', 'illness':'sum'})\n",
    "df_test.reset_index()\n",
    "df_test"
   ]
  },
  {
   "cell_type": "code",
   "execution_count": 354,
   "metadata": {
    "collapsed": false
   },
   "outputs": [
    {
     "name": "stdout",
     "output_type": "stream",
     "text": [
      "Country       MAX(Contamination#3630) SUM(Illness#3655L)\n",
      "Slovenia      130278.13               19316             \n",
      "United States 130278.13               1474812           \n"
     ]
    }
   ],
   "source": [
    "contingencia=joinTables.groupBy('Country').agg({'Contamination':'max', 'Illness':'sum'})\n",
    "contingencia.show()"
   ]
  },
  {
   "cell_type": "markdown",
   "metadata": {},
   "source": [
    "#### **PASO 4:** Especificar \"***V***\"  (Grados de libertad)"
   ]
  },
  {
   "cell_type": "markdown",
   "metadata": {},
   "source": [
    "<img src=\"chi2.gif\"  align=\"left\" style=\"width: 15px;\"/> = K-1-m = 2 - 1 = **1**\n",
    "\n",
    "*K = número de clasificaciones en el problema.  \n",
    "*m = número de parámetros estimados a partir de los datos muestrales para obtener los valores esperados."
   ]
  },
  {
   "cell_type": "markdown",
   "metadata": {},
   "source": [
    "#### **PASO 5:** Calcular valores crítico y de prueba"
   ]
  },
  {
   "cell_type": "markdown",
   "metadata": {},
   "source": [
    "<img src=\"chi1.gif\"  align=\"center\" style=\"width: 400px;\"/>"
   ]
  },
  {
   "cell_type": "code",
   "execution_count": 82,
   "metadata": {
    "collapsed": true
   },
   "outputs": [],
   "source": [
    "#utilizamos la librería sikit learn para obetener dichos valores. PENDIENTE FINALIZAR"
   ]
  },
  {
   "cell_type": "markdown",
   "metadata": {},
   "source": [
    "#### **PASO 5:** Decisión y Conclusión  "
   ]
  },
  {
   "cell_type": "markdown",
   "metadata": {},
   "source": [
    "<span style=\"font-family: Courier New; background-color: #ffcc5c; color: #000000; padding: 3px; \">DECISIÓN</span>: Se rechaza la hipótesis nula y se acepta la hipótesis alternativa  \n",
    "  \n",
    "<span style=\"font-family: Courier New; background-color: #f80000; color: #000000; padding: 3px; \">CONCLUSIÓN</span>: Luego de realizar nuestro test de hipótesis para comprobar la relación entre las variables propuestas con la evidencia muestral seleccionada, podemos concluir que la exposición a la contaminación del aire es factor determinante en el origen de enfermedades."
   ]
  },
  {
   "cell_type": "markdown",
   "metadata": {},
   "source": [
    "## 02 - Construcción de un Modelo de Machine Learning"
   ]
  },
  {
   "cell_type": "markdown",
   "metadata": {},
   "source": [
    "#### a: GENERACIÓN DEL DATASET PARA MODELO DE ML"
   ]
  },
  {
   "cell_type": "markdown",
   "metadata": {},
   "source": [
    "    ### DATASET 01: HeathRiskCountryAirPollutionTabaccoDiseases"
   ]
  },
  {
   "cell_type": "code",
   "execution_count": 15,
   "metadata": {
    "collapsed": true
   },
   "outputs": [],
   "source": [
    "ml2 = pd.read_csv('HEALTH_STAT_07122019003230420.csv')\n",
    "ml2 = ml2[ml2['Variable'] == 'Total population at birth']"
   ]
  },
  {
   "cell_type": "code",
   "execution_count": 16,
   "metadata": {
    "collapsed": false
   },
   "outputs": [
    {
     "data": {
      "text/html": [
       "<div>\n",
       "<style scoped>\n",
       "    .dataframe tbody tr th:only-of-type {\n",
       "        vertical-align: middle;\n",
       "    }\n",
       "\n",
       "    .dataframe tbody tr th {\n",
       "        vertical-align: top;\n",
       "    }\n",
       "\n",
       "    .dataframe thead th {\n",
       "        text-align: right;\n",
       "    }\n",
       "</style>\n",
       "<table border=\"1\" class=\"dataframe\">\n",
       "  <thead>\n",
       "    <tr style=\"text-align: right;\">\n",
       "      <th></th>\n",
       "      <th>country</th>\n",
       "      <th>year</th>\n",
       "      <th>life_expect_ml</th>\n",
       "    </tr>\n",
       "  </thead>\n",
       "  <tbody>\n",
       "    <tr>\n",
       "      <td>0</td>\n",
       "      <td>Australia</td>\n",
       "      <td>1990</td>\n",
       "      <td>77.0</td>\n",
       "    </tr>\n",
       "    <tr>\n",
       "      <td>1</td>\n",
       "      <td>Australia</td>\n",
       "      <td>1991</td>\n",
       "      <td>77.4</td>\n",
       "    </tr>\n",
       "    <tr>\n",
       "      <td>2</td>\n",
       "      <td>Australia</td>\n",
       "      <td>1992</td>\n",
       "      <td>77.5</td>\n",
       "    </tr>\n",
       "    <tr>\n",
       "      <td>3</td>\n",
       "      <td>Australia</td>\n",
       "      <td>1993</td>\n",
       "      <td>78.0</td>\n",
       "    </tr>\n",
       "    <tr>\n",
       "      <td>4</td>\n",
       "      <td>Australia</td>\n",
       "      <td>1994</td>\n",
       "      <td>78.0</td>\n",
       "    </tr>\n",
       "  </tbody>\n",
       "</table>\n",
       "</div>"
      ],
      "text/plain": [
       "     country  year  life_expect_ml\n",
       "0  Australia  1990            77.0\n",
       "1  Australia  1991            77.4\n",
       "2  Australia  1992            77.5\n",
       "3  Australia  1993            78.0\n",
       "4  Australia  1994            78.0"
      ]
     },
     "execution_count": 16,
     "metadata": {},
     "output_type": "execute_result"
    }
   ],
   "source": [
    "life_expect_ml = ml2.groupby(['Country', 'Year']).agg({'Value':'mean'})\n",
    "life_expect_ml = life_expect_ml.reset_index()\n",
    "life_expect_ml = life_expect_ml.rename(columns={'Country': 'country', 'Year':'year','Value':'life_expect_ml'})\n",
    "life_expect_ml.head()"
   ]
  },
  {
   "cell_type": "markdown",
   "metadata": {},
   "source": [
    "    ### DATASET 02: HistorialPopulation1990_2017PerCountry"
   ]
  },
  {
   "cell_type": "code",
   "execution_count": 17,
   "metadata": {
    "collapsed": true
   },
   "outputs": [],
   "source": [
    "ml3 = pd.read_csv('HistorialPopulation1990_2017PerCountry.csv')"
   ]
  },
  {
   "cell_type": "code",
   "execution_count": 18,
   "metadata": {
    "collapsed": false
   },
   "outputs": [
    {
     "data": {
      "text/html": [
       "<div>\n",
       "<style scoped>\n",
       "    .dataframe tbody tr th:only-of-type {\n",
       "        vertical-align: middle;\n",
       "    }\n",
       "\n",
       "    .dataframe tbody tr th {\n",
       "        vertical-align: top;\n",
       "    }\n",
       "\n",
       "    .dataframe thead th {\n",
       "        text-align: right;\n",
       "    }\n",
       "</style>\n",
       "<table border=\"1\" class=\"dataframe\">\n",
       "  <thead>\n",
       "    <tr style=\"text-align: right;\">\n",
       "      <th></th>\n",
       "      <th>country</th>\n",
       "      <th>year</th>\n",
       "      <th>population_ml</th>\n",
       "    </tr>\n",
       "  </thead>\n",
       "  <tbody>\n",
       "    <tr>\n",
       "      <td>0</td>\n",
       "      <td>Argentina</td>\n",
       "      <td>1990</td>\n",
       "      <td>2.490197e+08</td>\n",
       "    </tr>\n",
       "    <tr>\n",
       "      <td>1</td>\n",
       "      <td>Argentina</td>\n",
       "      <td>1991</td>\n",
       "      <td>2.525995e+08</td>\n",
       "    </tr>\n",
       "    <tr>\n",
       "      <td>2</td>\n",
       "      <td>Argentina</td>\n",
       "      <td>1992</td>\n",
       "      <td>2.561734e+08</td>\n",
       "    </tr>\n",
       "    <tr>\n",
       "      <td>3</td>\n",
       "      <td>Argentina</td>\n",
       "      <td>1993</td>\n",
       "      <td>2.597202e+08</td>\n",
       "    </tr>\n",
       "    <tr>\n",
       "      <td>4</td>\n",
       "      <td>Argentina</td>\n",
       "      <td>1994</td>\n",
       "      <td>2.632184e+08</td>\n",
       "    </tr>\n",
       "  </tbody>\n",
       "</table>\n",
       "</div>"
      ],
      "text/plain": [
       "     country  year  population_ml\n",
       "0  Argentina  1990   2.490197e+08\n",
       "1  Argentina  1991   2.525995e+08\n",
       "2  Argentina  1992   2.561734e+08\n",
       "3  Argentina  1993   2.597202e+08\n",
       "4  Argentina  1994   2.632184e+08"
      ]
     },
     "execution_count": 18,
     "metadata": {},
     "output_type": "execute_result"
    }
   ],
   "source": [
    "population_ml = ml3.groupby(['Country', 'Time']).agg({'Value':'sum'})\n",
    "population_ml = population_ml.reset_index()\n",
    "population_ml = population_ml.rename(columns={'Country': 'country', 'Time':'year', 'Value':'population_ml'})\n",
    "population_ml.head()"
   ]
  },
  {
   "cell_type": "markdown",
   "metadata": {},
   "source": [
    "    ### DATASET 03: PollutionEmmisionsManMadeByCountryAnualSeries"
   ]
  },
  {
   "cell_type": "code",
   "execution_count": 19,
   "metadata": {
    "collapsed": false
   },
   "outputs": [
    {
     "name": "stderr",
     "output_type": "stream",
     "text": [
      "/Users/nicolasdalessandro/opt/anaconda3/lib/python3.7/site-packages/IPython/core/interactiveshell.py:3058: DtypeWarning: Columns (15,16) have mixed types. Specify dtype option on import or set low_memory=False.\n",
      "  interactivity=interactivity, compiler=compiler, result=result)\n"
     ]
    }
   ],
   "source": [
    "ml4 = pd.read_csv('PollutionEmmisionsManMadeByCountryAnualSeries.csv')"
   ]
  },
  {
   "cell_type": "code",
   "execution_count": 20,
   "metadata": {
    "collapsed": false
   },
   "outputs": [
    {
     "data": {
      "text/html": [
       "<div>\n",
       "<style scoped>\n",
       "    .dataframe tbody tr th:only-of-type {\n",
       "        vertical-align: middle;\n",
       "    }\n",
       "\n",
       "    .dataframe tbody tr th {\n",
       "        vertical-align: top;\n",
       "    }\n",
       "\n",
       "    .dataframe thead th {\n",
       "        text-align: right;\n",
       "    }\n",
       "</style>\n",
       "<table border=\"1\" class=\"dataframe\">\n",
       "  <thead>\n",
       "    <tr style=\"text-align: right;\">\n",
       "      <th></th>\n",
       "      <th>country</th>\n",
       "      <th>year</th>\n",
       "      <th>contamination_ml</th>\n",
       "    </tr>\n",
       "  </thead>\n",
       "  <tbody>\n",
       "    <tr>\n",
       "      <td>0</td>\n",
       "      <td>Australia</td>\n",
       "      <td>1990</td>\n",
       "      <td>5728.460</td>\n",
       "    </tr>\n",
       "    <tr>\n",
       "      <td>1</td>\n",
       "      <td>Australia</td>\n",
       "      <td>1991</td>\n",
       "      <td>5747.308</td>\n",
       "    </tr>\n",
       "    <tr>\n",
       "      <td>2</td>\n",
       "      <td>Australia</td>\n",
       "      <td>1992</td>\n",
       "      <td>5896.593</td>\n",
       "    </tr>\n",
       "    <tr>\n",
       "      <td>3</td>\n",
       "      <td>Australia</td>\n",
       "      <td>1993</td>\n",
       "      <td>6120.709</td>\n",
       "    </tr>\n",
       "    <tr>\n",
       "      <td>4</td>\n",
       "      <td>Australia</td>\n",
       "      <td>1994</td>\n",
       "      <td>6262.916</td>\n",
       "    </tr>\n",
       "  </tbody>\n",
       "</table>\n",
       "</div>"
      ],
      "text/plain": [
       "     country  year  contamination_ml\n",
       "0  Australia  1990          5728.460\n",
       "1  Australia  1991          5747.308\n",
       "2  Australia  1992          5896.593\n",
       "3  Australia  1993          6120.709\n",
       "4  Australia  1994          6262.916"
      ]
     },
     "execution_count": 20,
     "metadata": {},
     "output_type": "execute_result"
    }
   ],
   "source": [
    "indices_ml = ml4.groupby(['Country', 'Year']).agg({'Value':'max'})\n",
    "indices_ml = indices_ml.reset_index()\n",
    "indices_ml = indices_ml.rename(columns={'Country': 'country', 'Year':'year', 'Value':'contamination_ml'})\n",
    "indices_ml.head()"
   ]
  },
  {
   "cell_type": "markdown",
   "metadata": {},
   "source": [
    "    ### DATASET 04: PollutionEmmisionsManMadeByCountryAnualSeriesa"
   ]
  },
  {
   "cell_type": "code",
   "execution_count": 21,
   "metadata": {
    "collapsed": true
   },
   "outputs": [],
   "source": [
    "ml5 = pd.read_csv('AnualGDPPerCountry.csv')"
   ]
  },
  {
   "cell_type": "code",
   "execution_count": 22,
   "metadata": {
    "collapsed": false
   },
   "outputs": [
    {
     "data": {
      "text/html": [
       "<div>\n",
       "<style scoped>\n",
       "    .dataframe tbody tr th:only-of-type {\n",
       "        vertical-align: middle;\n",
       "    }\n",
       "\n",
       "    .dataframe tbody tr th {\n",
       "        vertical-align: top;\n",
       "    }\n",
       "\n",
       "    .dataframe thead th {\n",
       "        text-align: right;\n",
       "    }\n",
       "</style>\n",
       "<table border=\"1\" class=\"dataframe\">\n",
       "  <thead>\n",
       "    <tr style=\"text-align: right;\">\n",
       "      <th></th>\n",
       "      <th>country</th>\n",
       "      <th>year</th>\n",
       "      <th>PBI_ml</th>\n",
       "    </tr>\n",
       "  </thead>\n",
       "  <tbody>\n",
       "    <tr>\n",
       "      <td>0</td>\n",
       "      <td>Argentina</td>\n",
       "      <td>2004</td>\n",
       "      <td>4.003708e+06</td>\n",
       "    </tr>\n",
       "    <tr>\n",
       "      <td>1</td>\n",
       "      <td>Argentina</td>\n",
       "      <td>2005</td>\n",
       "      <td>4.358102e+06</td>\n",
       "    </tr>\n",
       "    <tr>\n",
       "      <td>2</td>\n",
       "      <td>Argentina</td>\n",
       "      <td>2006</td>\n",
       "      <td>4.708805e+06</td>\n",
       "    </tr>\n",
       "    <tr>\n",
       "      <td>3</td>\n",
       "      <td>Argentina</td>\n",
       "      <td>2007</td>\n",
       "      <td>5.132958e+06</td>\n",
       "    </tr>\n",
       "    <tr>\n",
       "      <td>4</td>\n",
       "      <td>Argentina</td>\n",
       "      <td>2008</td>\n",
       "      <td>5.341214e+06</td>\n",
       "    </tr>\n",
       "  </tbody>\n",
       "</table>\n",
       "</div>"
      ],
      "text/plain": [
       "     country  year        PBI_ml\n",
       "0  Argentina  2004  4.003708e+06\n",
       "1  Argentina  2005  4.358102e+06\n",
       "2  Argentina  2006  4.708805e+06\n",
       "3  Argentina  2007  5.132958e+06\n",
       "4  Argentina  2008  5.341214e+06"
      ]
     },
     "execution_count": 22,
     "metadata": {},
     "output_type": "execute_result"
    }
   ],
   "source": [
    "PBI_ml = ml5.groupby(['Country', 'Year']).agg({'Value':'max'})\n",
    "PBI_ml =  PBI_ml.reset_index()\n",
    "PBI_ml = PBI_ml.rename(columns={'Country': 'country', 'Year':'year', 'Value':'PBI_ml'})\n",
    "PBI_ml.head()"
   ]
  },
  {
   "cell_type": "markdown",
   "metadata": {},
   "source": [
    "    ### DATASET 05: FOREST_06122019234144255.csv"
   ]
  },
  {
   "cell_type": "code",
   "execution_count": 23,
   "metadata": {
    "collapsed": true
   },
   "outputs": [],
   "source": [
    "ml6 = pd.read_csv('FOREST_06122019234144255.csv')"
   ]
  },
  {
   "cell_type": "code",
   "execution_count": 24,
   "metadata": {
    "collapsed": false
   },
   "outputs": [
    {
     "data": {
      "text/html": [
       "<div>\n",
       "<style scoped>\n",
       "    .dataframe tbody tr th:only-of-type {\n",
       "        vertical-align: middle;\n",
       "    }\n",
       "\n",
       "    .dataframe tbody tr th {\n",
       "        vertical-align: top;\n",
       "    }\n",
       "\n",
       "    .dataframe thead th {\n",
       "        text-align: right;\n",
       "    }\n",
       "</style>\n",
       "<table border=\"1\" class=\"dataframe\">\n",
       "  <thead>\n",
       "    <tr style=\"text-align: right;\">\n",
       "      <th></th>\n",
       "      <th>country</th>\n",
       "      <th>year</th>\n",
       "      <th>forest_ml</th>\n",
       "    </tr>\n",
       "  </thead>\n",
       "  <tbody>\n",
       "    <tr>\n",
       "      <td>0</td>\n",
       "      <td>Australia</td>\n",
       "      <td>1990</td>\n",
       "      <td>34859.000</td>\n",
       "    </tr>\n",
       "    <tr>\n",
       "      <td>1</td>\n",
       "      <td>Australia</td>\n",
       "      <td>1995</td>\n",
       "      <td>39120.000</td>\n",
       "    </tr>\n",
       "    <tr>\n",
       "      <td>2</td>\n",
       "      <td>Australia</td>\n",
       "      <td>2000</td>\n",
       "      <td>48814.727</td>\n",
       "    </tr>\n",
       "    <tr>\n",
       "      <td>3</td>\n",
       "      <td>Australia</td>\n",
       "      <td>2001</td>\n",
       "      <td>24474.000</td>\n",
       "    </tr>\n",
       "    <tr>\n",
       "      <td>4</td>\n",
       "      <td>Australia</td>\n",
       "      <td>2002</td>\n",
       "      <td>24296.000</td>\n",
       "    </tr>\n",
       "  </tbody>\n",
       "</table>\n",
       "</div>"
      ],
      "text/plain": [
       "     country  year  forest_ml\n",
       "0  Australia  1990  34859.000\n",
       "1  Australia  1995  39120.000\n",
       "2  Australia  2000  48814.727\n",
       "3  Australia  2001  24474.000\n",
       "4  Australia  2002  24296.000"
      ]
     },
     "execution_count": 24,
     "metadata": {},
     "output_type": "execute_result"
    }
   ],
   "source": [
    "forest_ml = ml6.groupby(['Country', 'Year']).agg({'Value':'sum'})\n",
    "forest_ml =  forest_ml.reset_index()\n",
    "forest_ml = forest_ml.rename(columns={'Country': 'country', 'Year':'year', 'Value':'forest_ml'})\n",
    "forest_ml.head()"
   ]
  },
  {
   "cell_type": "markdown",
   "metadata": {},
   "source": [
    "    ### DATASET 06: AV_AN_WAGE_07122019001021425.csv"
   ]
  },
  {
   "cell_type": "code",
   "execution_count": 25,
   "metadata": {
    "collapsed": true
   },
   "outputs": [],
   "source": [
    "ml7 = pd.read_csv('AV_AN_WAGE_07122019001021425.csv')"
   ]
  },
  {
   "cell_type": "code",
   "execution_count": 26,
   "metadata": {
    "collapsed": false
   },
   "outputs": [
    {
     "data": {
      "text/html": [
       "<div>\n",
       "<style scoped>\n",
       "    .dataframe tbody tr th:only-of-type {\n",
       "        vertical-align: middle;\n",
       "    }\n",
       "\n",
       "    .dataframe tbody tr th {\n",
       "        vertical-align: top;\n",
       "    }\n",
       "\n",
       "    .dataframe thead th {\n",
       "        text-align: right;\n",
       "    }\n",
       "</style>\n",
       "<table border=\"1\" class=\"dataframe\">\n",
       "  <thead>\n",
       "    <tr style=\"text-align: right;\">\n",
       "      <th></th>\n",
       "      <th>country</th>\n",
       "      <th>year</th>\n",
       "      <th>wage_ml</th>\n",
       "    </tr>\n",
       "  </thead>\n",
       "  <tbody>\n",
       "    <tr>\n",
       "      <td>0</td>\n",
       "      <td>Australia</td>\n",
       "      <td>1990</td>\n",
       "      <td>44887.842550</td>\n",
       "    </tr>\n",
       "    <tr>\n",
       "      <td>1</td>\n",
       "      <td>Australia</td>\n",
       "      <td>1991</td>\n",
       "      <td>45081.484579</td>\n",
       "    </tr>\n",
       "    <tr>\n",
       "      <td>2</td>\n",
       "      <td>Australia</td>\n",
       "      <td>1992</td>\n",
       "      <td>46206.461459</td>\n",
       "    </tr>\n",
       "    <tr>\n",
       "      <td>3</td>\n",
       "      <td>Australia</td>\n",
       "      <td>1993</td>\n",
       "      <td>46882.868496</td>\n",
       "    </tr>\n",
       "    <tr>\n",
       "      <td>4</td>\n",
       "      <td>Australia</td>\n",
       "      <td>1994</td>\n",
       "      <td>47396.764410</td>\n",
       "    </tr>\n",
       "  </tbody>\n",
       "</table>\n",
       "</div>"
      ],
      "text/plain": [
       "     country  year       wage_ml\n",
       "0  Australia  1990  44887.842550\n",
       "1  Australia  1991  45081.484579\n",
       "2  Australia  1992  46206.461459\n",
       "3  Australia  1993  46882.868496\n",
       "4  Australia  1994  47396.764410"
      ]
     },
     "execution_count": 26,
     "metadata": {},
     "output_type": "execute_result"
    }
   ],
   "source": [
    "wage_ml = ml7.groupby(['Country', 'Time']).agg({'Value':'mean'})\n",
    "wage_ml =  wage_ml.reset_index()\n",
    "wage_ml = wage_ml.rename(columns={'Country': 'country', 'Time':'year', \n",
    "                                              'Value':'wage_ml'})\n",
    "wage_ml.head()"
   ]
  },
  {
   "cell_type": "markdown",
   "metadata": {},
   "source": [
    "    ### Finalmente generamos nuestro dataset para el MODELO de ML"
   ]
  },
  {
   "cell_type": "code",
   "execution_count": 27,
   "metadata": {
    "collapsed": true
   },
   "outputs": [],
   "source": [
    "df_ml = indices_ml.set_index(['country', 'year']).join(population_ml.set_index(['country', 'year']))\n",
    "df_ml = df_ml.reset_index()\n",
    "df_ml = df_ml.set_index(['country', 'year']).join(PBI_ml.set_index(['country', 'year']))\n",
    "df_ml = df_ml.reset_index()\n",
    "df_ml = df_ml.set_index(['country', 'year']).join(forest_ml.set_index(['country', 'year']))\n",
    "df_ml = df_ml.reset_index()\n",
    "df_ml = df_ml.set_index(['country', 'year']).join(wage_ml.set_index(['country', 'year']))\n",
    "df_ml = df_ml.reset_index()\n",
    "df_ml = df_ml.set_index(['country', 'year']).join(life_expect_ml.set_index(['country', 'year']))\n",
    "df_ml = df_ml.reset_index()"
   ]
  },
  {
   "cell_type": "markdown",
   "metadata": {},
   "source": [
    "    ### Usamos el metodo de interpolación lineal para completar valores faltantes"
   ]
  },
  {
   "cell_type": "code",
   "execution_count": 28,
   "metadata": {
    "collapsed": true
   },
   "outputs": [],
   "source": [
    "df_ml['forest_ml'] = df_ml['forest_ml'].interpolate(method='linear')\n",
    "df_ml['life_expect_ml'] = df_ml['life_expect_ml'].interpolate(method='linear')\n",
    "df_ml['wage_ml'] = df_ml['wage_ml'].interpolate(method='linear')"
   ]
  },
  {
   "cell_type": "code",
   "execution_count": 29,
   "metadata": {
    "collapsed": true
   },
   "outputs": [],
   "source": [
    "df_ml = df_ml.dropna()"
   ]
  },
  {
   "cell_type": "code",
   "execution_count": 30,
   "metadata": {
    "collapsed": false
   },
   "outputs": [
    {
     "data": {
      "text/plain": [
       "(1005, 8)"
      ]
     },
     "execution_count": 30,
     "metadata": {},
     "output_type": "execute_result"
    }
   ],
   "source": [
    "df_ml.shape"
   ]
  },
  {
   "cell_type": "code",
   "execution_count": 31,
   "metadata": {
    "collapsed": false
   },
   "outputs": [
    {
     "name": "stdout",
     "output_type": "stream",
     "text": [
      "<class 'pandas.core.frame.DataFrame'>\n",
      "Int64Index: 1005 entries, 0 to 1045\n",
      "Data columns (total 8 columns):\n",
      "country             1005 non-null object\n",
      "year                1005 non-null int64\n",
      "contamination_ml    1005 non-null float64\n",
      "population_ml       1005 non-null float64\n",
      "PBI_ml              1005 non-null float64\n",
      "forest_ml           1005 non-null float64\n",
      "wage_ml             1005 non-null float64\n",
      "life_expect_ml      1005 non-null float64\n",
      "dtypes: float64(6), int64(1), object(1)\n",
      "memory usage: 70.7+ KB\n"
     ]
    }
   ],
   "source": [
    "df_ml.info()"
   ]
  },
  {
   "cell_type": "markdown",
   "metadata": {},
   "source": [
    "    ### Visualizamos los datos y graficamos las correlaciones"
   ]
  },
  {
   "cell_type": "code",
   "execution_count": 32,
   "metadata": {
    "collapsed": false
   },
   "outputs": [
    {
     "data": {
      "text/html": [
       "<div>\n",
       "<style scoped>\n",
       "    .dataframe tbody tr th:only-of-type {\n",
       "        vertical-align: middle;\n",
       "    }\n",
       "\n",
       "    .dataframe tbody tr th {\n",
       "        vertical-align: top;\n",
       "    }\n",
       "\n",
       "    .dataframe thead th {\n",
       "        text-align: right;\n",
       "    }\n",
       "</style>\n",
       "<table border=\"1\" class=\"dataframe\">\n",
       "  <thead>\n",
       "    <tr style=\"text-align: right;\">\n",
       "      <th></th>\n",
       "      <th>contamination_ml</th>\n",
       "      <th>population_ml</th>\n",
       "      <th>PBI_ml</th>\n",
       "      <th>forest_ml</th>\n",
       "      <th>wage_ml</th>\n",
       "      <th>life_expect_ml</th>\n",
       "    </tr>\n",
       "  </thead>\n",
       "  <tbody>\n",
       "    <tr>\n",
       "      <td>contamination_ml</td>\n",
       "      <td>1.000000</td>\n",
       "      <td>0.870362</td>\n",
       "      <td>-0.040218</td>\n",
       "      <td>0.445432</td>\n",
       "      <td>-0.056822</td>\n",
       "      <td>-0.158431</td>\n",
       "    </tr>\n",
       "    <tr>\n",
       "      <td>population_ml</td>\n",
       "      <td>0.870362</td>\n",
       "      <td>1.000000</td>\n",
       "      <td>-0.044232</td>\n",
       "      <td>0.220930</td>\n",
       "      <td>-0.028788</td>\n",
       "      <td>-0.197451</td>\n",
       "    </tr>\n",
       "    <tr>\n",
       "      <td>PBI_ml</td>\n",
       "      <td>-0.040218</td>\n",
       "      <td>-0.044232</td>\n",
       "      <td>1.000000</td>\n",
       "      <td>-0.047876</td>\n",
       "      <td>0.034426</td>\n",
       "      <td>-0.217871</td>\n",
       "    </tr>\n",
       "    <tr>\n",
       "      <td>forest_ml</td>\n",
       "      <td>0.445432</td>\n",
       "      <td>0.220930</td>\n",
       "      <td>-0.047876</td>\n",
       "      <td>1.000000</td>\n",
       "      <td>-0.042868</td>\n",
       "      <td>0.033855</td>\n",
       "    </tr>\n",
       "    <tr>\n",
       "      <td>wage_ml</td>\n",
       "      <td>-0.056822</td>\n",
       "      <td>-0.028788</td>\n",
       "      <td>0.034426</td>\n",
       "      <td>-0.042868</td>\n",
       "      <td>1.000000</td>\n",
       "      <td>0.122934</td>\n",
       "    </tr>\n",
       "    <tr>\n",
       "      <td>life_expect_ml</td>\n",
       "      <td>-0.158431</td>\n",
       "      <td>-0.197451</td>\n",
       "      <td>-0.217871</td>\n",
       "      <td>0.033855</td>\n",
       "      <td>0.122934</td>\n",
       "      <td>1.000000</td>\n",
       "    </tr>\n",
       "  </tbody>\n",
       "</table>\n",
       "</div>"
      ],
      "text/plain": [
       "                  contamination_ml  population_ml    PBI_ml  forest_ml  \\\n",
       "contamination_ml          1.000000       0.870362 -0.040218   0.445432   \n",
       "population_ml             0.870362       1.000000 -0.044232   0.220930   \n",
       "PBI_ml                   -0.040218      -0.044232  1.000000  -0.047876   \n",
       "forest_ml                 0.445432       0.220930 -0.047876   1.000000   \n",
       "wage_ml                  -0.056822      -0.028788  0.034426  -0.042868   \n",
       "life_expect_ml           -0.158431      -0.197451 -0.217871   0.033855   \n",
       "\n",
       "                   wage_ml  life_expect_ml  \n",
       "contamination_ml -0.056822       -0.158431  \n",
       "population_ml    -0.028788       -0.197451  \n",
       "PBI_ml            0.034426       -0.217871  \n",
       "forest_ml        -0.042868        0.033855  \n",
       "wage_ml           1.000000        0.122934  \n",
       "life_expect_ml    0.122934        1.000000  "
      ]
     },
     "execution_count": 32,
     "metadata": {},
     "output_type": "execute_result"
    }
   ],
   "source": [
    "df_ml.drop(columns=['country', 'year']).corr()"
   ]
  },
  {
   "cell_type": "code",
   "execution_count": 33,
   "metadata": {
    "collapsed": false
   },
   "outputs": [
    {
     "data": {
      "image/png": "[encoded data removed]",
      "text/plain": [
       "<Figure size 432x288 with 2 Axes>"
      ]
     },
     "metadata": {},
     "output_type": "display_data"
    }
   ],
   "source": [
    "import seaborn as sns\n",
    "ax = sns.heatmap(df_ml.drop(columns=['country', 'year']))"
   ]
  },
  {
   "cell_type": "markdown",
   "metadata": {},
   "source": [
    "    ### Separamos el dataset en Train y Test definiendo \"illness\" como nuestra variable \"target\""
   ]
  },
  {
   "cell_type": "code",
   "execution_count": 34,
   "metadata": {
    "collapsed": false
   },
   "outputs": [
    {
     "data": {
      "text/html": [
       "<div>\n",
       "<style scoped>\n",
       "    .dataframe tbody tr th:only-of-type {\n",
       "        vertical-align: middle;\n",
       "    }\n",
       "\n",
       "    .dataframe tbody tr th {\n",
       "        vertical-align: top;\n",
       "    }\n",
       "\n",
       "    .dataframe thead th {\n",
       "        text-align: right;\n",
       "    }\n",
       "</style>\n",
       "<table border=\"1\" class=\"dataframe\">\n",
       "  <thead>\n",
       "    <tr style=\"text-align: right;\">\n",
       "      <th></th>\n",
       "      <th>country</th>\n",
       "      <th>year</th>\n",
       "      <th>contamination_ml</th>\n",
       "      <th>population_ml</th>\n",
       "      <th>PBI_ml</th>\n",
       "      <th>forest_ml</th>\n",
       "      <th>wage_ml</th>\n",
       "      <th>life_expect_ml</th>\n",
       "    </tr>\n",
       "  </thead>\n",
       "  <tbody>\n",
       "    <tr>\n",
       "      <td>0</td>\n",
       "      <td>Australia</td>\n",
       "      <td>1990</td>\n",
       "      <td>5728.460</td>\n",
       "      <td>1.335825e+08</td>\n",
       "      <td>2.149930e+06</td>\n",
       "      <td>34859.0</td>\n",
       "      <td>44887.842550</td>\n",
       "      <td>77.0</td>\n",
       "    </tr>\n",
       "    <tr>\n",
       "      <td>1</td>\n",
       "      <td>Australia</td>\n",
       "      <td>1991</td>\n",
       "      <td>5747.308</td>\n",
       "      <td>1.353209e+08</td>\n",
       "      <td>1.287432e+06</td>\n",
       "      <td>35711.2</td>\n",
       "      <td>45081.484579</td>\n",
       "      <td>77.4</td>\n",
       "    </tr>\n",
       "    <tr>\n",
       "      <td>2</td>\n",
       "      <td>Australia</td>\n",
       "      <td>1992</td>\n",
       "      <td>5896.593</td>\n",
       "      <td>1.368764e+08</td>\n",
       "      <td>1.545503e+06</td>\n",
       "      <td>36563.4</td>\n",
       "      <td>46206.461459</td>\n",
       "      <td>77.5</td>\n",
       "    </tr>\n",
       "    <tr>\n",
       "      <td>3</td>\n",
       "      <td>Australia</td>\n",
       "      <td>1993</td>\n",
       "      <td>6120.709</td>\n",
       "      <td>1.381406e+08</td>\n",
       "      <td>2.169026e+06</td>\n",
       "      <td>37415.6</td>\n",
       "      <td>46882.868496</td>\n",
       "      <td>78.0</td>\n",
       "    </tr>\n",
       "    <tr>\n",
       "      <td>4</td>\n",
       "      <td>Australia</td>\n",
       "      <td>1994</td>\n",
       "      <td>6262.916</td>\n",
       "      <td>1.395673e+08</td>\n",
       "      <td>1.658637e+06</td>\n",
       "      <td>38267.8</td>\n",
       "      <td>47396.764410</td>\n",
       "      <td>78.0</td>\n",
       "    </tr>\n",
       "  </tbody>\n",
       "</table>\n",
       "</div>"
      ],
      "text/plain": [
       "     country  year  contamination_ml  population_ml        PBI_ml  forest_ml  \\\n",
       "0  Australia  1990          5728.460   1.335825e+08  2.149930e+06    34859.0   \n",
       "1  Australia  1991          5747.308   1.353209e+08  1.287432e+06    35711.2   \n",
       "2  Australia  1992          5896.593   1.368764e+08  1.545503e+06    36563.4   \n",
       "3  Australia  1993          6120.709   1.381406e+08  2.169026e+06    37415.6   \n",
       "4  Australia  1994          6262.916   1.395673e+08  1.658637e+06    38267.8   \n",
       "\n",
       "        wage_ml  life_expect_ml  \n",
       "0  44887.842550            77.0  \n",
       "1  45081.484579            77.4  \n",
       "2  46206.461459            77.5  \n",
       "3  46882.868496            78.0  \n",
       "4  47396.764410            78.0  "
      ]
     },
     "execution_count": 34,
     "metadata": {},
     "output_type": "execute_result"
    }
   ],
   "source": [
    "df_ml.head()"
   ]
  },
  {
   "cell_type": "markdown",
   "metadata": {},
   "source": [
    "    ### Tratamiento de variables categóricas: One hot encoding\n",
    "    Utilizaremos one-hot-encoding para tratar las variables categóricas, a fin de que pueda entenderlas nuestro fúturo modelo"
   ]
  },
  {
   "cell_type": "code",
   "execution_count": 35,
   "metadata": {
    "collapsed": true
   },
   "outputs": [],
   "source": [
    "#definimos una función para aplicarl el OHE\n",
    "def one_hot_simple(data,columns_encoding,erase=False):\n",
    "    '''\n",
    "    Basic method and non optimized for One Hot Encoding, \n",
    "    >>> data: [dataframe] with different features.\n",
    "    >>> columns: [list] of columns to encode.\n",
    "    >>> erase: [Boolean] for keeping or not the original columns (by default False)\n",
    "    ---------------------------------------------------------\n",
    "    <<< Returns the [dataframe] with or without the original columns (erase)\n",
    "    '''\n",
    "    for col in columns_encoding:\n",
    "        variables = data[col].unique()\n",
    "        for v in variables:\n",
    "            data[col + str(v)] = [1 if row == v else 0 for row in data[col].values]\n",
    "    if erase:\n",
    "        return data.drop(columns=columns_encoding)\n",
    "    return data"
   ]
  },
  {
   "cell_type": "code",
   "execution_count": 36,
   "metadata": {
    "collapsed": false
   },
   "outputs": [
    {
     "name": "stdout",
     "output_type": "stream",
     "text": [
      "Help on function one_hot_simple in module __main__:\n",
      "\n",
      "one_hot_simple(data, columns_encoding, erase=False)\n",
      "    Basic method and non optimized for One Hot Encoding, \n",
      "    >>> data: [dataframe] with different features.\n",
      "    >>> columns: [list] of columns to encode.\n",
      "    >>> erase: [Boolean] for keeping or not the original columns (by default False)\n",
      "    ---------------------------------------------------------\n",
      "    <<< Returns the [dataframe] with or without the original columns (erase)\n",
      "\n"
     ]
    }
   ],
   "source": [
    "help(one_hot_simple)"
   ]
  },
  {
   "cell_type": "code",
   "execution_count": 37,
   "metadata": {
    "collapsed": true
   },
   "outputs": [],
   "source": [
    "#aplicamos la función creada\n",
    "df_ml = one_hot_simple(df_ml,['country'],erase = False)"
   ]
  },
  {
   "cell_type": "markdown",
   "metadata": {},
   "source": [
    "    ### Target Encoding:"
   ]
  },
  {
   "cell_type": "markdown",
   "metadata": {},
   "source": [
    "\n",
    "Utilizaremos catboost encoding:\n",
    "      \n",
    "   - Fuentes: (https://contrib.scikit-learn.org/categorical-encoding/catboost.html)  \n",
    "   - Paper citation: [CatBoost: unbiased boosting with categorical features](https://arxiv.org/abs/1706.09516)\n",
    "\n",
    "**Nota**: Esto no esta hecho en modo \"best practice\" de desarrollo. Para eso habría que usar un Pipeline. A modo de ejercicio lo realizaremos de esta manera."
   ]
  },
  {
   "cell_type": "code",
   "execution_count": 38,
   "metadata": {
    "collapsed": true
   },
   "outputs": [],
   "source": [
    "cbe = ce.cat_boost.CatBoostEncoder()"
   ]
  },
  {
   "cell_type": "code",
   "execution_count": 39,
   "metadata": {
    "collapsed": false,
    "scrolled": true
   },
   "outputs": [
    {
     "data": {
      "text/plain": [
       "CatBoostEncoder(a=1, cols=['country'], drop_invariant=False,\n",
       "                handle_missing='value', handle_unknown='value',\n",
       "                random_state=None, return_df=True, sigma=None, verbose=0)"
      ]
     },
     "execution_count": 39,
     "metadata": {},
     "output_type": "execute_result"
    }
   ],
   "source": [
    "cbe.fit(df_ml,df_ml.life_expect_ml)"
   ]
  },
  {
   "cell_type": "code",
   "execution_count": 40,
   "metadata": {
    "collapsed": true
   },
   "outputs": [],
   "source": [
    "df_ml = cbe.transform(df_ml)"
   ]
  },
  {
   "cell_type": "markdown",
   "metadata": {},
   "source": [
    "    ### Train test Split"
   ]
  },
  {
   "cell_type": "markdown",
   "metadata": {},
   "source": [
    "Dado que este es un conjunto de datos denominado \"serie temporal\", el tratamiento de los datos en el tiempo es de suma importancia, significando que realmente no se puede usar datos futuros para predecir eventos pasados. Por lo tanto, la división por Asunto no tiene mucho sentido aquí, ya que estaríamos entrenando al modelo con observaciones futuras pero probándolo en las pasadas (por ejemplo, entrenar en el período {1 3 4 5 6} y probar en el período {2}) .\n",
    "\n",
    "El flujo debe seguir un patrón, con nuevos datos que se ingieren en el conjunto de entrenamiento y se utilizan para predecir la variable objetivo en el futuro. A la luz de esto, usaremos solo la división por tiempo."
   ]
  },
  {
   "cell_type": "code",
   "execution_count": 41,
   "metadata": {
    "collapsed": false
   },
   "outputs": [
    {
     "data": {
      "text/html": [
       "<div>\n",
       "<style scoped>\n",
       "    .dataframe tbody tr th:only-of-type {\n",
       "        vertical-align: middle;\n",
       "    }\n",
       "\n",
       "    .dataframe tbody tr th {\n",
       "        vertical-align: top;\n",
       "    }\n",
       "\n",
       "    .dataframe thead th {\n",
       "        text-align: right;\n",
       "    }\n",
       "</style>\n",
       "<table border=\"1\" class=\"dataframe\">\n",
       "  <thead>\n",
       "    <tr style=\"text-align: right;\">\n",
       "      <th></th>\n",
       "      <th>country</th>\n",
       "      <th>year</th>\n",
       "      <th>contamination_ml</th>\n",
       "      <th>population_ml</th>\n",
       "      <th>PBI_ml</th>\n",
       "      <th>forest_ml</th>\n",
       "      <th>wage_ml</th>\n",
       "      <th>life_expect_ml</th>\n",
       "      <th>countryAustralia</th>\n",
       "      <th>countryAustria</th>\n",
       "      <th>...</th>\n",
       "      <th>countryPortugal</th>\n",
       "      <th>countryRussia</th>\n",
       "      <th>countrySlovak Republic</th>\n",
       "      <th>countrySlovenia</th>\n",
       "      <th>countrySpain</th>\n",
       "      <th>countrySweden</th>\n",
       "      <th>countrySwitzerland</th>\n",
       "      <th>countryTurkey</th>\n",
       "      <th>countryUnited Kingdom</th>\n",
       "      <th>countryUnited States</th>\n",
       "    </tr>\n",
       "  </thead>\n",
       "  <tbody>\n",
       "    <tr>\n",
       "      <td>0</td>\n",
       "      <td>80.080277</td>\n",
       "      <td>1990</td>\n",
       "      <td>5728.460</td>\n",
       "      <td>1.335825e+08</td>\n",
       "      <td>2.149930e+06</td>\n",
       "      <td>34859.0</td>\n",
       "      <td>44887.842550</td>\n",
       "      <td>77.0</td>\n",
       "      <td>1</td>\n",
       "      <td>0</td>\n",
       "      <td>...</td>\n",
       "      <td>0</td>\n",
       "      <td>0</td>\n",
       "      <td>0</td>\n",
       "      <td>0</td>\n",
       "      <td>0</td>\n",
       "      <td>0</td>\n",
       "      <td>0</td>\n",
       "      <td>0</td>\n",
       "      <td>0</td>\n",
       "      <td>0</td>\n",
       "    </tr>\n",
       "    <tr>\n",
       "      <td>1</td>\n",
       "      <td>80.080277</td>\n",
       "      <td>1991</td>\n",
       "      <td>5747.308</td>\n",
       "      <td>1.353209e+08</td>\n",
       "      <td>1.287432e+06</td>\n",
       "      <td>35711.2</td>\n",
       "      <td>45081.484579</td>\n",
       "      <td>77.4</td>\n",
       "      <td>1</td>\n",
       "      <td>0</td>\n",
       "      <td>...</td>\n",
       "      <td>0</td>\n",
       "      <td>0</td>\n",
       "      <td>0</td>\n",
       "      <td>0</td>\n",
       "      <td>0</td>\n",
       "      <td>0</td>\n",
       "      <td>0</td>\n",
       "      <td>0</td>\n",
       "      <td>0</td>\n",
       "      <td>0</td>\n",
       "    </tr>\n",
       "    <tr>\n",
       "      <td>2</td>\n",
       "      <td>80.080277</td>\n",
       "      <td>1992</td>\n",
       "      <td>5896.593</td>\n",
       "      <td>1.368764e+08</td>\n",
       "      <td>1.545503e+06</td>\n",
       "      <td>36563.4</td>\n",
       "      <td>46206.461459</td>\n",
       "      <td>77.5</td>\n",
       "      <td>1</td>\n",
       "      <td>0</td>\n",
       "      <td>...</td>\n",
       "      <td>0</td>\n",
       "      <td>0</td>\n",
       "      <td>0</td>\n",
       "      <td>0</td>\n",
       "      <td>0</td>\n",
       "      <td>0</td>\n",
       "      <td>0</td>\n",
       "      <td>0</td>\n",
       "      <td>0</td>\n",
       "      <td>0</td>\n",
       "    </tr>\n",
       "    <tr>\n",
       "      <td>3</td>\n",
       "      <td>80.080277</td>\n",
       "      <td>1993</td>\n",
       "      <td>6120.709</td>\n",
       "      <td>1.381406e+08</td>\n",
       "      <td>2.169026e+06</td>\n",
       "      <td>37415.6</td>\n",
       "      <td>46882.868496</td>\n",
       "      <td>78.0</td>\n",
       "      <td>1</td>\n",
       "      <td>0</td>\n",
       "      <td>...</td>\n",
       "      <td>0</td>\n",
       "      <td>0</td>\n",
       "      <td>0</td>\n",
       "      <td>0</td>\n",
       "      <td>0</td>\n",
       "      <td>0</td>\n",
       "      <td>0</td>\n",
       "      <td>0</td>\n",
       "      <td>0</td>\n",
       "      <td>0</td>\n",
       "    </tr>\n",
       "    <tr>\n",
       "      <td>4</td>\n",
       "      <td>80.080277</td>\n",
       "      <td>1994</td>\n",
       "      <td>6262.916</td>\n",
       "      <td>1.395673e+08</td>\n",
       "      <td>1.658637e+06</td>\n",
       "      <td>38267.8</td>\n",
       "      <td>47396.764410</td>\n",
       "      <td>78.0</td>\n",
       "      <td>1</td>\n",
       "      <td>0</td>\n",
       "      <td>...</td>\n",
       "      <td>0</td>\n",
       "      <td>0</td>\n",
       "      <td>0</td>\n",
       "      <td>0</td>\n",
       "      <td>0</td>\n",
       "      <td>0</td>\n",
       "      <td>0</td>\n",
       "      <td>0</td>\n",
       "      <td>0</td>\n",
       "      <td>0</td>\n",
       "    </tr>\n",
       "  </tbody>\n",
       "</table>\n",
       "<p>5 rows × 47 columns</p>\n",
       "</div>"
      ],
      "text/plain": [
       "     country  year  contamination_ml  population_ml        PBI_ml  forest_ml  \\\n",
       "0  80.080277  1990          5728.460   1.335825e+08  2.149930e+06    34859.0   \n",
       "1  80.080277  1991          5747.308   1.353209e+08  1.287432e+06    35711.2   \n",
       "2  80.080277  1992          5896.593   1.368764e+08  1.545503e+06    36563.4   \n",
       "3  80.080277  1993          6120.709   1.381406e+08  2.169026e+06    37415.6   \n",
       "4  80.080277  1994          6262.916   1.395673e+08  1.658637e+06    38267.8   \n",
       "\n",
       "        wage_ml  life_expect_ml  countryAustralia  countryAustria  ...  \\\n",
       "0  44887.842550            77.0                 1               0  ...   \n",
       "1  45081.484579            77.4                 1               0  ...   \n",
       "2  46206.461459            77.5                 1               0  ...   \n",
       "3  46882.868496            78.0                 1               0  ...   \n",
       "4  47396.764410            78.0                 1               0  ...   \n",
       "\n",
       "   countryPortugal  countryRussia  countrySlovak Republic  countrySlovenia  \\\n",
       "0                0              0                       0                0   \n",
       "1                0              0                       0                0   \n",
       "2                0              0                       0                0   \n",
       "3                0              0                       0                0   \n",
       "4                0              0                       0                0   \n",
       "\n",
       "   countrySpain  countrySweden  countrySwitzerland  countryTurkey  \\\n",
       "0             0              0                   0              0   \n",
       "1             0              0                   0              0   \n",
       "2             0              0                   0              0   \n",
       "3             0              0                   0              0   \n",
       "4             0              0                   0              0   \n",
       "\n",
       "   countryUnited Kingdom  countryUnited States  \n",
       "0                      0                     0  \n",
       "1                      0                     0  \n",
       "2                      0                     0  \n",
       "3                      0                     0  \n",
       "4                      0                     0  \n",
       "\n",
       "[5 rows x 47 columns]"
      ]
     },
     "execution_count": 41,
     "metadata": {},
     "output_type": "execute_result"
    }
   ],
   "source": [
    "df_ml.head()"
   ]
  },
  {
   "cell_type": "code",
   "execution_count": 42,
   "metadata": {
    "collapsed": true
   },
   "outputs": [],
   "source": [
    "df_ml = df_ml.sort_values(by=['year'])"
   ]
  },
  {
   "cell_type": "code",
   "execution_count": 43,
   "metadata": {
    "collapsed": false
   },
   "outputs": [
    {
     "name": "stdout",
     "output_type": "stream",
     "text": [
      "TRAIN: 147 TEST: 143 SUM: 290\n",
      "TRAIN: 290 TEST: 143 SUM: 433\n",
      "TRAIN: 433 TEST: 143 SUM: 576\n",
      "TRAIN: 576 TEST: 143 SUM: 719\n",
      "TRAIN: 719 TEST: 143 SUM: 862\n",
      "TRAIN: 862 TEST: 143 SUM: 1005\n"
     ]
    }
   ],
   "source": [
    "train = df_ml.drop(columns=['life_expect_ml', 'year'])\n",
    "target = df_ml[['life_expect_ml']]\n",
    "tscv = sk.model_selection.TimeSeriesSplit(n_splits=6)\n",
    "for train_index, test_index in tscv.split(df_ml):\n",
    "        print(\"TRAIN:\", len(train_index), \"TEST:\", len(test_index),\"SUM:\",len(train_index)+len(test_index))\n",
    "        X_train, X_test = train.iloc[train_index], train.iloc[test_index]\n",
    "        y_train, y_test = target.iloc[train_index], target.iloc[test_index]"
   ]
  },
  {
   "cell_type": "code",
   "execution_count": 44,
   "metadata": {
    "collapsed": true
   },
   "outputs": [],
   "source": [
    "X_train, X_test, y_train, y_test = train_test_split(\n",
    "    df_ml.drop(columns=['life_expect_ml', 'country', 'year']), \n",
    "    df_ml['life_expect_ml'], test_size=0.75, random_state=42)"
   ]
  },
  {
   "cell_type": "markdown",
   "metadata": {},
   "source": [
    "#### c: Ajustaremos diferentes modelos para encontrar el más optimo"
   ]
  },
  {
   "cell_type": "markdown",
   "metadata": {},
   "source": [
    "    ### 01 - Linear Regression "
   ]
  },
  {
   "cell_type": "code",
   "execution_count": 45,
   "metadata": {
    "collapsed": false
   },
   "outputs": [
    {
     "data": {
      "text/plain": [
       "LinearRegression(copy_X=True, fit_intercept=True, n_jobs=None, normalize=True)"
      ]
     },
     "execution_count": 45,
     "metadata": {},
     "output_type": "execute_result"
    }
   ],
   "source": [
    "#entrenamos el modelo en nuestro dataset\n",
    "reg_model = LinearRegression(normalize=True)\n",
    "reg_model.fit(X_train, y_train)"
   ]
  },
  {
   "cell_type": "code",
   "execution_count": 46,
   "metadata": {
    "collapsed": false
   },
   "outputs": [
    {
     "data": {
      "text/plain": [
       "0.7707093706323696"
      ]
     },
     "execution_count": 46,
     "metadata": {},
     "output_type": "execute_result"
    }
   ],
   "source": [
    "#observamos el score en el dataset train para comprobar que no haya \"overfiting\"\n",
    "reg_model.score(X_train, y_train)"
   ]
  },
  {
   "cell_type": "code",
   "execution_count": 47,
   "metadata": {
    "collapsed": false
   },
   "outputs": [
    {
     "data": {
      "text/plain": [
       "3.01"
      ]
     },
     "execution_count": 47,
     "metadata": {},
     "output_type": "execute_result"
    }
   ],
   "source": [
    "#al ser un modelo de regresión, observaremos también el RMSE ya que en estos casos suele ser más intuitivo\n",
    "mean_squared_error(reg_model.predict(X_train),y_train).round(2)"
   ]
  },
  {
   "cell_type": "code",
   "execution_count": 48,
   "metadata": {
    "collapsed": true
   },
   "outputs": [],
   "source": [
    "#observamos las mismas métricas sobre el Test para medir la eficiencia de nuestro modelo"
   ]
  },
  {
   "cell_type": "code",
   "execution_count": 49,
   "metadata": {
    "collapsed": false,
    "scrolled": true
   },
   "outputs": [
    {
     "data": {
      "text/plain": [
       "-7.640531562433718e+19"
      ]
     },
     "execution_count": 49,
     "metadata": {},
     "output_type": "execute_result"
    }
   ],
   "source": [
    "reg_model.score(X_test, y_test)"
   ]
  },
  {
   "cell_type": "code",
   "execution_count": 50,
   "metadata": {
    "collapsed": false
   },
   "outputs": [
    {
     "data": {
      "text/plain": [
       "1.0703929439417686e+21"
      ]
     },
     "execution_count": 50,
     "metadata": {},
     "output_type": "execute_result"
    }
   ],
   "source": [
    "mean_squared_error(reg_model.predict(X_test),y_test).round(2)"
   ]
  },
  {
   "cell_type": "code",
   "execution_count": 51,
   "metadata": {
    "collapsed": false
   },
   "outputs": [
    {
     "data": {
      "text/plain": [
       "array([ 1.39756781e-04,  9.78732597e-09, -1.94988204e-16,  1.13977567e-05,\n",
       "        6.36791614e-07,  1.78737667e+12,  1.78737667e+12,  1.78737667e+12,\n",
       "        1.78737667e+12,  1.78737667e+12,  1.15213015e+12,  1.78737667e+12,\n",
       "        1.78737667e+12,  1.78737667e+12,  1.78737667e+12,  1.78737667e+12,\n",
       "        1.78737667e+12,  1.78737667e+12,  1.78737667e+12,  1.78737667e+12,\n",
       "        1.78737667e+12,  1.78737667e+12,  1.78737667e+12,  1.78737667e+12,\n",
       "        1.78737667e+12,  1.78737667e+12,  1.78737667e+12,  1.78737667e+12,\n",
       "        1.78737667e+12,  1.78737667e+12,  1.78737667e+12,  1.78737667e+12,\n",
       "        1.78737667e+12,  1.78737667e+12,  1.78737667e+12,  1.78737667e+12,\n",
       "        1.78737667e+12,  1.78737667e+12,  1.78737667e+12,  1.78737667e+12,\n",
       "        1.78737667e+12,  1.78737667e+12,  1.78737667e+12,  1.78737667e+12])"
      ]
     },
     "execution_count": 51,
     "metadata": {},
     "output_type": "execute_result"
    }
   ],
   "source": [
    "#extraemos los coeficientes\n",
    "reg_model.coef_"
   ]
  },
  {
   "cell_type": "code",
   "execution_count": 52,
   "metadata": {
    "collapsed": true
   },
   "outputs": [],
   "source": [
    "#creamos una función para observar la \"feature importance\" en nuestros modelos\n",
    "def plot_feature_importance(columnas,model_features,columns_ploted=10,model_name='Catboost',savefig = False):\n",
    "    '''\n",
    "    This function receives a set of columns feeded to a model, and the importance of each of feature.\n",
    "    Returns a graphical visualization.\n",
    "    \n",
    "    Call it fot catboost pipe example:\n",
    "    plot_feature_importance(pipe_best_estimator[:-1].transform(X_tr).columns,\n",
    "    pipe_best_estimator.named_steps['cb'].get_feature_importance(),20)\n",
    "    \n",
    "    Call it for lasso pipe example:\n",
    "    plot_feature_importance(pipe_best_estimator[:-1].transform(X_tr).columns,\n",
    "    np.array(pipe_best_estimator.named_steps['clf'].coef_.squeeze()),20)\n",
    "\n",
    "    '''\n",
    "\n",
    "    feature_importance = pd.Series(index = columnas, data = np.abs(model_features))\n",
    "    n_selected_features = (feature_importance>0).sum()\n",
    "    print('{0:d} features, reduction of {1:2.2f}%'.format(n_selected_features,\n",
    "                                                          (1-n_selected_features/len(feature_importance))*100))\n",
    "    plt.figure()\n",
    "    feature_importance.sort_values().tail(columns_ploted).plot(kind = 'bar', figsize = (18,6))\n",
    "    plt.title('Feature Importance for {}'.format(model_name))\n",
    "    if savefig != False:\n",
    "        plt.savefig(savefig)\n",
    "    plt.show()\n"
   ]
  },
  {
   "cell_type": "code",
   "execution_count": 53,
   "metadata": {
    "collapsed": false
   },
   "outputs": [
    {
     "name": "stdout",
     "output_type": "stream",
     "text": [
      "44 features, reduction of 0.00%\n"
     ]
    },
    {
     "data": {
      "image/png": "[encoded data removed]",
      "text/plain": [
       "<Figure size 1296x432 with 1 Axes>"
      ]
     },
     "metadata": {},
     "output_type": "display_data"
    }
   ],
   "source": [
    "#ejecutamos la función creada para graficar\n",
    "plot_feature_importance(X_train.columns,reg_model.coef_.squeeze(),\n",
    "                        columns_ploted=10, model_name='Linear')"
   ]
  },
  {
   "cell_type": "markdown",
   "metadata": {},
   "source": [
    " <span style=\"font-family: Courier New; background-color: #ffcc5c; color: #000000; padding: 3px; \">OBSERVACIÓN DEL MODELO:</span> Podemos observar que el modelo elegido (regresión lineal) no ajusta bien, los resultados obtenidos no son óptimos para un análisis, lo que nos obliga a buscar una nueva opción eligiendo otro modelo"
   ]
  },
  {
   "cell_type": "markdown",
   "metadata": {},
   "source": [
    "    ### 02 - Lasso (least absolute shrinkage and selection operator)"
   ]
  },
  {
   "cell_type": "code",
   "execution_count": 54,
   "metadata": {
    "collapsed": true
   },
   "outputs": [],
   "source": [
    "#repetimos el mismo procedimiento, cambiando de módelo"
   ]
  },
  {
   "cell_type": "code",
   "execution_count": 55,
   "metadata": {
    "collapsed": true
   },
   "outputs": [],
   "source": [
    "reg_lasso = Lasso(random_state=0,alpha=1).fit(X_train, y_train)"
   ]
  },
  {
   "cell_type": "code",
   "execution_count": 56,
   "metadata": {
    "collapsed": false,
    "scrolled": false
   },
   "outputs": [
    {
     "data": {
      "text/plain": [
       "0.13187233497358897"
      ]
     },
     "execution_count": 56,
     "metadata": {},
     "output_type": "execute_result"
    }
   ],
   "source": [
    "reg_lasso.score(X_train, y_train)"
   ]
  },
  {
   "cell_type": "code",
   "execution_count": 57,
   "metadata": {
    "collapsed": false
   },
   "outputs": [
    {
     "data": {
      "text/plain": [
       "11.38"
      ]
     },
     "execution_count": 57,
     "metadata": {},
     "output_type": "execute_result"
    }
   ],
   "source": [
    "mean_squared_error(reg_lasso.predict(X_train),y_train).round(2)"
   ]
  },
  {
   "cell_type": "code",
   "execution_count": 58,
   "metadata": {
    "collapsed": false,
    "scrolled": true
   },
   "outputs": [
    {
     "data": {
      "text/plain": [
       "0.0931657334289675"
      ]
     },
     "execution_count": 58,
     "metadata": {},
     "output_type": "execute_result"
    }
   ],
   "source": [
    "reg_lasso.score(X_test, y_test)"
   ]
  },
  {
   "cell_type": "code",
   "execution_count": 59,
   "metadata": {
    "collapsed": false
   },
   "outputs": [
    {
     "data": {
      "text/plain": [
       "12.7"
      ]
     },
     "execution_count": 59,
     "metadata": {},
     "output_type": "execute_result"
    }
   ],
   "source": [
    "mean_squared_error(reg_lasso.predict(X_test),y_test).round(2)"
   ]
  },
  {
   "cell_type": "code",
   "execution_count": 60,
   "metadata": {
    "collapsed": false
   },
   "outputs": [
    {
     "name": "stdout",
     "output_type": "stream",
     "text": [
      "5 features, reduction of 88.64%\n"
     ]
    },
    {
     "data": {
      "image/png": "[encoded data removed]",
      "text/plain": [
       "<Figure size 1296x432 with 1 Axes>"
      ]
     },
     "metadata": {},
     "output_type": "display_data"
    }
   ],
   "source": [
    "plot_feature_importance(X_train.columns,reg_lasso.coef_.squeeze(),model_name='Lasso')"
   ]
  },
  {
   "cell_type": "markdown",
   "metadata": {},
   "source": [
    "<span style=\"font-family: Courier New; background-color: #ffcc5c; color: #000000; padding: 3px; \">OBSERVACIÓN DEL MODELO:</span> Este modelo, si bien ajusta mejor que el anterior, sigue siendo malo para la predicción de nuestro target. Sin embargo podemos observar que la variable country ya no es tan importante, lo que significa que las resto de variables empiezan a ser más importantes que el país. Podemos observar también que la variable \"contaminación del aire\" comienza a tomar protagonismo."
   ]
  },
  {
   "cell_type": "markdown",
   "metadata": {},
   "source": [
    "    ### 03 - xgb: Catbost"
   ]
  },
  {
   "cell_type": "code",
   "execution_count": 61,
   "metadata": {
    "collapsed": true
   },
   "outputs": [],
   "source": [
    "#repetimos el mismo procedimiento, cambiando de módelo"
   ]
  },
  {
   "cell_type": "code",
   "execution_count": 62,
   "metadata": {
    "collapsed": true
   },
   "outputs": [],
   "source": [
    "cb = CatBoostRegressor()"
   ]
  },
  {
   "cell_type": "code",
   "execution_count": 63,
   "metadata": {
    "collapsed": false
   },
   "outputs": [
    {
     "name": "stdout",
     "output_type": "stream",
     "text": [
      "0:\tlearn: 3.5794851\ttotal: 52.5ms\tremaining: 52.5s\n",
      "1:\tlearn: 3.5378887\ttotal: 53.5ms\tremaining: 26.7s\n",
      "2:\tlearn: 3.4960510\ttotal: 54.3ms\tremaining: 18.1s\n",
      "3:\tlearn: 3.4594268\ttotal: 55.4ms\tremaining: 13.8s\n",
      "4:\tlearn: 3.4173627\ttotal: 56.1ms\tremaining: 11.2s\n",
      "5:\tlearn: 3.3812965\ttotal: 56.9ms\tremaining: 9.43s\n",
      "6:\tlearn: 3.3487129\ttotal: 57.7ms\tremaining: 8.19s\n",
      "7:\tlearn: 3.3115236\ttotal: 58.5ms\tremaining: 7.25s\n",
      "8:\tlearn: 3.2888368\ttotal: 59.3ms\tremaining: 6.53s\n",
      "9:\tlearn: 3.2603793\ttotal: 60.1ms\tremaining: 5.95s\n",
      "10:\tlearn: 3.2365027\ttotal: 61.7ms\tremaining: 5.55s\n",
      "11:\tlearn: 3.2050253\ttotal: 63.1ms\tremaining: 5.19s\n",
      "12:\tlearn: 3.1751127\ttotal: 63.9ms\tremaining: 4.85s\n",
      "13:\tlearn: 3.1436508\ttotal: 64.7ms\tremaining: 4.56s\n",
      "14:\tlearn: 3.1165108\ttotal: 65.6ms\tremaining: 4.3s\n",
      "15:\tlearn: 3.0892930\ttotal: 66.3ms\tremaining: 4.08s\n",
      "16:\tlearn: 3.0632438\ttotal: 67.1ms\tremaining: 3.88s\n",
      "17:\tlearn: 3.0288783\ttotal: 68ms\tremaining: 3.71s\n",
      "18:\tlearn: 3.0018228\ttotal: 68.9ms\tremaining: 3.56s\n",
      "19:\tlearn: 2.9670142\ttotal: 69.8ms\tremaining: 3.42s\n",
      "20:\tlearn: 2.9445744\ttotal: 70.6ms\tremaining: 3.29s\n",
      "21:\tlearn: 2.9159457\ttotal: 71.5ms\tremaining: 3.18s\n",
      "22:\tlearn: 2.8838851\ttotal: 72.3ms\tremaining: 3.07s\n",
      "23:\tlearn: 2.8595300\ttotal: 73.1ms\tremaining: 2.97s\n",
      "24:\tlearn: 2.8336177\ttotal: 74ms\tremaining: 2.88s\n",
      "25:\tlearn: 2.8096907\ttotal: 74.8ms\tremaining: 2.8s\n",
      "26:\tlearn: 2.7913704\ttotal: 75.7ms\tremaining: 2.73s\n",
      "27:\tlearn: 2.7701111\ttotal: 76.7ms\tremaining: 2.66s\n",
      "28:\tlearn: 2.7490130\ttotal: 77.5ms\tremaining: 2.6s\n",
      "29:\tlearn: 2.7255169\ttotal: 78.4ms\tremaining: 2.53s\n",
      "30:\tlearn: 2.7047109\ttotal: 79.3ms\tremaining: 2.48s\n",
      "31:\tlearn: 2.6866213\ttotal: 80.1ms\tremaining: 2.42s\n",
      "32:\tlearn: 2.6760148\ttotal: 80.9ms\tremaining: 2.37s\n",
      "33:\tlearn: 2.6564324\ttotal: 81.7ms\tremaining: 2.32s\n",
      "34:\tlearn: 2.6371575\ttotal: 82.6ms\tremaining: 2.28s\n",
      "35:\tlearn: 2.6228946\ttotal: 83.5ms\tremaining: 2.23s\n",
      "36:\tlearn: 2.6005892\ttotal: 84.3ms\tremaining: 2.19s\n",
      "37:\tlearn: 2.5856499\ttotal: 85.5ms\tremaining: 2.17s\n",
      "38:\tlearn: 2.5666758\ttotal: 86.6ms\tremaining: 2.13s\n",
      "39:\tlearn: 2.5508557\ttotal: 87.4ms\tremaining: 2.1s\n",
      "40:\tlearn: 2.5394271\ttotal: 88.2ms\tremaining: 2.06s\n",
      "41:\tlearn: 2.5190590\ttotal: 89ms\tremaining: 2.03s\n",
      "42:\tlearn: 2.5023396\ttotal: 89.9ms\tremaining: 2s\n",
      "43:\tlearn: 2.4780202\ttotal: 90.7ms\tremaining: 1.97s\n",
      "44:\tlearn: 2.4644911\ttotal: 91.6ms\tremaining: 1.94s\n",
      "45:\tlearn: 2.4428106\ttotal: 92.4ms\tremaining: 1.92s\n",
      "46:\tlearn: 2.4264307\ttotal: 93.2ms\tremaining: 1.89s\n",
      "47:\tlearn: 2.4117684\ttotal: 94.1ms\tremaining: 1.86s\n",
      "48:\tlearn: 2.4000795\ttotal: 94.9ms\tremaining: 1.84s\n",
      "49:\tlearn: 2.3859674\ttotal: 95.7ms\tremaining: 1.82s\n",
      "50:\tlearn: 2.3702677\ttotal: 96.5ms\tremaining: 1.79s\n",
      "51:\tlearn: 2.3593113\ttotal: 97.4ms\tremaining: 1.78s\n",
      "52:\tlearn: 2.3466174\ttotal: 98.3ms\tremaining: 1.76s\n",
      "53:\tlearn: 2.3349915\ttotal: 99.1ms\tremaining: 1.74s\n",
      "54:\tlearn: 2.3146712\ttotal: 99.9ms\tremaining: 1.72s\n",
      "55:\tlearn: 2.3013565\ttotal: 101ms\tremaining: 1.7s\n",
      "56:\tlearn: 2.2781071\ttotal: 102ms\tremaining: 1.68s\n",
      "57:\tlearn: 2.2594662\ttotal: 102ms\tremaining: 1.66s\n",
      "58:\tlearn: 2.2420113\ttotal: 103ms\tremaining: 1.65s\n",
      "59:\tlearn: 2.2318397\ttotal: 104ms\tremaining: 1.63s\n",
      "60:\tlearn: 2.2218629\ttotal: 105ms\tremaining: 1.61s\n",
      "61:\tlearn: 2.2064249\ttotal: 106ms\tremaining: 1.6s\n",
      "62:\tlearn: 2.1923159\ttotal: 107ms\tremaining: 1.58s\n",
      "63:\tlearn: 2.1831922\ttotal: 107ms\tremaining: 1.57s\n",
      "64:\tlearn: 2.1766293\ttotal: 108ms\tremaining: 1.56s\n",
      "65:\tlearn: 2.1645011\ttotal: 109ms\tremaining: 1.54s\n",
      "66:\tlearn: 2.1556744\ttotal: 110ms\tremaining: 1.53s\n",
      "67:\tlearn: 2.1462164\ttotal: 111ms\tremaining: 1.52s\n",
      "68:\tlearn: 2.1332316\ttotal: 112ms\tremaining: 1.51s\n",
      "69:\tlearn: 2.1221682\ttotal: 112ms\tremaining: 1.49s\n",
      "70:\tlearn: 2.1120232\ttotal: 113ms\tremaining: 1.48s\n",
      "71:\tlearn: 2.1031057\ttotal: 114ms\tremaining: 1.47s\n",
      "72:\tlearn: 2.0921317\ttotal: 115ms\tremaining: 1.46s\n",
      "73:\tlearn: 2.0835999\ttotal: 116ms\tremaining: 1.45s\n",
      "74:\tlearn: 2.0709796\ttotal: 117ms\tremaining: 1.44s\n",
      "75:\tlearn: 2.0627492\ttotal: 117ms\tremaining: 1.43s\n",
      "76:\tlearn: 2.0530039\ttotal: 118ms\tremaining: 1.42s\n",
      "77:\tlearn: 2.0453444\ttotal: 119ms\tremaining: 1.41s\n",
      "78:\tlearn: 2.0360358\ttotal: 120ms\tremaining: 1.4s\n",
      "79:\tlearn: 2.0280627\ttotal: 121ms\tremaining: 1.39s\n",
      "80:\tlearn: 2.0223856\ttotal: 122ms\tremaining: 1.38s\n",
      "81:\tlearn: 2.0175245\ttotal: 122ms\tremaining: 1.37s\n",
      "82:\tlearn: 2.0099707\ttotal: 123ms\tremaining: 1.36s\n",
      "83:\tlearn: 2.0009150\ttotal: 124ms\tremaining: 1.35s\n",
      "84:\tlearn: 1.9883951\ttotal: 125ms\tremaining: 1.35s\n",
      "85:\tlearn: 1.9735367\ttotal: 126ms\tremaining: 1.34s\n",
      "86:\tlearn: 1.9681416\ttotal: 127ms\tremaining: 1.33s\n",
      "87:\tlearn: 1.9562064\ttotal: 128ms\tremaining: 1.32s\n",
      "88:\tlearn: 1.9467837\ttotal: 129ms\tremaining: 1.32s\n",
      "89:\tlearn: 1.9354522\ttotal: 130ms\tremaining: 1.31s\n",
      "90:\tlearn: 1.9286167\ttotal: 131ms\tremaining: 1.31s\n",
      "91:\tlearn: 1.9194103\ttotal: 132ms\tremaining: 1.3s\n",
      "92:\tlearn: 1.9136913\ttotal: 133ms\tremaining: 1.29s\n",
      "93:\tlearn: 1.9076075\ttotal: 133ms\tremaining: 1.29s\n",
      "94:\tlearn: 1.9012062\ttotal: 135ms\tremaining: 1.28s\n",
      "95:\tlearn: 1.8917845\ttotal: 136ms\tremaining: 1.28s\n",
      "96:\tlearn: 1.8815001\ttotal: 137ms\tremaining: 1.28s\n",
      "97:\tlearn: 1.8761808\ttotal: 139ms\tremaining: 1.27s\n",
      "98:\tlearn: 1.8675518\ttotal: 140ms\tremaining: 1.27s\n",
      "99:\tlearn: 1.8598279\ttotal: 141ms\tremaining: 1.27s\n",
      "100:\tlearn: 1.8526472\ttotal: 142ms\tremaining: 1.26s\n",
      "101:\tlearn: 1.8416008\ttotal: 143ms\tremaining: 1.26s\n",
      "102:\tlearn: 1.8342132\ttotal: 144ms\tremaining: 1.25s\n",
      "103:\tlearn: 1.8246171\ttotal: 145ms\tremaining: 1.25s\n",
      "104:\tlearn: 1.8168343\ttotal: 145ms\tremaining: 1.24s\n",
      "105:\tlearn: 1.8086110\ttotal: 146ms\tremaining: 1.23s\n",
      "106:\tlearn: 1.8031307\ttotal: 147ms\tremaining: 1.23s\n",
      "107:\tlearn: 1.7974913\ttotal: 148ms\tremaining: 1.22s\n",
      "108:\tlearn: 1.7885217\ttotal: 149ms\tremaining: 1.22s\n",
      "109:\tlearn: 1.7824840\ttotal: 150ms\tremaining: 1.22s\n",
      "110:\tlearn: 1.7739345\ttotal: 151ms\tremaining: 1.21s\n",
      "111:\tlearn: 1.7642503\ttotal: 152ms\tremaining: 1.2s\n",
      "112:\tlearn: 1.7608427\ttotal: 153ms\tremaining: 1.2s\n",
      "113:\tlearn: 1.7544323\ttotal: 154ms\tremaining: 1.19s\n",
      "114:\tlearn: 1.7486593\ttotal: 155ms\tremaining: 1.19s\n",
      "115:\tlearn: 1.7430636\ttotal: 156ms\tremaining: 1.19s\n",
      "116:\tlearn: 1.7363737\ttotal: 157ms\tremaining: 1.18s\n",
      "117:\tlearn: 1.7313892\ttotal: 157ms\tremaining: 1.18s\n",
      "118:\tlearn: 1.7259199\ttotal: 158ms\tremaining: 1.17s\n",
      "119:\tlearn: 1.7180760\ttotal: 159ms\tremaining: 1.17s\n",
      "120:\tlearn: 1.7118021\ttotal: 160ms\tremaining: 1.16s\n",
      "121:\tlearn: 1.7070141\ttotal: 161ms\tremaining: 1.16s\n",
      "122:\tlearn: 1.6995314\ttotal: 162ms\tremaining: 1.15s\n",
      "123:\tlearn: 1.6903233\ttotal: 163ms\tremaining: 1.15s\n",
      "124:\tlearn: 1.6840106\ttotal: 163ms\tremaining: 1.14s\n",
      "125:\tlearn: 1.6812147\ttotal: 164ms\tremaining: 1.14s\n",
      "126:\tlearn: 1.6742241\ttotal: 165ms\tremaining: 1.13s\n",
      "127:\tlearn: 1.6691098\ttotal: 166ms\tremaining: 1.13s\n",
      "128:\tlearn: 1.6627877\ttotal: 167ms\tremaining: 1.12s\n",
      "129:\tlearn: 1.6576956\ttotal: 167ms\tremaining: 1.12s\n",
      "130:\tlearn: 1.6505965\ttotal: 168ms\tremaining: 1.11s\n",
      "131:\tlearn: 1.6467239\ttotal: 169ms\tremaining: 1.11s\n",
      "132:\tlearn: 1.6367492\ttotal: 170ms\tremaining: 1.11s\n",
      "133:\tlearn: 1.6302945\ttotal: 171ms\tremaining: 1.1s\n",
      "134:\tlearn: 1.6260161\ttotal: 172ms\tremaining: 1.1s\n",
      "135:\tlearn: 1.6192110\ttotal: 173ms\tremaining: 1.1s\n",
      "136:\tlearn: 1.6151488\ttotal: 173ms\tremaining: 1.09s\n",
      "137:\tlearn: 1.6102600\ttotal: 175ms\tremaining: 1.09s\n",
      "138:\tlearn: 1.6066759\ttotal: 176ms\tremaining: 1.09s\n",
      "139:\tlearn: 1.6032013\ttotal: 177ms\tremaining: 1.08s\n",
      "140:\tlearn: 1.5992618\ttotal: 178ms\tremaining: 1.08s\n",
      "141:\tlearn: 1.5958694\ttotal: 178ms\tremaining: 1.08s\n",
      "142:\tlearn: 1.5912668\ttotal: 179ms\tremaining: 1.07s\n",
      "143:\tlearn: 1.5851886\ttotal: 180ms\tremaining: 1.07s\n",
      "144:\tlearn: 1.5803612\ttotal: 181ms\tremaining: 1.07s\n",
      "145:\tlearn: 1.5746385\ttotal: 182ms\tremaining: 1.06s\n",
      "146:\tlearn: 1.5710056\ttotal: 182ms\tremaining: 1.06s\n",
      "147:\tlearn: 1.5679043\ttotal: 183ms\tremaining: 1.05s\n",
      "148:\tlearn: 1.5628055\ttotal: 184ms\tremaining: 1.05s\n",
      "149:\tlearn: 1.5579840\ttotal: 185ms\tremaining: 1.05s\n",
      "150:\tlearn: 1.5534234\ttotal: 186ms\tremaining: 1.04s\n",
      "151:\tlearn: 1.5488191\ttotal: 187ms\tremaining: 1.04s\n",
      "152:\tlearn: 1.5418553\ttotal: 188ms\tremaining: 1.04s\n",
      "153:\tlearn: 1.5363920\ttotal: 189ms\tremaining: 1.03s\n",
      "154:\tlearn: 1.5290943\ttotal: 189ms\tremaining: 1.03s\n",
      "155:\tlearn: 1.5220683\ttotal: 191ms\tremaining: 1.03s\n",
      "156:\tlearn: 1.5175373\ttotal: 191ms\tremaining: 1.03s\n",
      "157:\tlearn: 1.5135217\ttotal: 192ms\tremaining: 1.02s\n",
      "158:\tlearn: 1.5090429\ttotal: 193ms\tremaining: 1.02s\n",
      "159:\tlearn: 1.5052542\ttotal: 194ms\tremaining: 1.02s\n",
      "160:\tlearn: 1.4970343\ttotal: 195ms\tremaining: 1.01s\n",
      "161:\tlearn: 1.4900183\ttotal: 196ms\tremaining: 1.01s\n",
      "162:\tlearn: 1.4856311\ttotal: 196ms\tremaining: 1.01s\n",
      "163:\tlearn: 1.4772341\ttotal: 198ms\tremaining: 1.01s\n",
      "164:\tlearn: 1.4698314\ttotal: 198ms\tremaining: 1s\n",
      "165:\tlearn: 1.4620965\ttotal: 199ms\tremaining: 1s\n",
      "166:\tlearn: 1.4569155\ttotal: 200ms\tremaining: 998ms\n",
      "167:\tlearn: 1.4525453\ttotal: 201ms\tremaining: 995ms\n",
      "168:\tlearn: 1.4476933\ttotal: 202ms\tremaining: 992ms\n",
      "169:\tlearn: 1.4407805\ttotal: 203ms\tremaining: 989ms\n",
      "170:\tlearn: 1.4332882\ttotal: 204ms\tremaining: 987ms\n",
      "171:\tlearn: 1.4301993\ttotal: 204ms\tremaining: 984ms\n",
      "172:\tlearn: 1.4233980\ttotal: 205ms\tremaining: 981ms\n",
      "173:\tlearn: 1.4190961\ttotal: 206ms\tremaining: 979ms\n",
      "174:\tlearn: 1.4147660\ttotal: 207ms\tremaining: 976ms\n",
      "175:\tlearn: 1.4097073\ttotal: 208ms\tremaining: 973ms\n",
      "176:\tlearn: 1.4052712\ttotal: 209ms\tremaining: 970ms\n",
      "177:\tlearn: 1.4012701\ttotal: 210ms\tremaining: 968ms\n",
      "178:\tlearn: 1.3934001\ttotal: 210ms\tremaining: 965ms\n",
      "179:\tlearn: 1.3871678\ttotal: 211ms\tremaining: 962ms\n",
      "180:\tlearn: 1.3827829\ttotal: 212ms\tremaining: 959ms\n",
      "181:\tlearn: 1.3793249\ttotal: 213ms\tremaining: 956ms\n",
      "182:\tlearn: 1.3768626\ttotal: 214ms\tremaining: 953ms\n",
      "183:\tlearn: 1.3732675\ttotal: 214ms\tremaining: 951ms\n",
      "184:\tlearn: 1.3693987\ttotal: 215ms\tremaining: 948ms\n",
      "185:\tlearn: 1.3664634\ttotal: 216ms\tremaining: 946ms\n",
      "186:\tlearn: 1.3611638\ttotal: 217ms\tremaining: 944ms\n",
      "187:\tlearn: 1.3571871\ttotal: 219ms\tremaining: 945ms\n",
      "188:\tlearn: 1.3545604\ttotal: 220ms\tremaining: 943ms\n",
      "189:\tlearn: 1.3506811\ttotal: 221ms\tremaining: 940ms\n",
      "190:\tlearn: 1.3466888\ttotal: 221ms\tremaining: 938ms\n",
      "191:\tlearn: 1.3450085\ttotal: 222ms\tremaining: 935ms\n",
      "192:\tlearn: 1.3431663\ttotal: 223ms\tremaining: 932ms\n",
      "193:\tlearn: 1.3403402\ttotal: 224ms\tremaining: 929ms\n",
      "194:\tlearn: 1.3374321\ttotal: 224ms\tremaining: 926ms\n",
      "195:\tlearn: 1.3336404\ttotal: 226ms\tremaining: 926ms\n",
      "196:\tlearn: 1.3284625\ttotal: 227ms\tremaining: 924ms\n",
      "197:\tlearn: 1.3229688\ttotal: 228ms\tremaining: 924ms\n",
      "198:\tlearn: 1.3182012\ttotal: 229ms\tremaining: 922ms\n",
      "199:\tlearn: 1.3160579\ttotal: 230ms\tremaining: 922ms\n",
      "200:\tlearn: 1.3120132\ttotal: 232ms\tremaining: 921ms\n",
      "201:\tlearn: 1.3053592\ttotal: 233ms\tremaining: 920ms\n",
      "202:\tlearn: 1.3025511\ttotal: 234ms\tremaining: 919ms\n",
      "203:\tlearn: 1.2954130\ttotal: 235ms\tremaining: 918ms\n",
      "204:\tlearn: 1.2920239\ttotal: 236ms\tremaining: 917ms\n",
      "205:\tlearn: 1.2885313\ttotal: 238ms\tremaining: 916ms\n",
      "206:\tlearn: 1.2855185\ttotal: 239ms\tremaining: 914ms\n",
      "207:\tlearn: 1.2825537\ttotal: 240ms\tremaining: 914ms\n",
      "208:\tlearn: 1.2785313\ttotal: 241ms\tremaining: 913ms\n",
      "209:\tlearn: 1.2755750\ttotal: 242ms\tremaining: 910ms\n",
      "210:\tlearn: 1.2689355\ttotal: 243ms\tremaining: 910ms\n",
      "211:\tlearn: 1.2650664\ttotal: 244ms\tremaining: 907ms\n",
      "212:\tlearn: 1.2622486\ttotal: 245ms\tremaining: 906ms\n",
      "213:\tlearn: 1.2603169\ttotal: 246ms\tremaining: 905ms\n",
      "214:\tlearn: 1.2566052\ttotal: 247ms\tremaining: 903ms\n",
      "215:\tlearn: 1.2546517\ttotal: 248ms\tremaining: 901ms\n",
      "216:\tlearn: 1.2519833\ttotal: 249ms\tremaining: 900ms\n",
      "217:\tlearn: 1.2483123\ttotal: 250ms\tremaining: 899ms\n",
      "218:\tlearn: 1.2455427\ttotal: 251ms\tremaining: 896ms\n",
      "219:\tlearn: 1.2442292\ttotal: 252ms\tremaining: 894ms\n",
      "220:\tlearn: 1.2396563\ttotal: 254ms\tremaining: 894ms\n",
      "221:\tlearn: 1.2371577\ttotal: 255ms\tremaining: 894ms\n",
      "222:\tlearn: 1.2346474\ttotal: 256ms\tremaining: 892ms\n",
      "223:\tlearn: 1.2317280\ttotal: 257ms\tremaining: 890ms\n",
      "224:\tlearn: 1.2285591\ttotal: 258ms\tremaining: 890ms\n",
      "225:\tlearn: 1.2254442\ttotal: 259ms\tremaining: 889ms\n",
      "226:\tlearn: 1.2217698\ttotal: 261ms\tremaining: 887ms\n",
      "227:\tlearn: 1.2188253\ttotal: 262ms\tremaining: 887ms\n",
      "228:\tlearn: 1.2167146\ttotal: 263ms\tremaining: 886ms\n",
      "229:\tlearn: 1.2131688\ttotal: 265ms\tremaining: 886ms\n",
      "230:\tlearn: 1.2090577\ttotal: 266ms\tremaining: 885ms\n",
      "231:\tlearn: 1.2063103\ttotal: 268ms\tremaining: 886ms\n",
      "232:\tlearn: 1.2025251\ttotal: 269ms\tremaining: 886ms\n",
      "233:\tlearn: 1.1996795\ttotal: 271ms\tremaining: 886ms\n",
      "234:\tlearn: 1.1975962\ttotal: 273ms\tremaining: 887ms\n",
      "235:\tlearn: 1.1930864\ttotal: 276ms\tremaining: 894ms\n",
      "236:\tlearn: 1.1896968\ttotal: 279ms\tremaining: 897ms\n",
      "237:\tlearn: 1.1855340\ttotal: 280ms\tremaining: 897ms\n",
      "238:\tlearn: 1.1816006\ttotal: 282ms\tremaining: 898ms\n",
      "239:\tlearn: 1.1793989\ttotal: 287ms\tremaining: 910ms\n",
      "240:\tlearn: 1.1739261\ttotal: 289ms\tremaining: 912ms\n",
      "241:\tlearn: 1.1681449\ttotal: 293ms\tremaining: 917ms\n",
      "242:\tlearn: 1.1659751\ttotal: 295ms\tremaining: 919ms\n",
      "243:\tlearn: 1.1646142\ttotal: 298ms\tremaining: 922ms\n",
      "244:\tlearn: 1.1579440\ttotal: 303ms\tremaining: 933ms\n",
      "245:\tlearn: 1.1561941\ttotal: 305ms\tremaining: 934ms\n",
      "246:\tlearn: 1.1528732\ttotal: 307ms\tremaining: 935ms\n",
      "247:\tlearn: 1.1458894\ttotal: 308ms\tremaining: 935ms\n",
      "248:\tlearn: 1.1429027\ttotal: 311ms\tremaining: 937ms\n",
      "249:\tlearn: 1.1416897\ttotal: 312ms\tremaining: 937ms\n",
      "250:\tlearn: 1.1398023\ttotal: 314ms\tremaining: 936ms\n",
      "251:\tlearn: 1.1384933\ttotal: 315ms\tremaining: 936ms\n",
      "252:\tlearn: 1.1362939\ttotal: 317ms\tremaining: 936ms\n",
      "253:\tlearn: 1.1342775\ttotal: 319ms\tremaining: 937ms\n",
      "254:\tlearn: 1.1324166\ttotal: 320ms\tremaining: 936ms\n",
      "255:\tlearn: 1.1303263\ttotal: 323ms\tremaining: 937ms\n",
      "256:\tlearn: 1.1257220\ttotal: 324ms\tremaining: 938ms\n",
      "257:\tlearn: 1.1228795\ttotal: 326ms\tremaining: 938ms\n",
      "258:\tlearn: 1.1210311\ttotal: 328ms\tremaining: 938ms\n",
      "259:\tlearn: 1.1192841\ttotal: 329ms\tremaining: 936ms\n",
      "260:\tlearn: 1.1170662\ttotal: 330ms\tremaining: 934ms\n",
      "261:\tlearn: 1.1124257\ttotal: 331ms\tremaining: 932ms\n",
      "262:\tlearn: 1.1084106\ttotal: 332ms\tremaining: 930ms\n",
      "263:\tlearn: 1.1039337\ttotal: 333ms\tremaining: 928ms\n",
      "264:\tlearn: 1.1016965\ttotal: 335ms\tremaining: 929ms\n",
      "265:\tlearn: 1.0992388\ttotal: 337ms\tremaining: 930ms\n",
      "266:\tlearn: 1.0948747\ttotal: 338ms\tremaining: 929ms\n",
      "267:\tlearn: 1.0929259\ttotal: 340ms\tremaining: 928ms\n",
      "268:\tlearn: 1.0909559\ttotal: 341ms\tremaining: 928ms\n",
      "269:\tlearn: 1.0892696\ttotal: 343ms\tremaining: 926ms\n",
      "270:\tlearn: 1.0878960\ttotal: 345ms\tremaining: 927ms\n",
      "271:\tlearn: 1.0842994\ttotal: 346ms\tremaining: 926ms\n",
      "272:\tlearn: 1.0821353\ttotal: 347ms\tremaining: 924ms\n",
      "273:\tlearn: 1.0761043\ttotal: 348ms\tremaining: 922ms\n",
      "274:\tlearn: 1.0748783\ttotal: 349ms\tremaining: 921ms\n",
      "275:\tlearn: 1.0718128\ttotal: 351ms\tremaining: 921ms\n",
      "276:\tlearn: 1.0660088\ttotal: 353ms\tremaining: 921ms\n",
      "277:\tlearn: 1.0610090\ttotal: 355ms\tremaining: 921ms\n",
      "278:\tlearn: 1.0556959\ttotal: 356ms\tremaining: 921ms\n",
      "279:\tlearn: 1.0514276\ttotal: 358ms\tremaining: 920ms\n",
      "280:\tlearn: 1.0472864\ttotal: 359ms\tremaining: 919ms\n",
      "281:\tlearn: 1.0445279\ttotal: 360ms\tremaining: 917ms\n",
      "282:\tlearn: 1.0431536\ttotal: 362ms\tremaining: 916ms\n",
      "283:\tlearn: 1.0382433\ttotal: 363ms\tremaining: 914ms\n",
      "284:\tlearn: 1.0358822\ttotal: 364ms\tremaining: 913ms\n",
      "285:\tlearn: 1.0323819\ttotal: 365ms\tremaining: 912ms\n",
      "286:\tlearn: 1.0297979\ttotal: 367ms\tremaining: 911ms\n",
      "287:\tlearn: 1.0282118\ttotal: 368ms\tremaining: 909ms\n",
      "288:\tlearn: 1.0262957\ttotal: 369ms\tremaining: 907ms\n",
      "289:\tlearn: 1.0247768\ttotal: 370ms\tremaining: 906ms\n",
      "290:\tlearn: 1.0236040\ttotal: 371ms\tremaining: 904ms\n",
      "291:\tlearn: 1.0188948\ttotal: 373ms\tremaining: 904ms\n",
      "292:\tlearn: 1.0176010\ttotal: 374ms\tremaining: 902ms\n",
      "293:\tlearn: 1.0145190\ttotal: 375ms\tremaining: 900ms\n",
      "294:\tlearn: 1.0129826\ttotal: 376ms\tremaining: 899ms\n",
      "295:\tlearn: 1.0099783\ttotal: 377ms\tremaining: 898ms\n",
      "296:\tlearn: 1.0059030\ttotal: 379ms\tremaining: 896ms\n",
      "297:\tlearn: 1.0044211\ttotal: 380ms\tremaining: 894ms\n",
      "298:\tlearn: 0.9988686\ttotal: 380ms\tremaining: 892ms\n",
      "299:\tlearn: 0.9949489\ttotal: 381ms\tremaining: 890ms\n",
      "300:\tlearn: 0.9918727\ttotal: 382ms\tremaining: 888ms\n",
      "301:\tlearn: 0.9901472\ttotal: 383ms\tremaining: 886ms\n",
      "302:\tlearn: 0.9869035\ttotal: 384ms\tremaining: 883ms\n",
      "303:\tlearn: 0.9850944\ttotal: 385ms\tremaining: 881ms\n",
      "304:\tlearn: 0.9818913\ttotal: 386ms\tremaining: 880ms\n",
      "305:\tlearn: 0.9796370\ttotal: 387ms\tremaining: 877ms\n",
      "306:\tlearn: 0.9784326\ttotal: 388ms\tremaining: 876ms\n",
      "307:\tlearn: 0.9754813\ttotal: 389ms\tremaining: 874ms\n",
      "308:\tlearn: 0.9698740\ttotal: 390ms\tremaining: 872ms\n",
      "309:\tlearn: 0.9686683\ttotal: 391ms\tremaining: 870ms\n",
      "310:\tlearn: 0.9650775\ttotal: 392ms\tremaining: 868ms\n",
      "311:\tlearn: 0.9640072\ttotal: 393ms\tremaining: 866ms\n",
      "312:\tlearn: 0.9608010\ttotal: 394ms\tremaining: 865ms\n",
      "313:\tlearn: 0.9586080\ttotal: 395ms\tremaining: 864ms\n",
      "314:\tlearn: 0.9577240\ttotal: 397ms\tremaining: 863ms\n",
      "315:\tlearn: 0.9537773\ttotal: 398ms\tremaining: 860ms\n",
      "316:\tlearn: 0.9504457\ttotal: 399ms\tremaining: 859ms\n",
      "317:\tlearn: 0.9493541\ttotal: 401ms\tremaining: 859ms\n",
      "318:\tlearn: 0.9482745\ttotal: 402ms\tremaining: 858ms\n",
      "319:\tlearn: 0.9421687\ttotal: 403ms\tremaining: 856ms\n",
      "320:\tlearn: 0.9410356\ttotal: 404ms\tremaining: 854ms\n",
      "321:\tlearn: 0.9381256\ttotal: 405ms\tremaining: 852ms\n",
      "322:\tlearn: 0.9341226\ttotal: 406ms\tremaining: 851ms\n",
      "323:\tlearn: 0.9307880\ttotal: 408ms\tremaining: 851ms\n",
      "324:\tlearn: 0.9295859\ttotal: 410ms\tremaining: 851ms\n",
      "325:\tlearn: 0.9252091\ttotal: 411ms\tremaining: 849ms\n",
      "326:\tlearn: 0.9238586\ttotal: 412ms\tremaining: 848ms\n",
      "327:\tlearn: 0.9210540\ttotal: 413ms\tremaining: 847ms\n",
      "328:\tlearn: 0.9192497\ttotal: 415ms\tremaining: 846ms\n",
      "329:\tlearn: 0.9149111\ttotal: 416ms\tremaining: 844ms\n",
      "330:\tlearn: 0.9135654\ttotal: 417ms\tremaining: 842ms\n",
      "331:\tlearn: 0.9118456\ttotal: 418ms\tremaining: 841ms\n",
      "332:\tlearn: 0.9083519\ttotal: 419ms\tremaining: 839ms\n",
      "333:\tlearn: 0.9073680\ttotal: 420ms\tremaining: 838ms\n",
      "334:\tlearn: 0.9063119\ttotal: 422ms\tremaining: 838ms\n",
      "335:\tlearn: 0.9033838\ttotal: 423ms\tremaining: 836ms\n",
      "336:\tlearn: 0.9025593\ttotal: 424ms\tremaining: 834ms\n",
      "337:\tlearn: 0.8997178\ttotal: 425ms\tremaining: 832ms\n",
      "338:\tlearn: 0.8968286\ttotal: 425ms\tremaining: 830ms\n",
      "339:\tlearn: 0.8958308\ttotal: 426ms\tremaining: 827ms\n",
      "340:\tlearn: 0.8932537\ttotal: 427ms\tremaining: 825ms\n",
      "341:\tlearn: 0.8899201\ttotal: 428ms\tremaining: 823ms\n",
      "342:\tlearn: 0.8890082\ttotal: 429ms\tremaining: 821ms\n",
      "343:\tlearn: 0.8862976\ttotal: 430ms\tremaining: 819ms\n",
      "344:\tlearn: 0.8855330\ttotal: 430ms\tremaining: 817ms\n",
      "345:\tlearn: 0.8827281\ttotal: 431ms\tremaining: 815ms\n",
      "346:\tlearn: 0.8810647\ttotal: 432ms\tremaining: 813ms\n",
      "347:\tlearn: 0.8794299\ttotal: 433ms\tremaining: 811ms\n",
      "348:\tlearn: 0.8781795\ttotal: 434ms\tremaining: 809ms\n",
      "349:\tlearn: 0.8774242\ttotal: 436ms\tremaining: 809ms\n",
      "350:\tlearn: 0.8762316\ttotal: 437ms\tremaining: 807ms\n",
      "351:\tlearn: 0.8742512\ttotal: 438ms\tremaining: 806ms\n",
      "352:\tlearn: 0.8718030\ttotal: 439ms\tremaining: 804ms\n",
      "353:\tlearn: 0.8692290\ttotal: 439ms\tremaining: 802ms\n",
      "354:\tlearn: 0.8684092\ttotal: 440ms\tremaining: 800ms\n",
      "355:\tlearn: 0.8676885\ttotal: 441ms\tremaining: 799ms\n",
      "356:\tlearn: 0.8648494\ttotal: 443ms\tremaining: 798ms\n",
      "357:\tlearn: 0.8616407\ttotal: 444ms\tremaining: 797ms\n",
      "358:\tlearn: 0.8608742\ttotal: 445ms\tremaining: 795ms\n",
      "359:\tlearn: 0.8580050\ttotal: 446ms\tremaining: 794ms\n",
      "360:\tlearn: 0.8573177\ttotal: 447ms\tremaining: 792ms\n",
      "361:\tlearn: 0.8546484\ttotal: 448ms\tremaining: 790ms\n",
      "362:\tlearn: 0.8537763\ttotal: 449ms\tremaining: 788ms\n",
      "363:\tlearn: 0.8516933\ttotal: 450ms\tremaining: 786ms\n",
      "364:\tlearn: 0.8490625\ttotal: 451ms\tremaining: 784ms\n",
      "365:\tlearn: 0.8464835\ttotal: 452ms\tremaining: 782ms\n",
      "366:\tlearn: 0.8444287\ttotal: 452ms\tremaining: 780ms\n",
      "367:\tlearn: 0.8424876\ttotal: 453ms\tremaining: 778ms\n",
      "368:\tlearn: 0.8410557\ttotal: 454ms\tremaining: 776ms\n",
      "369:\tlearn: 0.8399636\ttotal: 455ms\tremaining: 774ms\n",
      "370:\tlearn: 0.8392997\ttotal: 456ms\tremaining: 772ms\n",
      "371:\tlearn: 0.8384334\ttotal: 457ms\tremaining: 771ms\n",
      "372:\tlearn: 0.8361327\ttotal: 458ms\tremaining: 769ms\n",
      "373:\tlearn: 0.8352906\ttotal: 458ms\tremaining: 767ms\n",
      "374:\tlearn: 0.8328238\ttotal: 459ms\tremaining: 765ms\n",
      "375:\tlearn: 0.8297347\ttotal: 460ms\tremaining: 764ms\n",
      "376:\tlearn: 0.8274010\ttotal: 461ms\tremaining: 762ms\n",
      "377:\tlearn: 0.8263563\ttotal: 462ms\tremaining: 760ms\n",
      "378:\tlearn: 0.8257115\ttotal: 463ms\tremaining: 758ms\n",
      "379:\tlearn: 0.8237701\ttotal: 464ms\tremaining: 757ms\n",
      "380:\tlearn: 0.8201954\ttotal: 465ms\tremaining: 755ms\n",
      "381:\tlearn: 0.8174521\ttotal: 466ms\tremaining: 753ms\n",
      "382:\tlearn: 0.8161355\ttotal: 466ms\tremaining: 751ms\n",
      "383:\tlearn: 0.8130585\ttotal: 467ms\tremaining: 749ms\n",
      "384:\tlearn: 0.8096426\ttotal: 468ms\tremaining: 748ms\n",
      "385:\tlearn: 0.8066166\ttotal: 469ms\tremaining: 746ms\n",
      "386:\tlearn: 0.8046154\ttotal: 470ms\tremaining: 744ms\n",
      "387:\tlearn: 0.8020120\ttotal: 471ms\tremaining: 743ms\n",
      "388:\tlearn: 0.7990742\ttotal: 472ms\tremaining: 741ms\n",
      "389:\tlearn: 0.7981902\ttotal: 472ms\tremaining: 739ms\n",
      "390:\tlearn: 0.7961901\ttotal: 473ms\tremaining: 737ms\n",
      "391:\tlearn: 0.7953942\ttotal: 474ms\tremaining: 736ms\n",
      "392:\tlearn: 0.7924677\ttotal: 475ms\tremaining: 734ms\n",
      "393:\tlearn: 0.7902949\ttotal: 476ms\tremaining: 732ms\n",
      "394:\tlearn: 0.7896225\ttotal: 477ms\tremaining: 730ms\n",
      "395:\tlearn: 0.7890550\ttotal: 478ms\tremaining: 729ms\n",
      "396:\tlearn: 0.7860721\ttotal: 479ms\tremaining: 727ms\n",
      "397:\tlearn: 0.7844764\ttotal: 480ms\tremaining: 725ms\n",
      "398:\tlearn: 0.7830732\ttotal: 481ms\tremaining: 724ms\n",
      "399:\tlearn: 0.7812612\ttotal: 481ms\tremaining: 722ms\n",
      "400:\tlearn: 0.7788515\ttotal: 482ms\tremaining: 721ms\n",
      "401:\tlearn: 0.7766869\ttotal: 484ms\tremaining: 719ms\n",
      "402:\tlearn: 0.7743835\ttotal: 485ms\tremaining: 718ms\n",
      "403:\tlearn: 0.7720842\ttotal: 486ms\tremaining: 718ms\n",
      "404:\tlearn: 0.7698983\ttotal: 487ms\tremaining: 716ms\n",
      "405:\tlearn: 0.7669294\ttotal: 488ms\tremaining: 714ms\n",
      "406:\tlearn: 0.7651118\ttotal: 489ms\tremaining: 713ms\n",
      "407:\tlearn: 0.7634532\ttotal: 491ms\tremaining: 712ms\n",
      "408:\tlearn: 0.7603885\ttotal: 491ms\tremaining: 710ms\n",
      "409:\tlearn: 0.7583291\ttotal: 492ms\tremaining: 708ms\n",
      "410:\tlearn: 0.7564911\ttotal: 493ms\tremaining: 707ms\n",
      "411:\tlearn: 0.7552194\ttotal: 494ms\tremaining: 705ms\n",
      "412:\tlearn: 0.7533684\ttotal: 495ms\tremaining: 703ms\n",
      "413:\tlearn: 0.7521708\ttotal: 496ms\tremaining: 701ms\n",
      "414:\tlearn: 0.7515389\ttotal: 496ms\tremaining: 700ms\n",
      "415:\tlearn: 0.7494074\ttotal: 497ms\tremaining: 698ms\n",
      "416:\tlearn: 0.7484297\ttotal: 498ms\tremaining: 697ms\n",
      "417:\tlearn: 0.7475259\ttotal: 499ms\tremaining: 695ms\n",
      "418:\tlearn: 0.7463891\ttotal: 500ms\tremaining: 693ms\n",
      "419:\tlearn: 0.7451556\ttotal: 501ms\tremaining: 692ms\n",
      "420:\tlearn: 0.7427916\ttotal: 502ms\tremaining: 690ms\n",
      "421:\tlearn: 0.7400444\ttotal: 503ms\tremaining: 688ms\n",
      "422:\tlearn: 0.7390470\ttotal: 504ms\tremaining: 687ms\n",
      "423:\tlearn: 0.7364801\ttotal: 504ms\tremaining: 685ms\n",
      "424:\tlearn: 0.7334545\ttotal: 505ms\tremaining: 684ms\n",
      "425:\tlearn: 0.7321325\ttotal: 507ms\tremaining: 683ms\n",
      "426:\tlearn: 0.7298280\ttotal: 507ms\tremaining: 681ms\n",
      "427:\tlearn: 0.7286806\ttotal: 508ms\tremaining: 679ms\n",
      "428:\tlearn: 0.7281739\ttotal: 509ms\tremaining: 678ms\n",
      "429:\tlearn: 0.7259438\ttotal: 510ms\tremaining: 676ms\n",
      "430:\tlearn: 0.7248338\ttotal: 511ms\tremaining: 674ms\n",
      "431:\tlearn: 0.7227992\ttotal: 512ms\tremaining: 673ms\n",
      "432:\tlearn: 0.7207895\ttotal: 512ms\tremaining: 671ms\n",
      "433:\tlearn: 0.7184950\ttotal: 513ms\tremaining: 670ms\n",
      "434:\tlearn: 0.7180777\ttotal: 514ms\tremaining: 668ms\n",
      "435:\tlearn: 0.7161081\ttotal: 515ms\tremaining: 666ms\n",
      "436:\tlearn: 0.7148680\ttotal: 516ms\tremaining: 665ms\n",
      "437:\tlearn: 0.7142510\ttotal: 517ms\tremaining: 663ms\n",
      "438:\tlearn: 0.7120745\ttotal: 518ms\tremaining: 662ms\n",
      "439:\tlearn: 0.7112554\ttotal: 519ms\tremaining: 660ms\n",
      "440:\tlearn: 0.7085934\ttotal: 519ms\tremaining: 658ms\n",
      "441:\tlearn: 0.7067036\ttotal: 520ms\tremaining: 657ms\n",
      "442:\tlearn: 0.7053662\ttotal: 521ms\tremaining: 655ms\n",
      "443:\tlearn: 0.7027448\ttotal: 522ms\tremaining: 654ms\n",
      "444:\tlearn: 0.7008843\ttotal: 523ms\tremaining: 652ms\n",
      "445:\tlearn: 0.7002357\ttotal: 524ms\tremaining: 651ms\n",
      "446:\tlearn: 0.6995089\ttotal: 525ms\tremaining: 649ms\n",
      "447:\tlearn: 0.6977161\ttotal: 525ms\tremaining: 647ms\n",
      "448:\tlearn: 0.6972675\ttotal: 526ms\tremaining: 646ms\n",
      "449:\tlearn: 0.6959242\ttotal: 527ms\tremaining: 644ms\n",
      "450:\tlearn: 0.6938355\ttotal: 528ms\tremaining: 643ms\n",
      "451:\tlearn: 0.6934376\ttotal: 529ms\tremaining: 641ms\n",
      "452:\tlearn: 0.6919903\ttotal: 530ms\tremaining: 640ms\n",
      "453:\tlearn: 0.6902594\ttotal: 531ms\tremaining: 638ms\n",
      "454:\tlearn: 0.6892340\ttotal: 532ms\tremaining: 637ms\n",
      "455:\tlearn: 0.6873146\ttotal: 533ms\tremaining: 635ms\n",
      "456:\tlearn: 0.6862481\ttotal: 533ms\tremaining: 634ms\n",
      "457:\tlearn: 0.6858158\ttotal: 534ms\tremaining: 632ms\n",
      "458:\tlearn: 0.6837881\ttotal: 535ms\tremaining: 631ms\n",
      "459:\tlearn: 0.6825340\ttotal: 536ms\tremaining: 629ms\n",
      "460:\tlearn: 0.6800008\ttotal: 537ms\tremaining: 628ms\n",
      "461:\tlearn: 0.6794688\ttotal: 538ms\tremaining: 626ms\n",
      "462:\tlearn: 0.6782888\ttotal: 539ms\tremaining: 625ms\n",
      "463:\tlearn: 0.6778325\ttotal: 539ms\tremaining: 623ms\n",
      "464:\tlearn: 0.6755088\ttotal: 540ms\tremaining: 622ms\n",
      "465:\tlearn: 0.6742602\ttotal: 541ms\tremaining: 620ms\n",
      "466:\tlearn: 0.6727680\ttotal: 542ms\tremaining: 619ms\n",
      "467:\tlearn: 0.6717616\ttotal: 543ms\tremaining: 617ms\n",
      "468:\tlearn: 0.6698963\ttotal: 544ms\tremaining: 616ms\n",
      "469:\tlearn: 0.6675089\ttotal: 545ms\tremaining: 614ms\n",
      "470:\tlearn: 0.6666680\ttotal: 545ms\tremaining: 613ms\n",
      "471:\tlearn: 0.6651581\ttotal: 546ms\tremaining: 611ms\n",
      "472:\tlearn: 0.6643528\ttotal: 547ms\tremaining: 610ms\n",
      "473:\tlearn: 0.6628353\ttotal: 548ms\tremaining: 608ms\n",
      "474:\tlearn: 0.6611104\ttotal: 549ms\tremaining: 607ms\n",
      "475:\tlearn: 0.6606549\ttotal: 550ms\tremaining: 606ms\n",
      "476:\tlearn: 0.6595524\ttotal: 551ms\tremaining: 604ms\n",
      "477:\tlearn: 0.6574960\ttotal: 552ms\tremaining: 603ms\n",
      "478:\tlearn: 0.6558292\ttotal: 553ms\tremaining: 601ms\n",
      "479:\tlearn: 0.6544931\ttotal: 554ms\tremaining: 600ms\n",
      "480:\tlearn: 0.6526294\ttotal: 555ms\tremaining: 598ms\n",
      "481:\tlearn: 0.6514081\ttotal: 556ms\tremaining: 597ms\n",
      "482:\tlearn: 0.6497427\ttotal: 556ms\tremaining: 596ms\n",
      "483:\tlearn: 0.6477981\ttotal: 557ms\tremaining: 594ms\n",
      "484:\tlearn: 0.6465865\ttotal: 558ms\tremaining: 593ms\n",
      "485:\tlearn: 0.6450658\ttotal: 559ms\tremaining: 591ms\n",
      "486:\tlearn: 0.6435312\ttotal: 560ms\tremaining: 590ms\n",
      "487:\tlearn: 0.6422316\ttotal: 561ms\tremaining: 588ms\n",
      "488:\tlearn: 0.6411530\ttotal: 562ms\tremaining: 587ms\n",
      "489:\tlearn: 0.6405179\ttotal: 563ms\tremaining: 586ms\n",
      "490:\tlearn: 0.6400148\ttotal: 564ms\tremaining: 584ms\n",
      "491:\tlearn: 0.6376072\ttotal: 565ms\tremaining: 583ms\n",
      "492:\tlearn: 0.6364146\ttotal: 565ms\tremaining: 582ms\n",
      "493:\tlearn: 0.6360678\ttotal: 566ms\tremaining: 580ms\n",
      "494:\tlearn: 0.6340706\ttotal: 567ms\tremaining: 579ms\n",
      "495:\tlearn: 0.6319053\ttotal: 568ms\tremaining: 577ms\n",
      "496:\tlearn: 0.6299005\ttotal: 569ms\tremaining: 576ms\n",
      "497:\tlearn: 0.6291426\ttotal: 570ms\tremaining: 575ms\n",
      "498:\tlearn: 0.6275880\ttotal: 571ms\tremaining: 573ms\n",
      "499:\tlearn: 0.6266148\ttotal: 572ms\tremaining: 572ms\n",
      "500:\tlearn: 0.6249956\ttotal: 573ms\tremaining: 570ms\n",
      "501:\tlearn: 0.6231100\ttotal: 574ms\tremaining: 570ms\n",
      "502:\tlearn: 0.6219791\ttotal: 575ms\tremaining: 568ms\n",
      "503:\tlearn: 0.6206368\ttotal: 577ms\tremaining: 568ms\n",
      "504:\tlearn: 0.6202121\ttotal: 578ms\tremaining: 567ms\n",
      "505:\tlearn: 0.6198799\ttotal: 579ms\tremaining: 566ms\n",
      "506:\tlearn: 0.6181537\ttotal: 580ms\tremaining: 564ms\n",
      "507:\tlearn: 0.6161317\ttotal: 581ms\tremaining: 563ms\n",
      "508:\tlearn: 0.6157949\ttotal: 582ms\tremaining: 562ms\n",
      "509:\tlearn: 0.6152335\ttotal: 583ms\tremaining: 561ms\n",
      "510:\tlearn: 0.6135546\ttotal: 585ms\tremaining: 560ms\n",
      "511:\tlearn: 0.6122914\ttotal: 586ms\tremaining: 559ms\n",
      "512:\tlearn: 0.6115962\ttotal: 588ms\tremaining: 558ms\n",
      "513:\tlearn: 0.6101632\ttotal: 589ms\tremaining: 557ms\n",
      "514:\tlearn: 0.6093238\ttotal: 590ms\tremaining: 556ms\n",
      "515:\tlearn: 0.6075701\ttotal: 591ms\tremaining: 555ms\n",
      "516:\tlearn: 0.6059885\ttotal: 593ms\tremaining: 554ms\n",
      "517:\tlearn: 0.6050376\ttotal: 593ms\tremaining: 552ms\n",
      "518:\tlearn: 0.6038377\ttotal: 595ms\tremaining: 551ms\n",
      "519:\tlearn: 0.6032575\ttotal: 596ms\tremaining: 550ms\n",
      "520:\tlearn: 0.6019100\ttotal: 597ms\tremaining: 549ms\n",
      "521:\tlearn: 0.6006390\ttotal: 598ms\tremaining: 547ms\n",
      "522:\tlearn: 0.5989333\ttotal: 599ms\tremaining: 546ms\n",
      "523:\tlearn: 0.5982503\ttotal: 600ms\tremaining: 545ms\n",
      "524:\tlearn: 0.5959184\ttotal: 600ms\tremaining: 543ms\n",
      "525:\tlearn: 0.5946981\ttotal: 601ms\tremaining: 542ms\n",
      "526:\tlearn: 0.5938901\ttotal: 602ms\tremaining: 540ms\n",
      "527:\tlearn: 0.5932571\ttotal: 603ms\tremaining: 539ms\n",
      "528:\tlearn: 0.5917890\ttotal: 604ms\tremaining: 538ms\n",
      "529:\tlearn: 0.5907312\ttotal: 605ms\tremaining: 536ms\n",
      "530:\tlearn: 0.5889898\ttotal: 605ms\tremaining: 535ms\n",
      "531:\tlearn: 0.5874985\ttotal: 606ms\tremaining: 533ms\n",
      "532:\tlearn: 0.5865530\ttotal: 607ms\tremaining: 532ms\n",
      "533:\tlearn: 0.5847844\ttotal: 608ms\tremaining: 531ms\n",
      "534:\tlearn: 0.5833369\ttotal: 610ms\tremaining: 530ms\n",
      "535:\tlearn: 0.5820993\ttotal: 611ms\tremaining: 529ms\n",
      "536:\tlearn: 0.5810191\ttotal: 612ms\tremaining: 528ms\n",
      "537:\tlearn: 0.5799286\ttotal: 613ms\tremaining: 526ms\n",
      "538:\tlearn: 0.5785603\ttotal: 614ms\tremaining: 525ms\n",
      "539:\tlearn: 0.5778138\ttotal: 615ms\tremaining: 524ms\n",
      "540:\tlearn: 0.5768587\ttotal: 615ms\tremaining: 522ms\n",
      "541:\tlearn: 0.5758936\ttotal: 616ms\tremaining: 521ms\n",
      "542:\tlearn: 0.5746277\ttotal: 617ms\tremaining: 520ms\n",
      "543:\tlearn: 0.5735241\ttotal: 618ms\tremaining: 518ms\n",
      "544:\tlearn: 0.5726289\ttotal: 619ms\tremaining: 517ms\n",
      "545:\tlearn: 0.5720518\ttotal: 620ms\tremaining: 516ms\n",
      "546:\tlearn: 0.5710667\ttotal: 621ms\tremaining: 514ms\n",
      "547:\tlearn: 0.5704164\ttotal: 622ms\tremaining: 513ms\n",
      "548:\tlearn: 0.5696902\ttotal: 623ms\tremaining: 511ms\n",
      "549:\tlearn: 0.5691461\ttotal: 623ms\tremaining: 510ms\n",
      "550:\tlearn: 0.5669342\ttotal: 624ms\tremaining: 509ms\n",
      "551:\tlearn: 0.5657492\ttotal: 625ms\tremaining: 507ms\n",
      "552:\tlearn: 0.5647266\ttotal: 626ms\tremaining: 506ms\n",
      "553:\tlearn: 0.5633270\ttotal: 627ms\tremaining: 505ms\n",
      "554:\tlearn: 0.5627195\ttotal: 628ms\tremaining: 504ms\n",
      "555:\tlearn: 0.5617207\ttotal: 629ms\tremaining: 502ms\n",
      "556:\tlearn: 0.5605624\ttotal: 630ms\tremaining: 501ms\n",
      "557:\tlearn: 0.5591048\ttotal: 631ms\tremaining: 499ms\n",
      "558:\tlearn: 0.5584293\ttotal: 631ms\tremaining: 498ms\n",
      "559:\tlearn: 0.5569509\ttotal: 632ms\tremaining: 497ms\n",
      "560:\tlearn: 0.5559167\ttotal: 633ms\tremaining: 495ms\n",
      "561:\tlearn: 0.5552766\ttotal: 634ms\tremaining: 494ms\n",
      "562:\tlearn: 0.5547188\ttotal: 635ms\tremaining: 493ms\n",
      "563:\tlearn: 0.5541644\ttotal: 636ms\tremaining: 491ms\n",
      "564:\tlearn: 0.5536432\ttotal: 637ms\tremaining: 490ms\n",
      "565:\tlearn: 0.5529094\ttotal: 638ms\tremaining: 489ms\n",
      "566:\tlearn: 0.5520381\ttotal: 638ms\tremaining: 487ms\n",
      "567:\tlearn: 0.5512203\ttotal: 639ms\tremaining: 486ms\n",
      "568:\tlearn: 0.5499899\ttotal: 640ms\tremaining: 485ms\n",
      "569:\tlearn: 0.5477146\ttotal: 641ms\tremaining: 484ms\n",
      "570:\tlearn: 0.5467357\ttotal: 642ms\tremaining: 482ms\n",
      "571:\tlearn: 0.5457989\ttotal: 643ms\tremaining: 481ms\n",
      "572:\tlearn: 0.5448324\ttotal: 644ms\tremaining: 480ms\n",
      "573:\tlearn: 0.5439947\ttotal: 645ms\tremaining: 478ms\n",
      "574:\tlearn: 0.5431493\ttotal: 645ms\tremaining: 477ms\n",
      "575:\tlearn: 0.5420635\ttotal: 646ms\tremaining: 476ms\n",
      "576:\tlearn: 0.5413312\ttotal: 647ms\tremaining: 474ms\n",
      "577:\tlearn: 0.5405615\ttotal: 648ms\tremaining: 473ms\n",
      "578:\tlearn: 0.5384655\ttotal: 649ms\tremaining: 472ms\n",
      "579:\tlearn: 0.5374961\ttotal: 650ms\tremaining: 470ms\n",
      "580:\tlearn: 0.5365270\ttotal: 650ms\tremaining: 469ms\n",
      "581:\tlearn: 0.5352174\ttotal: 651ms\tremaining: 468ms\n",
      "582:\tlearn: 0.5340829\ttotal: 652ms\tremaining: 467ms\n",
      "583:\tlearn: 0.5331981\ttotal: 653ms\tremaining: 465ms\n",
      "584:\tlearn: 0.5324245\ttotal: 654ms\tremaining: 464ms\n",
      "585:\tlearn: 0.5315212\ttotal: 655ms\tremaining: 463ms\n",
      "586:\tlearn: 0.5308257\ttotal: 656ms\tremaining: 461ms\n",
      "587:\tlearn: 0.5304130\ttotal: 657ms\tremaining: 460ms\n",
      "588:\tlearn: 0.5300046\ttotal: 658ms\tremaining: 459ms\n",
      "589:\tlearn: 0.5297056\ttotal: 659ms\tremaining: 458ms\n",
      "590:\tlearn: 0.5292387\ttotal: 659ms\tremaining: 456ms\n",
      "591:\tlearn: 0.5288551\ttotal: 660ms\tremaining: 455ms\n",
      "592:\tlearn: 0.5279459\ttotal: 661ms\tremaining: 454ms\n",
      "593:\tlearn: 0.5276203\ttotal: 662ms\tremaining: 453ms\n",
      "594:\tlearn: 0.5264473\ttotal: 663ms\tremaining: 451ms\n",
      "595:\tlearn: 0.5244839\ttotal: 664ms\tremaining: 450ms\n",
      "596:\tlearn: 0.5232658\ttotal: 665ms\tremaining: 449ms\n",
      "597:\tlearn: 0.5219799\ttotal: 666ms\tremaining: 447ms\n",
      "598:\tlearn: 0.5216514\ttotal: 667ms\tremaining: 446ms\n",
      "599:\tlearn: 0.5213598\ttotal: 667ms\tremaining: 445ms\n",
      "600:\tlearn: 0.5211534\ttotal: 668ms\tremaining: 444ms\n",
      "601:\tlearn: 0.5206429\ttotal: 669ms\tremaining: 443ms\n",
      "602:\tlearn: 0.5202115\ttotal: 670ms\tremaining: 441ms\n",
      "603:\tlearn: 0.5190551\ttotal: 671ms\tremaining: 440ms\n",
      "604:\tlearn: 0.5183626\ttotal: 672ms\tremaining: 439ms\n",
      "605:\tlearn: 0.5181615\ttotal: 673ms\tremaining: 438ms\n",
      "606:\tlearn: 0.5168300\ttotal: 674ms\tremaining: 436ms\n",
      "607:\tlearn: 0.5158830\ttotal: 675ms\tremaining: 435ms\n",
      "608:\tlearn: 0.5155062\ttotal: 676ms\tremaining: 434ms\n",
      "609:\tlearn: 0.5140423\ttotal: 677ms\tremaining: 433ms\n",
      "610:\tlearn: 0.5135252\ttotal: 678ms\tremaining: 431ms\n",
      "611:\tlearn: 0.5132671\ttotal: 679ms\tremaining: 430ms\n",
      "612:\tlearn: 0.5124665\ttotal: 680ms\tremaining: 429ms\n",
      "613:\tlearn: 0.5109082\ttotal: 680ms\tremaining: 428ms\n",
      "614:\tlearn: 0.5104686\ttotal: 681ms\tremaining: 426ms\n",
      "615:\tlearn: 0.5099865\ttotal: 682ms\tremaining: 425ms\n",
      "616:\tlearn: 0.5093238\ttotal: 683ms\tremaining: 424ms\n",
      "617:\tlearn: 0.5088774\ttotal: 684ms\tremaining: 423ms\n",
      "618:\tlearn: 0.5083359\ttotal: 685ms\tremaining: 421ms\n",
      "619:\tlearn: 0.5075166\ttotal: 686ms\tremaining: 420ms\n",
      "620:\tlearn: 0.5064315\ttotal: 686ms\tremaining: 419ms\n",
      "621:\tlearn: 0.5056786\ttotal: 687ms\tremaining: 418ms\n",
      "622:\tlearn: 0.5044598\ttotal: 688ms\tremaining: 416ms\n",
      "623:\tlearn: 0.5042682\ttotal: 689ms\tremaining: 415ms\n",
      "624:\tlearn: 0.5039529\ttotal: 690ms\tremaining: 414ms\n",
      "625:\tlearn: 0.5020292\ttotal: 691ms\tremaining: 413ms\n",
      "626:\tlearn: 0.5012062\ttotal: 692ms\tremaining: 411ms\n",
      "627:\tlearn: 0.5007806\ttotal: 693ms\tremaining: 410ms\n",
      "628:\tlearn: 0.4996265\ttotal: 693ms\tremaining: 409ms\n",
      "629:\tlearn: 0.4992543\ttotal: 694ms\tremaining: 408ms\n",
      "630:\tlearn: 0.4988828\ttotal: 695ms\tremaining: 406ms\n",
      "631:\tlearn: 0.4985586\ttotal: 696ms\tremaining: 405ms\n",
      "632:\tlearn: 0.4981283\ttotal: 697ms\tremaining: 404ms\n",
      "633:\tlearn: 0.4970685\ttotal: 698ms\tremaining: 403ms\n",
      "634:\tlearn: 0.4963847\ttotal: 699ms\tremaining: 402ms\n",
      "635:\tlearn: 0.4958624\ttotal: 700ms\tremaining: 400ms\n",
      "636:\tlearn: 0.4948507\ttotal: 701ms\tremaining: 399ms\n",
      "637:\tlearn: 0.4940913\ttotal: 701ms\tremaining: 398ms\n",
      "638:\tlearn: 0.4937154\ttotal: 702ms\tremaining: 397ms\n",
      "639:\tlearn: 0.4928130\ttotal: 703ms\tremaining: 396ms\n",
      "640:\tlearn: 0.4921302\ttotal: 704ms\tremaining: 394ms\n",
      "641:\tlearn: 0.4910456\ttotal: 705ms\tremaining: 393ms\n",
      "642:\tlearn: 0.4909075\ttotal: 706ms\tremaining: 392ms\n",
      "643:\tlearn: 0.4900215\ttotal: 707ms\tremaining: 391ms\n",
      "644:\tlearn: 0.4889649\ttotal: 708ms\tremaining: 389ms\n",
      "645:\tlearn: 0.4886716\ttotal: 708ms\tremaining: 388ms\n",
      "646:\tlearn: 0.4881311\ttotal: 709ms\tremaining: 387ms\n",
      "647:\tlearn: 0.4873786\ttotal: 710ms\tremaining: 386ms\n",
      "648:\tlearn: 0.4863107\ttotal: 711ms\tremaining: 385ms\n",
      "649:\tlearn: 0.4860005\ttotal: 712ms\tremaining: 383ms\n",
      "650:\tlearn: 0.4846249\ttotal: 713ms\tremaining: 382ms\n",
      "651:\tlearn: 0.4838241\ttotal: 714ms\tremaining: 381ms\n",
      "652:\tlearn: 0.4833659\ttotal: 714ms\tremaining: 380ms\n",
      "653:\tlearn: 0.4822402\ttotal: 715ms\tremaining: 378ms\n",
      "654:\tlearn: 0.4809376\ttotal: 716ms\tremaining: 377ms\n",
      "655:\tlearn: 0.4792311\ttotal: 717ms\tremaining: 376ms\n",
      "656:\tlearn: 0.4788126\ttotal: 718ms\tremaining: 375ms\n",
      "657:\tlearn: 0.4772523\ttotal: 719ms\tremaining: 374ms\n",
      "658:\tlearn: 0.4767290\ttotal: 720ms\tremaining: 372ms\n",
      "659:\tlearn: 0.4761559\ttotal: 721ms\tremaining: 371ms\n",
      "660:\tlearn: 0.4754184\ttotal: 721ms\tremaining: 370ms\n",
      "661:\tlearn: 0.4740547\ttotal: 722ms\tremaining: 369ms\n",
      "662:\tlearn: 0.4733194\ttotal: 723ms\tremaining: 368ms\n",
      "663:\tlearn: 0.4731013\ttotal: 724ms\tremaining: 366ms\n",
      "664:\tlearn: 0.4722048\ttotal: 725ms\tremaining: 365ms\n",
      "665:\tlearn: 0.4715133\ttotal: 726ms\tremaining: 364ms\n",
      "666:\tlearn: 0.4702648\ttotal: 727ms\tremaining: 363ms\n",
      "667:\tlearn: 0.4695906\ttotal: 728ms\tremaining: 362ms\n",
      "668:\tlearn: 0.4693311\ttotal: 729ms\tremaining: 361ms\n",
      "669:\tlearn: 0.4688479\ttotal: 731ms\tremaining: 360ms\n",
      "670:\tlearn: 0.4682051\ttotal: 732ms\tremaining: 359ms\n",
      "671:\tlearn: 0.4675277\ttotal: 734ms\tremaining: 358ms\n",
      "672:\tlearn: 0.4667827\ttotal: 736ms\tremaining: 358ms\n",
      "673:\tlearn: 0.4661464\ttotal: 737ms\tremaining: 357ms\n",
      "674:\tlearn: 0.4652997\ttotal: 739ms\tremaining: 356ms\n",
      "675:\tlearn: 0.4636321\ttotal: 741ms\tremaining: 355ms\n",
      "676:\tlearn: 0.4624667\ttotal: 742ms\tremaining: 354ms\n",
      "677:\tlearn: 0.4609880\ttotal: 743ms\tremaining: 353ms\n",
      "678:\tlearn: 0.4603964\ttotal: 744ms\tremaining: 352ms\n",
      "679:\tlearn: 0.4599995\ttotal: 745ms\tremaining: 350ms\n",
      "680:\tlearn: 0.4590925\ttotal: 745ms\tremaining: 349ms\n",
      "681:\tlearn: 0.4579111\ttotal: 746ms\tremaining: 348ms\n",
      "682:\tlearn: 0.4571292\ttotal: 747ms\tremaining: 347ms\n",
      "683:\tlearn: 0.4569975\ttotal: 748ms\tremaining: 346ms\n",
      "684:\tlearn: 0.4562808\ttotal: 749ms\tremaining: 344ms\n",
      "685:\tlearn: 0.4555241\ttotal: 750ms\tremaining: 343ms\n",
      "686:\tlearn: 0.4543719\ttotal: 752ms\tremaining: 343ms\n",
      "687:\tlearn: 0.4534779\ttotal: 753ms\tremaining: 342ms\n",
      "688:\tlearn: 0.4532070\ttotal: 755ms\tremaining: 341ms\n",
      "689:\tlearn: 0.4522573\ttotal: 756ms\tremaining: 340ms\n",
      "690:\tlearn: 0.4520254\ttotal: 757ms\tremaining: 339ms\n",
      "691:\tlearn: 0.4510081\ttotal: 759ms\tremaining: 338ms\n",
      "692:\tlearn: 0.4502587\ttotal: 760ms\tremaining: 337ms\n",
      "693:\tlearn: 0.4498152\ttotal: 761ms\tremaining: 336ms\n",
      "694:\tlearn: 0.4488301\ttotal: 762ms\tremaining: 335ms\n",
      "695:\tlearn: 0.4482586\ttotal: 764ms\tremaining: 334ms\n",
      "696:\tlearn: 0.4480307\ttotal: 765ms\tremaining: 333ms\n",
      "697:\tlearn: 0.4466440\ttotal: 766ms\tremaining: 332ms\n",
      "698:\tlearn: 0.4457196\ttotal: 767ms\tremaining: 330ms\n",
      "699:\tlearn: 0.4447701\ttotal: 768ms\tremaining: 329ms\n",
      "700:\tlearn: 0.4446457\ttotal: 770ms\tremaining: 328ms\n",
      "701:\tlearn: 0.4441011\ttotal: 771ms\tremaining: 327ms\n",
      "702:\tlearn: 0.4432004\ttotal: 772ms\tremaining: 326ms\n",
      "703:\tlearn: 0.4430142\ttotal: 774ms\tremaining: 325ms\n",
      "704:\tlearn: 0.4428352\ttotal: 774ms\tremaining: 324ms\n",
      "705:\tlearn: 0.4419172\ttotal: 775ms\tremaining: 323ms\n",
      "706:\tlearn: 0.4417132\ttotal: 777ms\tremaining: 322ms\n",
      "707:\tlearn: 0.4410910\ttotal: 778ms\tremaining: 321ms\n",
      "708:\tlearn: 0.4402805\ttotal: 779ms\tremaining: 320ms\n",
      "709:\tlearn: 0.4398958\ttotal: 780ms\tremaining: 319ms\n",
      "710:\tlearn: 0.4394595\ttotal: 781ms\tremaining: 318ms\n",
      "711:\tlearn: 0.4381780\ttotal: 782ms\tremaining: 316ms\n",
      "712:\tlearn: 0.4372735\ttotal: 784ms\tremaining: 316ms\n",
      "713:\tlearn: 0.4370124\ttotal: 785ms\tremaining: 314ms\n",
      "714:\tlearn: 0.4362629\ttotal: 786ms\tremaining: 313ms\n",
      "715:\tlearn: 0.4349947\ttotal: 787ms\tremaining: 312ms\n",
      "716:\tlearn: 0.4334569\ttotal: 788ms\tremaining: 311ms\n",
      "717:\tlearn: 0.4330350\ttotal: 789ms\tremaining: 310ms\n",
      "718:\tlearn: 0.4328335\ttotal: 789ms\tremaining: 309ms\n",
      "719:\tlearn: 0.4318038\ttotal: 791ms\tremaining: 308ms\n",
      "720:\tlearn: 0.4313989\ttotal: 792ms\tremaining: 307ms\n",
      "721:\tlearn: 0.4308797\ttotal: 793ms\tremaining: 306ms\n",
      "722:\tlearn: 0.4301797\ttotal: 794ms\tremaining: 304ms\n",
      "723:\tlearn: 0.4297589\ttotal: 796ms\tremaining: 303ms\n",
      "724:\tlearn: 0.4292753\ttotal: 797ms\tremaining: 302ms\n",
      "725:\tlearn: 0.4288584\ttotal: 798ms\tremaining: 301ms\n",
      "726:\tlearn: 0.4281269\ttotal: 799ms\tremaining: 300ms\n",
      "727:\tlearn: 0.4277633\ttotal: 800ms\tremaining: 299ms\n",
      "728:\tlearn: 0.4265026\ttotal: 801ms\tremaining: 298ms\n",
      "729:\tlearn: 0.4255275\ttotal: 802ms\tremaining: 296ms\n",
      "730:\tlearn: 0.4247857\ttotal: 802ms\tremaining: 295ms\n",
      "731:\tlearn: 0.4243573\ttotal: 803ms\tremaining: 294ms\n",
      "732:\tlearn: 0.4237791\ttotal: 804ms\tremaining: 293ms\n",
      "733:\tlearn: 0.4235657\ttotal: 805ms\tremaining: 292ms\n",
      "734:\tlearn: 0.4227205\ttotal: 806ms\tremaining: 290ms\n",
      "735:\tlearn: 0.4218596\ttotal: 806ms\tremaining: 289ms\n",
      "736:\tlearn: 0.4209947\ttotal: 807ms\tremaining: 288ms\n",
      "737:\tlearn: 0.4198569\ttotal: 808ms\tremaining: 287ms\n",
      "738:\tlearn: 0.4190984\ttotal: 809ms\tremaining: 286ms\n",
      "739:\tlearn: 0.4182819\ttotal: 810ms\tremaining: 284ms\n",
      "740:\tlearn: 0.4176899\ttotal: 810ms\tremaining: 283ms\n",
      "741:\tlearn: 0.4172057\ttotal: 811ms\tremaining: 282ms\n",
      "742:\tlearn: 0.4161716\ttotal: 812ms\tremaining: 281ms\n",
      "743:\tlearn: 0.4159424\ttotal: 813ms\tremaining: 280ms\n",
      "744:\tlearn: 0.4157996\ttotal: 814ms\tremaining: 279ms\n",
      "745:\tlearn: 0.4151912\ttotal: 815ms\tremaining: 277ms\n",
      "746:\tlearn: 0.4148452\ttotal: 816ms\tremaining: 276ms\n",
      "747:\tlearn: 0.4146902\ttotal: 817ms\tremaining: 275ms\n",
      "748:\tlearn: 0.4138715\ttotal: 818ms\tremaining: 274ms\n",
      "749:\tlearn: 0.4128400\ttotal: 819ms\tremaining: 273ms\n",
      "750:\tlearn: 0.4123954\ttotal: 820ms\tremaining: 272ms\n",
      "751:\tlearn: 0.4117767\ttotal: 821ms\tremaining: 271ms\n",
      "752:\tlearn: 0.4109101\ttotal: 822ms\tremaining: 269ms\n",
      "753:\tlearn: 0.4101157\ttotal: 823ms\tremaining: 268ms\n",
      "754:\tlearn: 0.4094874\ttotal: 823ms\tremaining: 267ms\n",
      "755:\tlearn: 0.4090277\ttotal: 824ms\tremaining: 266ms\n",
      "756:\tlearn: 0.4086814\ttotal: 825ms\tremaining: 265ms\n",
      "757:\tlearn: 0.4078070\ttotal: 826ms\tremaining: 264ms\n",
      "758:\tlearn: 0.4073368\ttotal: 827ms\tremaining: 263ms\n",
      "759:\tlearn: 0.4070548\ttotal: 828ms\tremaining: 261ms\n",
      "760:\tlearn: 0.4066696\ttotal: 829ms\tremaining: 260ms\n",
      "761:\tlearn: 0.4059797\ttotal: 830ms\tremaining: 259ms\n",
      "762:\tlearn: 0.4053938\ttotal: 831ms\tremaining: 258ms\n",
      "763:\tlearn: 0.4042501\ttotal: 832ms\tremaining: 257ms\n",
      "764:\tlearn: 0.4032025\ttotal: 833ms\tremaining: 256ms\n",
      "765:\tlearn: 0.4022341\ttotal: 834ms\tremaining: 255ms\n",
      "766:\tlearn: 0.4011912\ttotal: 835ms\tremaining: 254ms\n",
      "767:\tlearn: 0.4007546\ttotal: 835ms\tremaining: 252ms\n",
      "768:\tlearn: 0.4005009\ttotal: 836ms\tremaining: 251ms\n",
      "769:\tlearn: 0.3994978\ttotal: 837ms\tremaining: 250ms\n",
      "770:\tlearn: 0.3992535\ttotal: 838ms\tremaining: 249ms\n",
      "771:\tlearn: 0.3985162\ttotal: 839ms\tremaining: 248ms\n",
      "772:\tlearn: 0.3980489\ttotal: 840ms\tremaining: 247ms\n",
      "773:\tlearn: 0.3973568\ttotal: 841ms\tremaining: 246ms\n",
      "774:\tlearn: 0.3961740\ttotal: 842ms\tremaining: 244ms\n",
      "775:\tlearn: 0.3957688\ttotal: 843ms\tremaining: 243ms\n",
      "776:\tlearn: 0.3949995\ttotal: 843ms\tremaining: 242ms\n",
      "777:\tlearn: 0.3940282\ttotal: 844ms\tremaining: 241ms\n",
      "778:\tlearn: 0.3932612\ttotal: 845ms\tremaining: 240ms\n",
      "779:\tlearn: 0.3925209\ttotal: 846ms\tremaining: 239ms\n",
      "780:\tlearn: 0.3913655\ttotal: 847ms\tremaining: 238ms\n",
      "781:\tlearn: 0.3908528\ttotal: 848ms\tremaining: 236ms\n",
      "782:\tlearn: 0.3904049\ttotal: 849ms\tremaining: 235ms\n",
      "783:\tlearn: 0.3898771\ttotal: 850ms\tremaining: 234ms\n",
      "784:\tlearn: 0.3892146\ttotal: 850ms\tremaining: 233ms\n",
      "785:\tlearn: 0.3886241\ttotal: 851ms\tremaining: 232ms\n",
      "786:\tlearn: 0.3875214\ttotal: 852ms\tremaining: 231ms\n",
      "787:\tlearn: 0.3873427\ttotal: 853ms\tremaining: 229ms\n",
      "788:\tlearn: 0.3864753\ttotal: 854ms\tremaining: 228ms\n",
      "789:\tlearn: 0.3863627\ttotal: 855ms\tremaining: 227ms\n",
      "790:\tlearn: 0.3857369\ttotal: 856ms\tremaining: 226ms\n",
      "791:\tlearn: 0.3855655\ttotal: 857ms\tremaining: 225ms\n",
      "792:\tlearn: 0.3850849\ttotal: 858ms\tremaining: 224ms\n",
      "793:\tlearn: 0.3842260\ttotal: 859ms\tremaining: 223ms\n",
      "794:\tlearn: 0.3836449\ttotal: 859ms\tremaining: 222ms\n",
      "795:\tlearn: 0.3827745\ttotal: 860ms\tremaining: 220ms\n",
      "796:\tlearn: 0.3824556\ttotal: 861ms\tremaining: 219ms\n",
      "797:\tlearn: 0.3820180\ttotal: 862ms\tremaining: 218ms\n",
      "798:\tlearn: 0.3811170\ttotal: 863ms\tremaining: 217ms\n",
      "799:\tlearn: 0.3803313\ttotal: 864ms\tremaining: 216ms\n",
      "800:\tlearn: 0.3793722\ttotal: 865ms\tremaining: 215ms\n",
      "801:\tlearn: 0.3784083\ttotal: 865ms\tremaining: 214ms\n",
      "802:\tlearn: 0.3780678\ttotal: 866ms\tremaining: 213ms\n",
      "803:\tlearn: 0.3775343\ttotal: 867ms\tremaining: 211ms\n",
      "804:\tlearn: 0.3772418\ttotal: 868ms\tremaining: 210ms\n",
      "805:\tlearn: 0.3769057\ttotal: 869ms\tremaining: 209ms\n",
      "806:\tlearn: 0.3767468\ttotal: 870ms\tremaining: 208ms\n",
      "807:\tlearn: 0.3757330\ttotal: 871ms\tremaining: 207ms\n",
      "808:\tlearn: 0.3753679\ttotal: 872ms\tremaining: 206ms\n",
      "809:\tlearn: 0.3748050\ttotal: 873ms\tremaining: 205ms\n",
      "810:\tlearn: 0.3745194\ttotal: 874ms\tremaining: 204ms\n",
      "811:\tlearn: 0.3743759\ttotal: 875ms\tremaining: 202ms\n",
      "812:\tlearn: 0.3736396\ttotal: 875ms\tremaining: 201ms\n",
      "813:\tlearn: 0.3727598\ttotal: 876ms\tremaining: 200ms\n",
      "814:\tlearn: 0.3726459\ttotal: 877ms\tremaining: 199ms\n",
      "815:\tlearn: 0.3715226\ttotal: 878ms\tremaining: 198ms\n",
      "816:\tlearn: 0.3709542\ttotal: 879ms\tremaining: 197ms\n",
      "817:\tlearn: 0.3706157\ttotal: 880ms\tremaining: 196ms\n",
      "818:\tlearn: 0.3699685\ttotal: 881ms\tremaining: 195ms\n",
      "819:\tlearn: 0.3696578\ttotal: 881ms\tremaining: 193ms\n",
      "820:\tlearn: 0.3692805\ttotal: 882ms\tremaining: 192ms\n",
      "821:\tlearn: 0.3689792\ttotal: 883ms\tremaining: 191ms\n",
      "822:\tlearn: 0.3686354\ttotal: 884ms\tremaining: 190ms\n",
      "823:\tlearn: 0.3684408\ttotal: 885ms\tremaining: 189ms\n",
      "824:\tlearn: 0.3682640\ttotal: 887ms\tremaining: 188ms\n",
      "825:\tlearn: 0.3675147\ttotal: 888ms\tremaining: 187ms\n",
      "826:\tlearn: 0.3668191\ttotal: 889ms\tremaining: 186ms\n",
      "827:\tlearn: 0.3664167\ttotal: 890ms\tremaining: 185ms\n",
      "828:\tlearn: 0.3656518\ttotal: 891ms\tremaining: 184ms\n",
      "829:\tlearn: 0.3652181\ttotal: 892ms\tremaining: 183ms\n",
      "830:\tlearn: 0.3643854\ttotal: 893ms\tremaining: 182ms\n",
      "831:\tlearn: 0.3637113\ttotal: 894ms\tremaining: 180ms\n",
      "832:\tlearn: 0.3631019\ttotal: 895ms\tremaining: 179ms\n",
      "833:\tlearn: 0.3623636\ttotal: 895ms\tremaining: 178ms\n",
      "834:\tlearn: 0.3613898\ttotal: 896ms\tremaining: 177ms\n",
      "835:\tlearn: 0.3607195\ttotal: 897ms\tremaining: 176ms\n",
      "836:\tlearn: 0.3605269\ttotal: 898ms\tremaining: 175ms\n",
      "837:\tlearn: 0.3601083\ttotal: 899ms\tremaining: 174ms\n",
      "838:\tlearn: 0.3595620\ttotal: 900ms\tremaining: 173ms\n",
      "839:\tlearn: 0.3589840\ttotal: 901ms\tremaining: 172ms\n",
      "840:\tlearn: 0.3587127\ttotal: 902ms\tremaining: 171ms\n",
      "841:\tlearn: 0.3585859\ttotal: 903ms\tremaining: 169ms\n",
      "842:\tlearn: 0.3581578\ttotal: 904ms\tremaining: 168ms\n",
      "843:\tlearn: 0.3580016\ttotal: 904ms\tremaining: 167ms\n",
      "844:\tlearn: 0.3571399\ttotal: 905ms\tremaining: 166ms\n",
      "845:\tlearn: 0.3567328\ttotal: 906ms\tremaining: 165ms\n",
      "846:\tlearn: 0.3564362\ttotal: 907ms\tremaining: 164ms\n",
      "847:\tlearn: 0.3561745\ttotal: 908ms\tremaining: 163ms\n",
      "848:\tlearn: 0.3556827\ttotal: 909ms\tremaining: 162ms\n",
      "849:\tlearn: 0.3552812\ttotal: 910ms\tremaining: 161ms\n",
      "850:\tlearn: 0.3549731\ttotal: 910ms\tremaining: 159ms\n",
      "851:\tlearn: 0.3542518\ttotal: 911ms\tremaining: 158ms\n",
      "852:\tlearn: 0.3539844\ttotal: 912ms\tremaining: 157ms\n",
      "853:\tlearn: 0.3538358\ttotal: 913ms\tremaining: 156ms\n",
      "854:\tlearn: 0.3533947\ttotal: 914ms\tremaining: 155ms\n",
      "855:\tlearn: 0.3528395\ttotal: 915ms\tremaining: 154ms\n",
      "856:\tlearn: 0.3523705\ttotal: 916ms\tremaining: 153ms\n",
      "857:\tlearn: 0.3520647\ttotal: 917ms\tremaining: 152ms\n",
      "858:\tlearn: 0.3517288\ttotal: 918ms\tremaining: 151ms\n",
      "859:\tlearn: 0.3512180\ttotal: 918ms\tremaining: 150ms\n",
      "860:\tlearn: 0.3503872\ttotal: 919ms\tremaining: 148ms\n",
      "861:\tlearn: 0.3493967\ttotal: 920ms\tremaining: 147ms\n",
      "862:\tlearn: 0.3486589\ttotal: 921ms\tremaining: 146ms\n",
      "863:\tlearn: 0.3485437\ttotal: 922ms\tremaining: 145ms\n",
      "864:\tlearn: 0.3478955\ttotal: 923ms\tremaining: 144ms\n",
      "865:\tlearn: 0.3472703\ttotal: 924ms\tremaining: 143ms\n",
      "866:\tlearn: 0.3466307\ttotal: 926ms\tremaining: 142ms\n",
      "867:\tlearn: 0.3460330\ttotal: 928ms\tremaining: 141ms\n",
      "868:\tlearn: 0.3453554\ttotal: 929ms\tremaining: 140ms\n",
      "869:\tlearn: 0.3446510\ttotal: 930ms\tremaining: 139ms\n",
      "870:\tlearn: 0.3443794\ttotal: 932ms\tremaining: 138ms\n",
      "871:\tlearn: 0.3438809\ttotal: 933ms\tremaining: 137ms\n",
      "872:\tlearn: 0.3430924\ttotal: 934ms\tremaining: 136ms\n",
      "873:\tlearn: 0.3428715\ttotal: 935ms\tremaining: 135ms\n",
      "874:\tlearn: 0.3423810\ttotal: 937ms\tremaining: 134ms\n",
      "875:\tlearn: 0.3416276\ttotal: 938ms\tremaining: 133ms\n",
      "876:\tlearn: 0.3411572\ttotal: 939ms\tremaining: 132ms\n",
      "877:\tlearn: 0.3410240\ttotal: 940ms\tremaining: 131ms\n",
      "878:\tlearn: 0.3407485\ttotal: 941ms\tremaining: 130ms\n",
      "879:\tlearn: 0.3397802\ttotal: 942ms\tremaining: 128ms\n",
      "880:\tlearn: 0.3395203\ttotal: 944ms\tremaining: 127ms\n",
      "881:\tlearn: 0.3394289\ttotal: 945ms\tremaining: 126ms\n",
      "882:\tlearn: 0.3389770\ttotal: 947ms\tremaining: 125ms\n",
      "883:\tlearn: 0.3385731\ttotal: 948ms\tremaining: 124ms\n",
      "884:\tlearn: 0.3379894\ttotal: 949ms\tremaining: 123ms\n",
      "885:\tlearn: 0.3378714\ttotal: 949ms\tremaining: 122ms\n",
      "886:\tlearn: 0.3373238\ttotal: 950ms\tremaining: 121ms\n",
      "887:\tlearn: 0.3371295\ttotal: 951ms\tremaining: 120ms\n",
      "888:\tlearn: 0.3369488\ttotal: 952ms\tremaining: 119ms\n",
      "889:\tlearn: 0.3366316\ttotal: 953ms\tremaining: 118ms\n",
      "890:\tlearn: 0.3364676\ttotal: 954ms\tremaining: 117ms\n",
      "891:\tlearn: 0.3358734\ttotal: 955ms\tremaining: 116ms\n",
      "892:\tlearn: 0.3351715\ttotal: 956ms\tremaining: 114ms\n",
      "893:\tlearn: 0.3348374\ttotal: 957ms\tremaining: 113ms\n",
      "894:\tlearn: 0.3346245\ttotal: 958ms\tremaining: 112ms\n",
      "895:\tlearn: 0.3340408\ttotal: 959ms\tremaining: 111ms\n",
      "896:\tlearn: 0.3336220\ttotal: 960ms\tremaining: 110ms\n",
      "897:\tlearn: 0.3334082\ttotal: 960ms\tremaining: 109ms\n",
      "898:\tlearn: 0.3326995\ttotal: 961ms\tremaining: 108ms\n",
      "899:\tlearn: 0.3317633\ttotal: 962ms\tremaining: 107ms\n",
      "900:\tlearn: 0.3311670\ttotal: 963ms\tremaining: 106ms\n",
      "901:\tlearn: 0.3309436\ttotal: 964ms\tremaining: 105ms\n",
      "902:\tlearn: 0.3306429\ttotal: 965ms\tremaining: 104ms\n",
      "903:\tlearn: 0.3304797\ttotal: 966ms\tremaining: 103ms\n",
      "904:\tlearn: 0.3303431\ttotal: 966ms\tremaining: 101ms\n",
      "905:\tlearn: 0.3299308\ttotal: 967ms\tremaining: 100ms\n",
      "906:\tlearn: 0.3296573\ttotal: 968ms\tremaining: 99.3ms\n",
      "907:\tlearn: 0.3290362\ttotal: 969ms\tremaining: 98.2ms\n",
      "908:\tlearn: 0.3281278\ttotal: 970ms\tremaining: 97.1ms\n",
      "909:\tlearn: 0.3275431\ttotal: 971ms\tremaining: 96.1ms\n",
      "910:\tlearn: 0.3274355\ttotal: 972ms\tremaining: 95ms\n",
      "911:\tlearn: 0.3268043\ttotal: 973ms\tremaining: 93.9ms\n",
      "912:\tlearn: 0.3266439\ttotal: 974ms\tremaining: 92.8ms\n",
      "913:\tlearn: 0.3261223\ttotal: 975ms\tremaining: 91.7ms\n",
      "914:\tlearn: 0.3255096\ttotal: 976ms\tremaining: 90.6ms\n",
      "915:\tlearn: 0.3253418\ttotal: 977ms\tremaining: 89.6ms\n",
      "916:\tlearn: 0.3249997\ttotal: 978ms\tremaining: 88.5ms\n",
      "917:\tlearn: 0.3247192\ttotal: 979ms\tremaining: 87.4ms\n",
      "918:\tlearn: 0.3241661\ttotal: 979ms\tremaining: 86.3ms\n",
      "919:\tlearn: 0.3239753\ttotal: 980ms\tremaining: 85.2ms\n",
      "920:\tlearn: 0.3237749\ttotal: 981ms\tremaining: 84.2ms\n",
      "921:\tlearn: 0.3231118\ttotal: 982ms\tremaining: 83.1ms\n",
      "922:\tlearn: 0.3223884\ttotal: 983ms\tremaining: 82ms\n",
      "923:\tlearn: 0.3219399\ttotal: 984ms\tremaining: 80.9ms\n",
      "924:\tlearn: 0.3216004\ttotal: 985ms\tremaining: 79.8ms\n",
      "925:\tlearn: 0.3213818\ttotal: 985ms\tremaining: 78.8ms\n",
      "926:\tlearn: 0.3209524\ttotal: 986ms\tremaining: 77.7ms\n",
      "927:\tlearn: 0.3203231\ttotal: 987ms\tremaining: 76.6ms\n",
      "928:\tlearn: 0.3196622\ttotal: 988ms\tremaining: 75.5ms\n",
      "929:\tlearn: 0.3191075\ttotal: 989ms\tremaining: 74.4ms\n",
      "930:\tlearn: 0.3187743\ttotal: 990ms\tremaining: 73.4ms\n",
      "931:\tlearn: 0.3185784\ttotal: 991ms\tremaining: 72.3ms\n",
      "932:\tlearn: 0.3184536\ttotal: 992ms\tremaining: 71.2ms\n",
      "933:\tlearn: 0.3182217\ttotal: 992ms\tremaining: 70.1ms\n",
      "934:\tlearn: 0.3176999\ttotal: 993ms\tremaining: 69.1ms\n",
      "935:\tlearn: 0.3176480\ttotal: 994ms\tremaining: 68ms\n",
      "936:\tlearn: 0.3171036\ttotal: 995ms\tremaining: 66.9ms\n",
      "937:\tlearn: 0.3165850\ttotal: 996ms\tremaining: 65.8ms\n",
      "938:\tlearn: 0.3158819\ttotal: 997ms\tremaining: 64.8ms\n",
      "939:\tlearn: 0.3151674\ttotal: 998ms\tremaining: 63.7ms\n",
      "940:\tlearn: 0.3150318\ttotal: 999ms\tremaining: 62.6ms\n",
      "941:\tlearn: 0.3146755\ttotal: 1000ms\tremaining: 61.6ms\n",
      "942:\tlearn: 0.3140999\ttotal: 1s\tremaining: 60.5ms\n",
      "943:\tlearn: 0.3137422\ttotal: 1s\tremaining: 59.4ms\n",
      "944:\tlearn: 0.3131698\ttotal: 1s\tremaining: 58.3ms\n",
      "945:\tlearn: 0.3126711\ttotal: 1s\tremaining: 57.3ms\n",
      "946:\tlearn: 0.3122632\ttotal: 1s\tremaining: 56.2ms\n",
      "947:\tlearn: 0.3118800\ttotal: 1s\tremaining: 55.1ms\n",
      "948:\tlearn: 0.3111807\ttotal: 1s\tremaining: 54.1ms\n",
      "949:\tlearn: 0.3109041\ttotal: 1.01s\tremaining: 53ms\n",
      "950:\tlearn: 0.3107831\ttotal: 1.01s\tremaining: 52ms\n",
      "951:\tlearn: 0.3104256\ttotal: 1.01s\tremaining: 50.9ms\n",
      "952:\tlearn: 0.3101294\ttotal: 1.01s\tremaining: 49.8ms\n",
      "953:\tlearn: 0.3098945\ttotal: 1.01s\tremaining: 48.8ms\n",
      "954:\tlearn: 0.3093800\ttotal: 1.01s\tremaining: 47.7ms\n",
      "955:\tlearn: 0.3088952\ttotal: 1.01s\tremaining: 46.6ms\n",
      "956:\tlearn: 0.3086389\ttotal: 1.01s\tremaining: 45.6ms\n",
      "957:\tlearn: 0.3085612\ttotal: 1.01s\tremaining: 44.5ms\n",
      "958:\tlearn: 0.3082343\ttotal: 1.01s\tremaining: 43.4ms\n",
      "959:\tlearn: 0.3076617\ttotal: 1.02s\tremaining: 42.4ms\n",
      "960:\tlearn: 0.3075757\ttotal: 1.02s\tremaining: 41.3ms\n",
      "961:\tlearn: 0.3071805\ttotal: 1.02s\tremaining: 40.2ms\n",
      "962:\tlearn: 0.3071039\ttotal: 1.02s\tremaining: 39.2ms\n",
      "963:\tlearn: 0.3068640\ttotal: 1.02s\tremaining: 38.1ms\n",
      "964:\tlearn: 0.3063687\ttotal: 1.02s\tremaining: 37ms\n",
      "965:\tlearn: 0.3062490\ttotal: 1.02s\tremaining: 36ms\n",
      "966:\tlearn: 0.3060639\ttotal: 1.02s\tremaining: 34.9ms\n",
      "967:\tlearn: 0.3053889\ttotal: 1.02s\tremaining: 33.8ms\n",
      "968:\tlearn: 0.3046827\ttotal: 1.02s\tremaining: 32.8ms\n",
      "969:\tlearn: 0.3042731\ttotal: 1.02s\tremaining: 31.7ms\n",
      "970:\tlearn: 0.3037349\ttotal: 1.03s\tremaining: 30.7ms\n",
      "971:\tlearn: 0.3031393\ttotal: 1.03s\tremaining: 29.6ms\n",
      "972:\tlearn: 0.3029566\ttotal: 1.03s\tremaining: 28.5ms\n",
      "973:\tlearn: 0.3027748\ttotal: 1.03s\tremaining: 27.5ms\n",
      "974:\tlearn: 0.3024762\ttotal: 1.03s\tremaining: 26.4ms\n",
      "975:\tlearn: 0.3024048\ttotal: 1.03s\tremaining: 25.3ms\n",
      "976:\tlearn: 0.3022879\ttotal: 1.03s\tremaining: 24.3ms\n",
      "977:\tlearn: 0.3020432\ttotal: 1.03s\tremaining: 23.2ms\n",
      "978:\tlearn: 0.3017961\ttotal: 1.03s\tremaining: 22.2ms\n",
      "979:\tlearn: 0.3017308\ttotal: 1.03s\tremaining: 21.1ms\n",
      "980:\tlearn: 0.3016446\ttotal: 1.03s\tremaining: 20ms\n",
      "981:\tlearn: 0.3012986\ttotal: 1.03s\tremaining: 19ms\n",
      "982:\tlearn: 0.3009994\ttotal: 1.04s\tremaining: 17.9ms\n",
      "983:\tlearn: 0.3007523\ttotal: 1.04s\tremaining: 16.9ms\n",
      "984:\tlearn: 0.3004668\ttotal: 1.04s\tremaining: 15.8ms\n",
      "985:\tlearn: 0.3001784\ttotal: 1.04s\tremaining: 14.8ms\n",
      "986:\tlearn: 0.2995236\ttotal: 1.04s\tremaining: 13.7ms\n",
      "987:\tlearn: 0.2990445\ttotal: 1.04s\tremaining: 12.6ms\n",
      "988:\tlearn: 0.2985185\ttotal: 1.04s\tremaining: 11.6ms\n",
      "989:\tlearn: 0.2983729\ttotal: 1.04s\tremaining: 10.5ms\n",
      "990:\tlearn: 0.2982934\ttotal: 1.04s\tremaining: 9.49ms\n",
      "991:\tlearn: 0.2981151\ttotal: 1.04s\tremaining: 8.43ms\n",
      "992:\tlearn: 0.2976895\ttotal: 1.05s\tremaining: 7.38ms\n",
      "993:\tlearn: 0.2972542\ttotal: 1.05s\tremaining: 6.32ms\n",
      "994:\tlearn: 0.2968635\ttotal: 1.05s\tremaining: 5.27ms\n",
      "995:\tlearn: 0.2967255\ttotal: 1.05s\tremaining: 4.21ms\n",
      "996:\tlearn: 0.2963119\ttotal: 1.05s\tremaining: 3.16ms\n",
      "997:\tlearn: 0.2957894\ttotal: 1.05s\tremaining: 2.1ms\n",
      "998:\tlearn: 0.2955456\ttotal: 1.05s\tremaining: 1.05ms\n",
      "999:\tlearn: 0.2951902\ttotal: 1.05s\tremaining: 0us\n"
     ]
    },
    {
     "data": {
      "text/plain": [
       "<catboost.core.CatBoostRegressor at 0x1a218e9190>"
      ]
     },
     "execution_count": 63,
     "metadata": {},
     "output_type": "execute_result"
    }
   ],
   "source": [
    "cb.fit(X_train,y_train)"
   ]
  },
  {
   "cell_type": "code",
   "execution_count": 64,
   "metadata": {
    "collapsed": false
   },
   "outputs": [
    {
     "data": {
      "text/plain": [
       "0.9933524627555478"
      ]
     },
     "execution_count": 64,
     "metadata": {},
     "output_type": "execute_result"
    }
   ],
   "source": [
    "cb.score(X_train,y_train)"
   ]
  },
  {
   "cell_type": "code",
   "execution_count": 65,
   "metadata": {
    "collapsed": false
   },
   "outputs": [
    {
     "data": {
      "text/plain": [
       "0.09"
      ]
     },
     "execution_count": 65,
     "metadata": {},
     "output_type": "execute_result"
    }
   ],
   "source": [
    "mean_squared_error(cb.predict(X_train),y_train).round(2)"
   ]
  },
  {
   "cell_type": "code",
   "execution_count": 66,
   "metadata": {
    "collapsed": false
   },
   "outputs": [
    {
     "data": {
      "text/plain": [
       "0.8987676419077852"
      ]
     },
     "execution_count": 66,
     "metadata": {},
     "output_type": "execute_result"
    }
   ],
   "source": [
    "cb.score(X_test,y_test)"
   ]
  },
  {
   "cell_type": "code",
   "execution_count": 67,
   "metadata": {
    "collapsed": false
   },
   "outputs": [
    {
     "data": {
      "text/plain": [
       "1.42"
      ]
     },
     "execution_count": 67,
     "metadata": {},
     "output_type": "execute_result"
    }
   ],
   "source": [
    "mean_squared_error(cb.predict(X_test),y_test).round(2)"
   ]
  },
  {
   "cell_type": "code",
   "execution_count": 68,
   "metadata": {
    "collapsed": false
   },
   "outputs": [
    {
     "name": "stdout",
     "output_type": "stream",
     "text": [
      "43 features, reduction of 2.27%\n"
     ]
    },
    {
     "data": {
      "image/png": "[encoded data removed]",
      "text/plain": [
       "<Figure size 1296x432 with 1 Axes>"
      ]
     },
     "metadata": {},
     "output_type": "display_data"
    }
   ],
   "source": [
    "plot_feature_importance(X_train.columns,cb.get_feature_importance())"
   ]
  },
  {
   "cell_type": "markdown",
   "metadata": {},
   "source": [
    "<span style=\"font-family: Courier New; background-color: #f80000; color: #000000; padding: 3px; \">CONCLUSIÓN</span>: Llegando al modelo que mejor ajusta, podemos observar que la variable \"contaminación del aire\" a pesar de no ser la más importante, es una variable clave en la esperanza de vida de la población mundial. Por tanto, podemos concluir que **la posibilidad de medir la \"contaminacion del aire\" en tiempo real, será un aporte de valor hacía la sociedad.**"
   ]
  },
  {
   "cell_type": "markdown",
   "metadata": {},
   "source": [
    "_____________"
   ]
  },
  {
   "cell_type": "markdown",
   "metadata": {},
   "source": [
    "## PARTE 2: Monitoreo en tiempo real de la **Contaminación del Aire**"
   ]
  },
  {
   "cell_type": "markdown",
   "metadata": {},
   "source": [
    "### 01 - Introducción: Air Polution"
   ]
  },
  {
   "cell_type": "markdown",
   "metadata": {},
   "source": [
    "   - El aire puro es una mezcla de varios gases como nitrógeno, oxígeno, argón, dióxido de carbono y pequeñas cantidades de otros gases en una proporción fija. Si la composición del aire se altera por algún medio, lo denominamos **contaminación del aire**, pudiendo provocar efectos en la salud humana, el medio ambiente y otras formas de vida (comprobaciíon objetivo de este análisis).  \n",
    "   \n",
    "\n",
    "   - Según la Ley del Aire (prevención y control de la contaminación) de 1981, **\"la contaminación del aire es la presencia de cualquier sustancia sólida, líquida o gaseosa en la atmósfera, en concentraciones que serán perjudiciales para los seres humanos u otras criaturas vivientes tales como plantas animales y elemnetos del medio ambiente\".**  \n",
    "   \n",
    "   \n",
    "   - La contaminación del aire se ha convertido en un grave problema y muchos de los países del mundo como Pakistán, Irán, India, Emiratos Árabes Unidos y China, entre otros, están formulando estrategias para enfrentarlo. Hay una serie de factores responsables de la composición alterada del aire ambiente que se pueden clasificar de diversas formas, aunque principalmente como **causas naturales y causas antropogénicas (artificiales).**"
   ]
  },
  {
   "cell_type": "markdown",
   "metadata": {},
   "source": [
    "### 02 - Clasificación de los \"Air Pollutants\""
   ]
  },
  {
   "cell_type": "markdown",
   "metadata": {},
   "source": [
    "Aunque existen diversos metodos de clasificación de los contaminantes del aire, intentaremos cubrirlas con el siguiente gráfico:"
   ]
  },
  {
   "cell_type": "markdown",
   "metadata": {},
   "source": [
    "<img src=\"Airp.png\"  align=\"center\" style=\"width: 700px;\"/>"
   ]
  },
  {
   "cell_type": "markdown",
   "metadata": {},
   "source": [
    "#### 02a - Let's \"deep dive\" en la clasificación por tamaño:"
   ]
  },
  {
   "cell_type": "markdown",
   "metadata": {},
   "source": [
    "<img src=\"Size.jpg\"  align=\"center\" style=\"width: 700px;\"/>"
   ]
  },
  {
   "cell_type": "markdown",
   "metadata": {},
   "source": [
    "#### 02b - ¿Porqué definir la fuente?"
   ]
  },
  {
   "cell_type": "markdown",
   "metadata": {},
   "source": [
    "Para mejorar el sistema de gestión de la calidad del aire, es importante conocer la fuente de contaminación y su contribución cuantitativa a la calidad del \"aire ambiente\". Esto puede hacerse a través del estudio de distribución de la fuente, pudiendo hacerce de dos maneras:\n",
    "\n",
    " - (i) Un enfoque **\"top-down\"** que comienza con el monitoreo de la contaminación.  \n",
    " \n",
    " \n",
    " - (ii) Un enfoque **\"bottom-up\"** comenzando con los datos de la actividad (como el consumo de combustible). \n",
    " \n",
    "El estudio de distribución de la fuente se basa en rastrear las fuentes a través del modelado de receptores y ayuda a identificar las mismas así como el grado de su aporte."
   ]
  },
  {
   "cell_type": "markdown",
   "metadata": {},
   "source": [
    "### 03 - National Ambient Air Quality Standards (NAAQS)"
   ]
  },
  {
   "cell_type": "markdown",
   "metadata": {},
   "source": [
    "Según la \"Environmental Protection Agency\" de EE. UU. (EPA), los **criteria pollutants** son los contaminantes del aire en partículas, oxidantes fotoquímicos y ozono a nivel del suelo, monóxido de carbono, óxidos de azufre, óxidos de nitrógeno y plomo. Estos contaminantes son responsables de causar graves peligros para la salud y peligros ambientales tales como como smog, lluvia ácida, etc. Dichos contaminantes se denominan **criteria pollutants** según la \"Ley de Aire Limpio de 1963\".    \n",
    "   \n",
    "   - Las fuentes y los efectos de los contaminantes criterio se muestran en la siguiente Tabla:"
   ]
  },
  {
   "cell_type": "markdown",
   "metadata": {},
   "source": [
    "<img src=\"Criteria1.jpg\"  align=\"center\" style=\"width: 550px;\"/>"
   ]
  },
  {
   "cell_type": "markdown",
   "metadata": {},
   "source": [
    "   - La EPA de EE. UU. establece **\"estándares nacionales de calidad del aire\"** basados parametros para la salud humana y/o el medio ambiente (caracterizaciones de información científica). Veamos el NAAQ 2009 en la siguiente tabla:"
   ]
  },
  {
   "cell_type": "markdown",
   "metadata": {},
   "source": [
    "<img src=\"NAAQ.jpg\"  align=\"center\" style=\"width: 600px;\"/>"
   ]
  },
  {
   "cell_type": "markdown",
   "metadata": {},
   "source": [
    "### 04 - AQI (Air Quality Index) / ICA (Índice de calidad del Aire)"
   ]
  },
  {
   "cell_type": "markdown",
   "metadata": {},
   "source": [
    "El **AQI/ICA** es un índice para la notificación de la calidad del aire a diario. Indica el grado de pureza o contaminación atmosférica y los efectos para la salud conexos que le podrían preocupar.   \n",
    "El **AQI/ICA** gira en torno a los efectos en la salud que usted puede sufrir en unas cuantas horas o días tras respirar aire contaminado.   \n",
    "La EPA calcula el **AQI/ICA** para cinco contaminantes atmosféricos principales reglamentados por la Ley del aire puro: ozono a nivel del suelo, contaminación por partículas, monóxido de carbono, dióxido de azufre y dióxido de nitrógeno. "
   ]
  },
  {
   "cell_type": "markdown",
   "metadata": {},
   "source": [
    "#### 04a - Definiciones"
   ]
  },
  {
   "cell_type": "markdown",
   "metadata": {},
   "source": [
    "   - **AQI (english) / ICA (español)**: Índice de calidad del aire.  \n",
    "\n",
    "   - **VL: Valor límite**: Es un nivel fijado basándose en conocimientos científicos, con el fin de evitar, prevenir o reducir los efectos nocivos para la salud humana, para el medio ambiente en su conjunto y demás bienes de cualquier naturaleza que debe alcanzarse en un periodo determinado y no superarse una vez alcanzado.  \n",
    "   \n",
    "   - **Índice global**: Se corresponderá con el mayor de los índices parciales obtenidos para cada contaminante.  \n",
    "\n",
    "   - **Índice parcial diario**: Es el índice obtenido para cada contaminante, asociando el valor 100 con la concentración que representa el valor límite, calculado con las concentraciones diarias u octohorarias de cada contaminante, en función de cómo esté expresado su valor límite, y con la peor de las concentraciones horarias del día en cuestión.  \n",
    "\n",
    "   - **Índice parcial horario**: Es el índice obtenido para cada contaminante, asociando el valor límite con la concentración que representa el valor límite horario de cada contaminante, obtenido teniendo en cuenta la más elevada de las concentraciones horarias de cada uno de los contaminantes."
   ]
  },
  {
   "cell_type": "markdown",
   "metadata": {},
   "source": [
    "#### 04b - ¿Cómo funciona el AQI? - Rango Cuantitativo"
   ]
  },
  {
   "cell_type": "markdown",
   "metadata": {},
   "source": [
    "El valor del índice estará comprendido entre 0 y >150 de modo que cuanto mayor sea el índice, peor será la calidad del aire.\n",
    "El criterio utilizado para asignar valores de concentración a los valores del índice, son los valores fijados en la legislación.  \n",
    "Así, el valor del índice 0 corresponderá a una concentración nula de contaminante, y el valor 100 estará asociado al valor límite fijado por las directivas para cada uno de los contaminantes legislados.  \n",
    "El valor del índice para cualquier otro valor de concentración, se obtendrá por **interpolación lineal**, por ser este la más sencilla y la más fácil de interpretar por el ciudadano.\n",
    "\n",
    "<span style=\"font-family: Courier New; background-color: #D3D3D3; color: #000000; padding: 3px; \">Como ejemplo, si el **Valor Límite** fijado para para la concentración de SO2 es de **125 µg/m3**  la relación entre el Indice **I** y la Concentración **X** para el SO2 es (no variará): **I**= 0,8 **X** (0,8 porque la pendiente de la recta es 100/125. valor límite del Indice/valor límite de concentración).</span>"
   ]
  },
  {
   "cell_type": "markdown",
   "metadata": {},
   "source": [
    "#### 04c - Interpretación del ICA / AQI - Rango cualitativo"
   ]
  },
  {
   "cell_type": "markdown",
   "metadata": {},
   "source": [
    "El objeto del AQI es ayudar a comprender el significado de la calidad del aire local para su salud.  \n",
    "A fin de facilitar su interpretación, el AQI se divide en seis categorías:"
   ]
  },
  {
   "cell_type": "markdown",
   "metadata": {},
   "source": [
    "<img src=\"AQI.gif\"  align=\"center\" style=\"width: 600px;\"/>"
   ]
  },
  {
   "cell_type": "markdown",
   "metadata": {},
   "source": [
    "Cada categoría se corresponde con un nivel diferente de preocupación para la salud. Los seis niveles de preocupación para la salud y su significado son:\n",
    "\n",
    "   - <span style=\"font-family: Courier New; background-color: #82b74b; color: #000000; padding: 3px; \">BUENO</span>: El AQI oscila entre 0 y 50. La calidad del aire se considera satisfactoria y la contaminación atmosférica presenta un riesgo escaso o nulo.\n",
    "   - <span style=\"font-family: Courier New; background-color: #ffcc5c; color: #000000; padding: 3px; \">MODERADO</span>: El AQI oscila entre 51 y 100. La calidad del aire es aceptable pero para algunos contaminantes podría existir una preocupación moderada para la salud de un grupo muy pequeño de personas. Por ejemplo, las personas que son excepcionalmente sensibles al ozono pueden padecer síntomas respiratorios.\n",
    "   - <span style=\"font-family: Courier New; background-color: #f87900; color: #000000; padding: 3px; \">INSALUBRE PARA GRUPOS SENSIBLES</span>: El AQI oscila entre 101 y 150. Si bien las personas en general no van a sufrir en esta gama del AQI, las personas con enfermedades pulmonares, los adultos mayores y los niños son más susceptibles a la exposición al ozono, mientras que las personas con cardiopatías y enfermedades pulmonares, los adultos mayores y los niños son más susceptibles a la presencia de partículas en el aire.\n",
    "   - <span style=\"font-family: Courier New; background-color: #f80000; color: #000000; padding: 3px; \">INSALUBRE</span>: El AQI oscila entre 151 y 200. Todos pueden comenzar a padecer efectos adversos para la salud y los miembros de los grupos sensibles pueden padecer efectos más graves.\n",
    "   - <span style=\"font-family: Courier New; background-color: #af85a7; color: #000000; padding: 3px; \">MUY INSALUBRE</span>: El AQI oscila entre 201 y 300. Esto desencadenaría una alerta sanitaria que implica que todos pueden padecer efectos más graves para la salud..\n",
    "   - <span style=\"font-family: Courier New; background-color: #98736a; color: #000000; padding: 3px; \">PELIGROSO</span>: El AQI es superior a 300. Esto desencadenaría una advertencia sanitaria de condiciones de emergencia. Son mayores las probabilidades de que toda la población esté afectada."
   ]
  },
  {
   "cell_type": "markdown",
   "metadata": {},
   "source": [
    "**PASO 1:** Importamos un dataset ejemplo con las mediciones de los 5 pollutants"
   ]
  },
  {
   "cell_type": "code",
   "execution_count": 69,
   "metadata": {
    "collapsed": true
   },
   "outputs": [],
   "source": [
    "df = pd.read_csv('Air_Quality_Terrassa.csv')"
   ]
  },
  {
   "cell_type": "markdown",
   "metadata": {},
   "source": [
    "    #### limpiamos un poco nuestro dataset"
   ]
  },
  {
   "cell_type": "code",
   "execution_count": 70,
   "metadata": {
    "collapsed": true
   },
   "outputs": [],
   "source": [
    "df = df.drop([973,974], axis=0)\n",
    "df.columns = ['fecha','date', 'year','month', \n",
    "              'day', 'so2', 'no','no2','o3','co','pm10','dades_pendent_veri']\n",
    "df = df.drop(['date'], axis=1)"
   ]
  },
  {
   "cell_type": "code",
   "execution_count": 71,
   "metadata": {
    "collapsed": true
   },
   "outputs": [],
   "source": [
    "df['no']=pd.to_numeric(df['no'], errors ='coerce')\n",
    "df['so2']=pd.to_numeric(df['so2'], errors ='coerce')\n",
    "df['no2']=pd.to_numeric(df['no2'], errors ='coerce')\n",
    "df['o3']=pd.to_numeric(df['o3'], errors ='coerce')\n",
    "df['co']=pd.to_numeric(df['co'], errors ='coerce')\n",
    "df['pm10']=pd.to_numeric(df['pm10'], errors ='coerce')"
   ]
  },
  {
   "cell_type": "code",
   "execution_count": 72,
   "metadata": {
    "collapsed": true
   },
   "outputs": [],
   "source": [
    "df = df.fillna(0)\n",
    "#df['fecha'] = pd.to_datetime(df['fecha'])\n",
    "df.drop(columns= 'dades_pendent_veri', inplace=True)"
   ]
  },
  {
   "cell_type": "code",
   "execution_count": 73,
   "metadata": {
    "collapsed": false
   },
   "outputs": [
    {
     "name": "stdout",
     "output_type": "stream",
     "text": [
      "<class 'pandas.core.frame.DataFrame'>\n",
      "Int64Index: 973 entries, 0 to 972\n",
      "Data columns (total 10 columns):\n",
      "fecha    973 non-null object\n",
      "year     973 non-null int64\n",
      "month    973 non-null int64\n",
      "day      973 non-null int64\n",
      "so2      973 non-null float64\n",
      "no       973 non-null float64\n",
      "no2      973 non-null float64\n",
      "o3       973 non-null float64\n",
      "co       973 non-null float64\n",
      "pm10     973 non-null float64\n",
      "dtypes: float64(6), int64(3), object(1)\n",
      "memory usage: 83.6+ KB\n"
     ]
    }
   ],
   "source": [
    "df.info()"
   ]
  },
  {
   "cell_type": "code",
   "execution_count": 74,
   "metadata": {
    "collapsed": false
   },
   "outputs": [
    {
     "data": {
      "text/html": [
       "<div>\n",
       "<style scoped>\n",
       "    .dataframe tbody tr th:only-of-type {\n",
       "        vertical-align: middle;\n",
       "    }\n",
       "\n",
       "    .dataframe tbody tr th {\n",
       "        vertical-align: top;\n",
       "    }\n",
       "\n",
       "    .dataframe thead th {\n",
       "        text-align: right;\n",
       "    }\n",
       "</style>\n",
       "<table border=\"1\" class=\"dataframe\">\n",
       "  <thead>\n",
       "    <tr style=\"text-align: right;\">\n",
       "      <th></th>\n",
       "      <th>fecha</th>\n",
       "      <th>year</th>\n",
       "      <th>month</th>\n",
       "      <th>day</th>\n",
       "      <th>so2</th>\n",
       "      <th>no</th>\n",
       "      <th>no2</th>\n",
       "      <th>o3</th>\n",
       "      <th>co</th>\n",
       "      <th>pm10</th>\n",
       "    </tr>\n",
       "  </thead>\n",
       "  <tbody>\n",
       "    <tr>\n",
       "      <td>0</td>\n",
       "      <td>01/01/2017</td>\n",
       "      <td>2017</td>\n",
       "      <td>1</td>\n",
       "      <td>1</td>\n",
       "      <td>1.0</td>\n",
       "      <td>16.0</td>\n",
       "      <td>32.0</td>\n",
       "      <td>21.0</td>\n",
       "      <td>0.0</td>\n",
       "      <td>18.0</td>\n",
       "    </tr>\n",
       "    <tr>\n",
       "      <td>1</td>\n",
       "      <td>02/01/2017</td>\n",
       "      <td>2017</td>\n",
       "      <td>1</td>\n",
       "      <td>2</td>\n",
       "      <td>1.0</td>\n",
       "      <td>24.0</td>\n",
       "      <td>40.0</td>\n",
       "      <td>21.0</td>\n",
       "      <td>0.0</td>\n",
       "      <td>24.0</td>\n",
       "    </tr>\n",
       "    <tr>\n",
       "      <td>2</td>\n",
       "      <td>03/01/2017</td>\n",
       "      <td>2017</td>\n",
       "      <td>1</td>\n",
       "      <td>3</td>\n",
       "      <td>2.0</td>\n",
       "      <td>60.0</td>\n",
       "      <td>47.0</td>\n",
       "      <td>12.0</td>\n",
       "      <td>0.0</td>\n",
       "      <td>38.0</td>\n",
       "    </tr>\n",
       "    <tr>\n",
       "      <td>3</td>\n",
       "      <td>04/01/2017</td>\n",
       "      <td>2017</td>\n",
       "      <td>1</td>\n",
       "      <td>4</td>\n",
       "      <td>1.0</td>\n",
       "      <td>22.0</td>\n",
       "      <td>40.0</td>\n",
       "      <td>21.0</td>\n",
       "      <td>0.0</td>\n",
       "      <td>25.0</td>\n",
       "    </tr>\n",
       "    <tr>\n",
       "      <td>4</td>\n",
       "      <td>05/01/2017</td>\n",
       "      <td>2017</td>\n",
       "      <td>1</td>\n",
       "      <td>5</td>\n",
       "      <td>2.0</td>\n",
       "      <td>42.0</td>\n",
       "      <td>52.0</td>\n",
       "      <td>19.0</td>\n",
       "      <td>0.0</td>\n",
       "      <td>30.0</td>\n",
       "    </tr>\n",
       "  </tbody>\n",
       "</table>\n",
       "</div>"
      ],
      "text/plain": [
       "        fecha  year  month  day  so2    no   no2    o3   co  pm10\n",
       "0  01/01/2017  2017      1    1  1.0  16.0  32.0  21.0  0.0  18.0\n",
       "1  02/01/2017  2017      1    2  1.0  24.0  40.0  21.0  0.0  24.0\n",
       "2  03/01/2017  2017      1    3  2.0  60.0  47.0  12.0  0.0  38.0\n",
       "3  04/01/2017  2017      1    4  1.0  22.0  40.0  21.0  0.0  25.0\n",
       "4  05/01/2017  2017      1    5  2.0  42.0  52.0  19.0  0.0  30.0"
      ]
     },
     "execution_count": 74,
     "metadata": {},
     "output_type": "execute_result"
    }
   ],
   "source": [
    "df.head()"
   ]
  },
  {
   "cell_type": "markdown",
   "metadata": {},
   "source": [
    "**PASO 2:** Importamos un dataset ejemplo con las mediciones de los 5 pollutants Generamos un ejemplo de como podrian ingresar las lecturas en tiempo real y nuestra formula calcularía con ellos el índice de contaminación del áire."
   ]
  },
  {
   "cell_type": "code",
   "execution_count": 75,
   "metadata": {
    "collapsed": true
   },
   "outputs": [],
   "source": [
    "example = df.head(1)"
   ]
  },
  {
   "cell_type": "code",
   "execution_count": 79,
   "metadata": {
    "collapsed": true
   },
   "outputs": [],
   "source": [
    "def getAQI(data, vl = {'so2': 0.80, 'no2':0.4 , 'pm10': 2, 'o3': 0.83, 'co': 0.1, 'no':0.3}):\n",
    "    '''\n",
    "    This function returns the AQI based on the values of criteria pollutants given and\n",
    "    it tresholds.\n",
    "    >>> data: [dataframe] dataset with criteria pollutants values.\n",
    "    >>> vl: [dic {}] dictionary with the multiplication factor for each pollutant.\n",
    "    --------------------------------------------------------------\n",
    "    <<< vl: [dic {}] dictionary with the date and the corresponding AQI.\n",
    "    ''' \n",
    "    AQI = {}\n",
    "    for i in data.index:\n",
    "        line = data.loc[i]\n",
    "        index = []\n",
    "        counter = 4\n",
    "        for j in line[4:9]:\n",
    "            index.append(j * vl[data.columns[counter]])\n",
    "            counter += 1\n",
    "            for k in index:\n",
    "                AQI[data['fecha'][i]] = max(index).round(2)\n",
    "    return AQI       "
   ]
  },
  {
   "cell_type": "code",
   "execution_count": 80,
   "metadata": {
    "collapsed": false
   },
   "outputs": [
    {
     "name": "stdout",
     "output_type": "stream",
     "text": [
      "Help on function getAQI in module __main__:\n",
      "\n",
      "getAQI(data, vl={'so2': 0.8, 'no2': 0.4, 'pm10': 2, 'o3': 0.83, 'co': 0.1, 'no': 0.3})\n",
      "    This function returns the AQI based on the values of criteria pollutants given and\n",
      "    it tresholds.\n",
      "    >>> data: [dataframe] dataset with criteria pollutants values.\n",
      "    >>> vl: [dic {}] dictionary with the multiplication factor for each pollutant.\n",
      "    --------------------------------------------------------------\n",
      "    <<< vl: [dic {}] dictionary with the date and the corresponding AQI.\n",
      "\n"
     ]
    }
   ],
   "source": [
    "help(getAQI)"
   ]
  },
  {
   "cell_type": "code",
   "execution_count": 81,
   "metadata": {
    "collapsed": false
   },
   "outputs": [
    {
     "data": {
      "text/plain": [
       "{'01/01/2017': 17.43}"
      ]
     },
     "execution_count": 81,
     "metadata": {},
     "output_type": "execute_result"
    }
   ],
   "source": [
    "#aplicamos nuestra finción para obtener el resultado esperado\n",
    "getAQI(example)"
   ]
  },
  {
   "cell_type": "markdown",
   "metadata": {},
   "source": [
    "______"
   ]
  }
 ],
 "metadata": {
  "kernelspec": {
   "display_name": "Python 2",
   "language": "python",
   "name": "python2"
  },
  "language_info": {
   "codemirror_mode": {
    "name": "ipython",
    "version": 2
   },
   "file_extension": ".py",
   "mimetype": "text/x-python",
   "name": "python",
   "nbconvert_exporter": "python",
   "pygments_lexer": "ipython2",
   "version": "2.7.9"
  }
 },
 "nbformat": 4,
 "nbformat_minor": 2
}
